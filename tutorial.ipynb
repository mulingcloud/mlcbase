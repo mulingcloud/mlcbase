{
 "cells": [
  {
   "cell_type": "markdown",
   "metadata": {},
   "source": [
    "# MLCBase Tutorial\n",
    "\n",
    "[![PyPI](https://img.shields.io/pypi/v/mlcbase)](https://pypi.org/project/mlcbase/) &nbsp;\n",
    "[![license](https://img.shields.io/github/license/wmchen/mlcbase.svg)](https://www.apache.org/licenses/LICENSE-2.0)\n",
    "\n",
    "**MLCBase** is the base module of all MuLingCloud modules and applications, which contains various of features.\n",
    "\n",
    "This tutorial will help you quickly getting started with **mlcbase**."
   ]
  },
  {
   "cell_type": "markdown",
   "metadata": {},
   "source": [
    "## Preparation"
   ]
  },
  {
   "cell_type": "markdown",
   "metadata": {},
   "source": [
    "Before use **mlcbase**, you need to install it by executing `pip install mlcbase`.\n",
    "\n",
    "Supported Platforms: \n",
    "- 😄 Windows (Python 3.6+)\n",
    "- 😄 Linux (Python 3.7+)\n",
    "- MacOS (untested, maybe. I don't have a MacOS machine😫. Anyone can help me?)"
   ]
  },
  {
   "cell_type": "code",
   "execution_count": 1,
   "metadata": {},
   "outputs": [],
   "source": [
    "%pip install mlcbase"
   ]
  },
  {
   "cell_type": "markdown",
   "metadata": {},
   "source": [
    "## Tutorial Contents\n",
    "- [Config Dictionary](./tutorial/tutorial_config_dict.ipynb)\n",
    "- [Logger](./tutorial/tutorial_logger.ipynb)\n",
    "- [Runtime Analysis](./tutorial/tutorial_runtime_analysis.ipynb)\n",
    "- [File Operations](./tutorial/tutorial_file_operation.ipynb)\n",
    "- [Load and Save](./tutorial/tutorial_loading.ipynb)\n",
    "- [Image IO](./tutorial/tutorial_image_io.ipynb)\n",
    "- [One-Time Password](./tutorial/tutorial_otp.ipynb)\n",
    "- [Encryption and Decryption](./tutorial/tutorial_encrypt_decrypt.ipynb)\n",
    "- [Database](./tutorial/tutorial_database.ipynb)\n",
    "- [Remote Connection](./tutorial/tutorial_remote_connection.ipynb)\n",
    "- [Email](./tutorial/tutorial_email.ipynb)\n",
    "- [Vault](./tutorial/tutorial_vault.ipynb)"
   ]
  }
 ],
 "metadata": {
  "kernelspec": {
   "display_name": "mlc_base_py310",
   "language": "python",
   "name": "python3"
  },
  "language_info": {
   "codemirror_mode": {
    "name": "ipython",
    "version": 3
   },
   "file_extension": ".py",
   "mimetype": "text/x-python",
   "name": "python",
   "nbconvert_exporter": "python",
   "pygments_lexer": "ipython3",
   "version": "3.10.13"
  }
 },
 "nbformat": 4,
 "nbformat_minor": 2
}
