{
 "cells": [
  {
   "cell_type": "markdown",
   "metadata": {},
   "source": [
    "# Tutorial for File Operation Features in MLCBase\n",
    "\n",
    "[![PyPI](https://img.shields.io/pypi/v/mlcbase)](https://pypi.org/project/mlcbase/) &nbsp;\n",
    "[![license](https://img.shields.io/github/license/wmchen/mlcbase.svg)](https://www.apache.org/licenses/LICENSE-2.0)\n",
    "\n",
    "Author: [Weiming Chen](https://weimingchen.net) and [Yuanshuang Sun](https://www.mulingcloud.com/author/yuanshuang-sun/)"
   ]
  },
  {
   "cell_type": "markdown",
   "metadata": {},
   "source": [
    "## Introduction\n",
    "\n",
    "We offer various features to make file operations easier."
   ]
  },
  {
   "cell_type": "code",
   "execution_count": null,
   "metadata": {},
   "outputs": [],
   "source": [
    "import sys\n",
    "sys.path.append(\"../src\")\n",
    "from mlcbase import Logger, create, remove, listdir, get_file_size, get_dir_size, get_meta_info\n",
    "\n",
    "logger = Logger()\n",
    "logger.init_logger()"
   ]
  },
  {
   "cell_type": "markdown",
   "metadata": {},
   "source": [
    "## 1. Create\n",
    "\n",
    "We offer a simple way to create a file, a directory, or a symbolic link by calling `create()`.\n",
    "\n",
    "We are trying help you get rid of the annoyance caused by the inconsistency issue of different file types.\n",
    "\n",
    "Our final target is that all you need is to provide a file path, and we will do everthing extra for you.\n",
    "\n",
    "Here are some examples as follows.\n",
    "\n",
    "### Arguments\n",
    "\n",
    "| args | type | remark |\n",
    "| :--- | :--- | :----- |\n",
    "| `path` | PathLikeType | The path you want to create |\n",
    "| `ftype` | str | The target file type. Options including \"auto\", \"file\", \"dir\", \"symlink\". Defaults to \"auto\" |\n",
    "| `src` | Optional[PathLikeType] | The source of a symbolic link. Defaults to None |\n",
    "| `exist_ok` | bool | Defaults to True |\n",
    "| `overwrite` | bool | Defaults to False |\n",
    "| `logger` | Optional[Logger] | Defaults to None |\n",
    "| `kwargs` | dict | other arguments wrapped in dict |\n",
    "\n",
    "If `ftype` is \"auto\", we will try our best to predict the file type that you want to create. \n",
    "\n",
    "If `ftype` is \"file\", it will create a file.\n",
    "\n",
    "If `ftype` is \"dir\", it will create a directory.\n",
    "\n",
    "If `ftype` is \"symlink\", it will create a symbolic link (`dst` is required when creating a symbolic link).\n",
    "\n",
    "If `exist_ok` is True, it will skip creating if the file/directory/link already exists.\n",
    "\n",
    "If `overwrite` is True, it may overwrite the existing file/directory/link by deleting the existing one and creating a new one.\n",
    "\n",
    "\n",
    "### Return\n",
    "\n",
    "It returns True if success, otherwise return False"
   ]
  },
  {
   "cell_type": "code",
   "execution_count": null,
   "metadata": {},
   "outputs": [],
   "source": [
    "# Case 1: create a directory\n",
    "create(\"./examples/testdir\", logger=logger)"
   ]
  },
  {
   "cell_type": "code",
   "execution_count": null,
   "metadata": {},
   "outputs": [],
   "source": [
    "# Case 2: create a file\n",
    "create(\"./examples/testdir/testfile.txt\", logger=logger)"
   ]
  },
  {
   "cell_type": "code",
   "execution_count": null,
   "metadata": {},
   "outputs": [],
   "source": [
    "# Case 3: create a symbolic link (may need administrator privileges on Windows)\n",
    "create(\"./examples/testdir/testlink\", src=\"./examples/YOLOv9.pdf\", logger=logger)"
   ]
  },
  {
   "cell_type": "markdown",
   "metadata": {},
   "source": [
    "## 2. Remove\n",
    "\n",
    "Similar to create file/directory/symbolic link, we also try to let you can remove these types of file with a same command.\n",
    "\n",
    "Here are some examples as follows.\n",
    "\n",
    "### Arguments\n",
    "\n",
    "| args | type | remark |\n",
    "| :--- | :--- | :----- |\n",
    "| `path` | PathLikeType | The path you want to remove |\n",
    "| `logger` | Optional[Logger] | Defaults to None |\n",
    "\n",
    "### Return\n",
    "\n",
    "It returns True if success, otherwise return False"
   ]
  },
  {
   "cell_type": "code",
   "execution_count": null,
   "metadata": {},
   "outputs": [],
   "source": [
    "# Case 1: remove a file\n",
    "remove(\"./examples/testdir/testfile.txt\", logger=logger)"
   ]
  },
  {
   "cell_type": "code",
   "execution_count": null,
   "metadata": {},
   "outputs": [],
   "source": [
    "# Case 2: unlink a symbolic link\n",
    "remove(\"./examples/testdir/testlink\", logger=logger)"
   ]
  },
  {
   "cell_type": "code",
   "execution_count": null,
   "metadata": {},
   "outputs": [],
   "source": [
    "# Case 3: remove a directory\n",
    "remove(\"./examples/testdir\", logger=logger)"
   ]
  },
  {
   "cell_type": "markdown",
   "metadata": {},
   "source": [
    "## 3. List directory\n",
    "\n",
    "You can list the sub-files and sub-directories under a directory by calling `listdir()`.\n",
    "\n",
    "Here are some examples as follows.\n",
    "\n",
    "### Arguments\n",
    "\n",
    "| args | type | remark |\n",
    "| :--- | :--- | :----- |\n",
    "| `path` | PathLikeType | The path of the directory |\n",
    "| `sort_func` | Optional[callable] | The function that used to sort the result. Defaults to None |\n",
    "| `reverse` | bool | Whether to reverse the order of results. Defaults to False |\n",
    "| `return_path` | bool | To return the paths or filenames. Defaults to True |\n",
    "| `logger` | Optional[Logger] | Defaults to None |\n",
    "\n",
    "### Return\n",
    "\n",
    "It returns a list of paths or filenames if success, otherwise returns None"
   ]
  },
  {
   "cell_type": "markdown",
   "metadata": {},
   "source": [
    "Defaults to return the absolute paths of sub-files and sub-directories.\n",
    "\n",
    "You can set `return_path=False` to only return the name of sub-files and sub-directories."
   ]
  },
  {
   "cell_type": "code",
   "execution_count": null,
   "metadata": {},
   "outputs": [],
   "source": [
    "listdir(\"./examples\", logger=logger)"
   ]
  },
  {
   "cell_type": "code",
   "execution_count": null,
   "metadata": {},
   "outputs": [],
   "source": [
    "listdir(\"./examples\", return_path=False, logger=logger)"
   ]
  },
  {
   "cell_type": "markdown",
   "metadata": {},
   "source": [
    "You can specify the sort method manually by setting `sort_func`.\n",
    "\n",
    "In the following example, we sort the result by the suffix."
   ]
  },
  {
   "cell_type": "code",
   "execution_count": null,
   "metadata": {},
   "outputs": [],
   "source": [
    "listdir(\"./examples\", sort_func=lambda x: x.suffix, return_path=False, logger=logger)"
   ]
  },
  {
   "cell_type": "markdown",
   "metadata": {},
   "source": [
    "You can also reverse the order of results by setting `reverse=True`."
   ]
  },
  {
   "cell_type": "code",
   "execution_count": null,
   "metadata": {},
   "outputs": [],
   "source": [
    "listdir(\"./examples\", sort_func=lambda x: x.suffix, reverse=True, return_path=False, logger=logger)"
   ]
  },
  {
   "cell_type": "markdown",
   "metadata": {},
   "source": [
    "## 4. Get the size of a file\n",
    "\n",
    "You can get the size of a file by calling `get_file_size()`\n",
    "\n",
    "Take the research paper of YOLOv9 as an example, the file size is 4,968,643 bytes which is 4852.19 kilobytes and 4.73 megabytes.\n",
    "\n",
    "### Arguments\n",
    "\n",
    "| args | type | remark |\n",
    "| :--- | :--- | :----- |\n",
    "| `path` | PathLikeType | The path of the file |\n",
    "| `return_unit` | Optional[str] | Return a specific unit. Defaults to None |\n",
    "| `auto_unit` | bool | Whether to select a suitable unit automatically. Defaults to True |\n",
    "| `truncate_place` | bool | Truncated decimal places. Defaults to 2 |\n",
    "\n",
    "The `return_unit` arguments determines which unit do you perfer to return. Options including `B`-byte, `KB`-kilobyte, `MB`-megabyte, `GB`-gigabyte, `TB`-terabyte.\n",
    "\n",
    "If `auto_unit` is True, it will select a suitable unit automatically.\n",
    "\n",
    "The size vaule is not a integer at most of time, we use `truncate_place` to truncate decimal places (not rounding, but truncation).\n",
    "\n",
    "If `truncate_place` is None, it will return the precise size vaule (actually just we do not use truncation, the actual float precision depends on your device).\n",
    "\n",
    "### Return\n",
    "\n",
    "It returns a tuple composed with the size vaule and the corresponding unit"
   ]
  },
  {
   "cell_type": "code",
   "execution_count": null,
   "metadata": {},
   "outputs": [],
   "source": [
    "get_file_size(\"./examples/YOLOv9.pdf\")"
   ]
  },
  {
   "cell_type": "markdown",
   "metadata": {},
   "source": [
    "You can disable the auto-unit selection by setting `auto_unit=False`."
   ]
  },
  {
   "cell_type": "code",
   "execution_count": null,
   "metadata": {},
   "outputs": [],
   "source": [
    "get_file_size(\"./examples/YOLOv9.pdf\", auto_unit=False)"
   ]
  },
  {
   "cell_type": "markdown",
   "metadata": {},
   "source": [
    "You can also set the unit manually, by setting `return_unit` to the unit you want. Supported units are: `B, KB, MB, GB, TB` (in lower case is also OK)"
   ]
  },
  {
   "cell_type": "code",
   "execution_count": null,
   "metadata": {},
   "outputs": [],
   "source": [
    "get_file_size(\"./examples/YOLOv9.pdf\", return_unit=\"KB\")"
   ]
  },
  {
   "cell_type": "markdown",
   "metadata": {},
   "source": [
    "You can also set the number of decimal places manually, by setting `truncate_place` to the number of decimal places you want.\n",
    "\n",
    "Note that if you set `truncate_place=None`, the file size will not be truncated. But the actual float precision depends on your device."
   ]
  },
  {
   "cell_type": "code",
   "execution_count": null,
   "metadata": {},
   "outputs": [],
   "source": [
    "get_file_size(\"./examples/YOLOv9.pdf\", truncate_place=4)"
   ]
  },
  {
   "cell_type": "code",
   "execution_count": null,
   "metadata": {},
   "outputs": [],
   "source": [
    "get_file_size(\"./examples/YOLOv9.pdf\", truncate_place=None)"
   ]
  },
  {
   "cell_type": "markdown",
   "metadata": {},
   "source": [
    "## 5. Get the size of a directory\n",
    "\n",
    "You can get the size of a file by calling `get_dir_size()`\n",
    "\n",
    "The usage of getting directory size is the same as getting file size.\n",
    "\n",
    "### Arguments\n",
    "\n",
    "| args | type | remark |\n",
    "| :--- | :--- | :----- |\n",
    "| `path` | PathLikeType | The path of the directory |\n",
    "| `return_unit` | Optional[str] | Return a specific unit. Defaults to None |\n",
    "| `auto_unit` | bool | Whether to select a suitable unit automatically. Defaults to True |\n",
    "| `truncate_place` | bool | Truncated decimal places. Defaults to 2 |\n",
    "\n",
    "### Return\n",
    "\n",
    "It returns a tuple composed with the size vaule and the corresponding unit"
   ]
  },
  {
   "cell_type": "code",
   "execution_count": null,
   "metadata": {},
   "outputs": [],
   "source": [
    "get_dir_size(\"./examples\")"
   ]
  },
  {
   "cell_type": "markdown",
   "metadata": {},
   "source": [
    "## 6. Get meta information\n",
    "\n",
    "You can get the meta information of a file/directory/symbolic link by calling `get_meta_info`.\n",
    "\n",
    "Meta information including:\n",
    "- path\n",
    "- filename\n",
    "- suffix\n",
    "- type (file, directory, symbolic link)\n",
    "- size (only file/directory has)\n",
    "- source (only symbolic link has)\n",
    "- create time\n",
    "- last access time\n",
    "- last modify time\n",
    "\n",
    "### Arguments\n",
    "\n",
    "| args | type | remark |\n",
    "| :--- | :--- | :----- |\n",
    "| `path` | PathLikeType | The path of the file/directory/symbolic link |\n",
    "\n",
    "### Return\n",
    "\n",
    "It returns the meta information as a ConfigDict."
   ]
  },
  {
   "cell_type": "code",
   "execution_count": null,
   "metadata": {},
   "outputs": [],
   "source": [
    "# Case 1: get meta information of a file\n",
    "get_meta_info(\"./examples/YOLOv9.pdf\")"
   ]
  },
  {
   "cell_type": "code",
   "execution_count": null,
   "metadata": {},
   "outputs": [],
   "source": [
    "# Case 2: get meta information of a directory\n",
    "get_meta_info(\"./examples\")"
   ]
  },
  {
   "cell_type": "code",
   "execution_count": null,
   "metadata": {},
   "outputs": [],
   "source": [
    "# Case 3: get meta information of a symbolic link\n",
    "create(\"./examples/testlink\", src=\"./examples/YOLOv9.pdf\", logger=logger)\n",
    "get_meta_info(\"./examples/testlink\")"
   ]
  }
 ],
 "metadata": {
  "kernelspec": {
   "display_name": "mlcbase_py38",
   "language": "python",
   "name": "python3"
  },
  "language_info": {
   "codemirror_mode": {
    "name": "ipython",
    "version": 3
   },
   "file_extension": ".py",
   "mimetype": "text/x-python",
   "name": "python",
   "nbconvert_exporter": "python",
   "pygments_lexer": "ipython3",
   "version": "3.8.19"
  }
 },
 "nbformat": 4,
 "nbformat_minor": 2
}
