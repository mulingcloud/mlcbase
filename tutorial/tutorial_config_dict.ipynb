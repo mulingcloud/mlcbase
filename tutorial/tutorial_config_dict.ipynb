{
 "cells": [
  {
   "cell_type": "markdown",
   "metadata": {},
   "source": [
    "# Tutorial for ConfigDict Features in MLCBase\n",
    "\n",
    "[![PyPI](https://img.shields.io/pypi/v/mlcbase)](https://pypi.org/project/mlcbase/) &nbsp;\n",
    "[![license](https://img.shields.io/github/license/wmchen/mlcbase.svg)](https://www.apache.org/licenses/LICENSE-2.0)\n",
    "\n",
    "Author: [Weiming Chen](https://weimingchen.net) and [Yuanshuang Sun](https://www.mulingcloud.com/author/yuanshuang-sun/)"
   ]
  },
  {
   "cell_type": "markdown",
   "metadata": {},
   "source": [
    "## Introduction\n",
    "\n",
    "`ConfigDict` is a type of dictionary inherited from `dict`, it has all the features of `dict` while including other more convenient features."
   ]
  },
  {
   "cell_type": "code",
   "execution_count": 1,
   "metadata": {},
   "outputs": [
    {
     "name": "stdout",
     "output_type": "stream",
     "text": [
      "\n",
      "👋 \u001b[34mWelcome to use \u001b[31mMuLingCloud\u001b[34m. We aim to let everything easier.\u001b[34m\n",
      "\n",
      "📍 \u001b[33mmlcbase (1.2.8) imported\u001b[39m\n",
      "\n"
     ]
    }
   ],
   "source": [
    "import sys\n",
    "sys.path.append(\"../src\")\n",
    "from mlcbase import ConfigDict, is_config_dict, is_dict"
   ]
  },
  {
   "cell_type": "markdown",
   "metadata": {},
   "source": [
    "In the following example, we define a `ConfigDict` named `cfg_dict` and a `dict` named `info_dict`.\n",
    "\n",
    "Note that the key of \"education\" in `cfg_dict` is define as a `dict`, but it will be wrapper into the type of `ConfigDict` automatically."
   ]
  },
  {
   "cell_type": "code",
   "execution_count": 2,
   "metadata": {},
   "outputs": [],
   "source": [
    "cfg_dict = ConfigDict(name=\"Weiming Chen\", \n",
    "                      gender=\"male\", \n",
    "                      title=\"Originator & Leader\",\n",
    "                      MID=\"MLC0001\",\n",
    "                      education=dict(bachlor=dict(school=\"Xidian University\",\n",
    "                                                  major=\"Mechanical Design Manufacture and Automation\",\n",
    "                                                  duration=\"2015-2019\"),\n",
    "                                     master=dict(school=\"Xidian University\",\n",
    "                                                 major=\"Electronic Science and Technology\",\n",
    "                                                 duration=\"2020-2023\"),\n",
    "                                     PhD=dict(school=\"Southern University of Science and Technology\",\n",
    "                                              major=\"Intelligent Manufacturing and Robotics\",\n",
    "                                              duration=\"2023-present\")),\n",
    "                      homepage=\"https://weimingchen.net\",\n",
    "                      email=\"chenwm2023@mail.sustech.edu.cn\")\n",
    "\n",
    "info_dict = dict(name=\"Weiming Chen\", \n",
    "                 gender=\"male\", \n",
    "                 title=\"Originator & Leader\",\n",
    "                 MID=\"MLC0001\",\n",
    "                 education=dict(bachlor=dict(school=\"Xidian University\",\n",
    "                                             major=\"Mechanical Design Manufacture and Automation\",\n",
    "                                             duration=\"2015-2019\"),\n",
    "                                master=dict(school=\"Xidian University\",\n",
    "                                            major=\"Electronic Science and Technology\",\n",
    "                                            duration=\"2020-2023\"),\n",
    "                                PhD=dict(school=\"Southern University of Science and Technology\",\n",
    "                                         major=\"Intelligent Manufacturing and Robotics\",\n",
    "                                         duration=\"2023-present\")),\n",
    "                 homepage=\"https://weimingchen.net\",\n",
    "                 email=\"chenwm2023@mail.sustech.edu.cn\")"
   ]
  },
  {
   "cell_type": "markdown",
   "metadata": {},
   "source": [
    "## Type\n",
    "\n",
    "`ConfigDict` is a type of dictionary inherit from `dict`, thus `ConfigDict` is `dict` type but `dict` is not `ConfigDict` type.\n",
    "\n",
    "You can judge if the data is the type of `ConfigDict` by calling `is_config_dict()`, and judge if the data is the type of `dict` by calling `is_dict()`"
   ]
  },
  {
   "cell_type": "code",
   "execution_count": 3,
   "metadata": {},
   "outputs": [
    {
     "name": "stdout",
     "output_type": "stream",
     "text": [
      "True\n",
      "True\n"
     ]
    }
   ],
   "source": [
    "print(is_dict(cfg_dict))\n",
    "print(is_config_dict(cfg_dict))"
   ]
  },
  {
   "cell_type": "code",
   "execution_count": 4,
   "metadata": {},
   "outputs": [
    {
     "name": "stdout",
     "output_type": "stream",
     "text": [
      "True\n",
      "False\n"
     ]
    }
   ],
   "source": [
    "print(is_dict(info_dict))\n",
    "print(is_config_dict(info_dict))"
   ]
  },
  {
   "cell_type": "markdown",
   "metadata": {},
   "source": [
    "Besides, although the key of \"education\" in `cfg_dict` is define as a `dict`, but it will be wrapper into the type of `ConfigDict` automatically."
   ]
  },
  {
   "cell_type": "code",
   "execution_count": 5,
   "metadata": {},
   "outputs": [
    {
     "name": "stdout",
     "output_type": "stream",
     "text": [
      "True\n"
     ]
    }
   ],
   "source": [
    "print(is_config_dict(cfg_dict.education))"
   ]
  },
  {
   "cell_type": "markdown",
   "metadata": {},
   "source": [
    "## Access method\n",
    "\n",
    "For example, you can use both `cfg_dict.name` and `cfg_dict[\"name\"]` to get my name, but `info_dict.name` will raise an error."
   ]
  },
  {
   "cell_type": "code",
   "execution_count": 6,
   "metadata": {},
   "outputs": [
    {
     "name": "stdout",
     "output_type": "stream",
     "text": [
      "Weiming Chen\n",
      "Weiming Chen\n",
      "Weiming Chen\n",
      "raise an error: 'dict' object has no attribute 'name'\n"
     ]
    }
   ],
   "source": [
    "print(cfg_dict[\"name\"])\n",
    "print(cfg_dict.name)\n",
    "\n",
    "print(info_dict[\"name\"])\n",
    "try:\n",
    "    print(info_dict.name)  # raise an error\n",
    "except Exception as e:\n",
    "    print(f\"raise an error: {str(e)}\")"
   ]
  },
  {
   "cell_type": "markdown",
   "metadata": {},
   "source": [
    "Besides, if you trying to access a non-exist key, it will return `None` rather than raise an error."
   ]
  },
  {
   "cell_type": "code",
   "execution_count": 7,
   "metadata": {},
   "outputs": [
    {
     "name": "stdout",
     "output_type": "stream",
     "text": [
      "None\n",
      "None\n",
      "raise an error: 'phone'\n"
     ]
    }
   ],
   "source": [
    "print(cfg_dict.phone)\n",
    "print(cfg_dict[\"phone\"])\n",
    "\n",
    "try:\n",
    "    print(info_dict[\"phone\"])  # raise an error\n",
    "except Exception as e:\n",
    "    print(f\"raise an error: {str(e)}\")"
   ]
  }
 ],
 "metadata": {
  "kernelspec": {
   "display_name": "mlcbase_dev",
   "language": "python",
   "name": "python3"
  },
  "language_info": {
   "codemirror_mode": {
    "name": "ipython",
    "version": 3
   },
   "file_extension": ".py",
   "mimetype": "text/x-python",
   "name": "python",
   "nbconvert_exporter": "python",
   "pygments_lexer": "ipython3",
   "version": "3.13.0"
  }
 },
 "nbformat": 4,
 "nbformat_minor": 2
}
