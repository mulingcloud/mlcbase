{
 "cells": [
  {
   "cell_type": "markdown",
   "metadata": {},
   "source": [
    "# Tutorial for Encryption and Decryption Features in MLCBase\n",
    "\n",
    "[![PyPI](https://img.shields.io/pypi/v/mlcbase)](https://pypi.org/project/mlcbase/) &nbsp;\n",
    "[![license](https://img.shields.io/github/license/wmchen/mlcbase.svg)](https://www.apache.org/licenses/LICENSE-2.0)\n",
    "\n",
    "Author: [Weiming Chen](https://weimingchen.net) and [Yuanshuang Sun](https://www.mulingcloud.com/author/yuanshuang-sun/)"
   ]
  },
  {
   "cell_type": "markdown",
   "metadata": {},
   "source": [
    "## Introduction\n",
    "\n",
    "We offer various methods to encrypt and decrypt or verify text, files and passwords including RSA, AES and Hash."
   ]
  },
  {
   "cell_type": "code",
   "execution_count": 1,
   "metadata": {},
   "outputs": [
    {
     "name": "stdout",
     "output_type": "stream",
     "text": [
      "\n",
      "👋 \u001b[34mWelcome to use \u001b[31mMuLingCloud\u001b[34m. We aim to let everything easier.\u001b[34m\n",
      "\n",
      "📍 \u001b[33mmlcbase (1.2.0.dev.202405) imported\u001b[39m\n",
      "\n"
     ]
    }
   ],
   "source": [
    "import sys\n",
    "sys.path.append(\"../src\")\n",
    "from datetime import datetime\n",
    "from mlcbase import (Logger, create_rsa_keys, rsa_encrypt_text, rsa_decrypt_text, rsa_sign_text,\n",
    "                     rsa_verify_signature, rsa_encrypt_file, rsa_decrypt_file, aes_encrypt_text, \n",
    "                     aes_decrypt_text, aes_entrypt_file, aes_decrypt_file, encrypt_password, \n",
    "                     verify_password, wrap_module_timer, runtime_analysis, delete_register_modules, \n",
    "                     random_hex)\n",
    "\n",
    "logger = Logger()\n",
    "logger.init_logger()"
   ]
  },
  {
   "cell_type": "markdown",
   "metadata": {},
   "source": [
    "## 1. RSA"
   ]
  },
  {
   "cell_type": "markdown",
   "metadata": {},
   "source": [
    "### 1.1 Create RSA keys\n",
    "\n",
    "You can create a pair of RSA public and private keys by calling `create_rsa_keys()`.\n",
    "\n",
    "#### Arguments\n",
    "\n",
    "| args | type | remark |\n",
    "| :--- | :--- | :----- |\n",
    "| `public_path` | Optional[PathLikeType] | The path you want to save the public key. Defaults to None |\n",
    "| `private_path` | Optional[PathLikeType] | The path you want to save the private key. Defaults to None |\n",
    "| `key_length` | int | The length of key. Defaults to 2048 |\n",
    "| `return_keys` | bool | Defaults to True |\n",
    "\n",
    "We force the `key_length` must be larger or equal to 2048 for safety resons.\n",
    "\n",
    "Common options of `key_length` including 2048, 3072, and 4096.\n",
    "\n",
    "#### Return\n",
    "\n",
    "It returns a pair of RSA public and private keys in tuple i.e. `(public_key, private_key)` if `return_keys` is True, otherwise returns None."
   ]
  },
  {
   "cell_type": "code",
   "execution_count": 2,
   "metadata": {},
   "outputs": [],
   "source": [
    "create_rsa_keys(public_path=\"./examples/public.pem\", private_path=\"./examples/private.pem\")"
   ]
  },
  {
   "cell_type": "markdown",
   "metadata": {},
   "source": [
    "Besides, you can set `return_keys=True` to return the keys."
   ]
  },
  {
   "cell_type": "markdown",
   "metadata": {},
   "source": [
    "### 1.2 Encrypt a plain text\n",
    "\n",
    "You can use the public key to encrypt a plain text by calling `rsa_encrypt_text()`.\n",
    "\n",
    "#### Arguments\n",
    "\n",
    "| args | type | remark |\n",
    "| :--- | :--- | :----- |\n",
    "| `plain_text` | Union[str, bytes] | The plain text waiting for encryption, which can be the type of `str` or `bytes` |\n",
    "| `public_key` | Union[bytes, PathLikeType] | The public key |\n",
    "| `key_length` | int | The length of key. Defaults to 2048 |\n",
    "| `num_threads` | int | The number of threads to use. Defaults to 1 |\n",
    "| `encoding` | str | The encoding method. Defaults to \"utf-8\" |\n",
    "\n",
    "The `public_key` can be the path of the public key, and also can be the content of the public key in bytes.\n",
    "\n",
    "If `num_threads` larger than 1, it will use multithreading to accelerate the encryption.\n",
    "\n",
    "However, the performance of multithreading is far from expectation due to the GIL of Python.\n",
    "\n",
    "#### Return\n",
    "\n",
    "It returns the cipher text in bytes if the plain text in bytes is shorter than `key_length // 8 - 11`, otherwise returns the cipher text in list."
   ]
  },
  {
   "cell_type": "code",
   "execution_count": 3,
   "metadata": {},
   "outputs": [
    {
     "name": "stderr",
     "output_type": "stream",
     "text": [
      "\u001b[32m2024-05-04 22:23:00\u001b[0m\u001b[31m | \u001b[0m\u001b[33m0 day(s) 00:00:00\u001b[0m\u001b[31m | \u001b[0m\u001b[1mINFO\u001b[0m\u001b[31m | \u001b[0m\u001b[1m<class 'bytes'>\u001b[0m\n"
     ]
    }
   ],
   "source": [
    "plain_text = \"Hello world! Welcome to use MuLingCloud. We aim to let everthing become easier.\"\n",
    "cipher_text = rsa_encrypt_text(plain_text, \"./examples/public.pem\")\n",
    "logger.info(type(cipher_text))"
   ]
  },
  {
   "cell_type": "markdown",
   "metadata": {},
   "source": [
    "If the plain text in bytes is longer than `key_length // 8 - 11`, it will be divided into several pieces and encrypted separately. Then, returns a list of cipher texts."
   ]
  },
  {
   "cell_type": "code",
   "execution_count": 4,
   "metadata": {},
   "outputs": [
    {
     "name": "stderr",
     "output_type": "stream",
     "text": [
      "\u001b[32m2024-05-04 22:23:00\u001b[0m\u001b[31m | \u001b[0m\u001b[33m0 day(s) 00:00:00\u001b[0m\u001b[31m | \u001b[0m\u001b[1mINFO\u001b[0m\u001b[31m | \u001b[0m\u001b[1m<class 'list'>\u001b[0m\n"
     ]
    }
   ],
   "source": [
    "long_text = 10 * plain_text\n",
    "cipher_long_text = rsa_encrypt_text(long_text, \"./examples/public.pem\")\n",
    "logger.info(type(cipher_long_text))"
   ]
  },
  {
   "cell_type": "markdown",
   "metadata": {},
   "source": [
    "### 1.3 Decrypt a cipher text\n",
    "\n",
    "You can use the private key to decrypt a cipher text by calling `rsa_decrypt_text()`.\n",
    "\n",
    "#### Arguments\n",
    "\n",
    "| args | type | remark |\n",
    "| :--- | :--- | :----- |\n",
    "| `cipher_text` | Union[List[bytes], bytes] | The cipher text waiting for decryption, which can be the type of `bytes` or a list of `bytes` |\n",
    "| `private_key` | Union[bytes, PathLikeType] | The private key |\n",
    "| `key_length` | int | The length of key. Defaults to 2048 |\n",
    "| `num_threads` | int | The number of threads to use. Defaults to 1 |\n",
    "| `return_str` | bool | Whether to return in `str`. Defaults to True |\n",
    "| `encoding` | str | The encoding method. Defaults to \"utf-8\" |\n",
    "\n",
    "The `private_key` can be the path of the private key, and also can be the content of the private key in bytes.\n",
    "\n",
    "If `num_threads` larger than 1, it will use multithreading to accelerate the decryption.\n",
    "\n",
    "However, the performance of multithreading is far from expectation due to the GIL of Python.\n",
    "\n",
    "#### Return\n",
    "\n",
    "It returns the plain text in `str` if `return_str` is True, otherwise returns the plain text in `bytes`."
   ]
  },
  {
   "cell_type": "code",
   "execution_count": 5,
   "metadata": {},
   "outputs": [
    {
     "name": "stderr",
     "output_type": "stream",
     "text": [
      "\u001b[32m2024-05-04 22:23:00\u001b[0m\u001b[31m | \u001b[0m\u001b[33m0 day(s) 00:00:00\u001b[0m\u001b[31m | \u001b[0m\u001b[32m\u001b[1mSUCCESS\u001b[0m\u001b[31m | \u001b[0m\u001b[32m\u001b[1mDecrypted accurately\u001b[0m\n"
     ]
    }
   ],
   "source": [
    "decrypted_pain_text = rsa_decrypt_text(cipher_text, \"./examples/private.pem\")\n",
    "if decrypted_pain_text == plain_text:\n",
    "    logger.success(\"Decrypted accurately\")"
   ]
  },
  {
   "cell_type": "markdown",
   "metadata": {},
   "source": [
    "The `cipher_text` also can be a list of `bytes`."
   ]
  },
  {
   "cell_type": "code",
   "execution_count": 6,
   "metadata": {},
   "outputs": [
    {
     "name": "stderr",
     "output_type": "stream",
     "text": [
      "\u001b[32m2024-05-04 22:23:00\u001b[0m\u001b[31m | \u001b[0m\u001b[33m0 day(s) 00:00:00\u001b[0m\u001b[31m | \u001b[0m\u001b[32m\u001b[1mSUCCESS\u001b[0m\u001b[31m | \u001b[0m\u001b[32m\u001b[1mDecrypted accurately\u001b[0m\n"
     ]
    }
   ],
   "source": [
    "decrypted_long_text = rsa_decrypt_text(cipher_long_text, \"./examples/private.pem\")\n",
    "if decrypted_long_text == long_text:\n",
    "    logger.success(\"Decrypted accurately\")"
   ]
  },
  {
   "cell_type": "markdown",
   "metadata": {},
   "source": [
    "It is worth to mention that it is unefficient to use RSA encryption and decryption for a extreme long text.\n",
    "\n",
    "But you can set `num_threads` to specify the number of threads to speed up the process to some extent.\n",
    "\n",
    "However, due to the existence of GIL of Python, the performance of multithreading is far from expectation. "
   ]
  },
  {
   "cell_type": "code",
   "execution_count": 7,
   "metadata": {},
   "outputs": [
    {
     "name": "stderr",
     "output_type": "stream",
     "text": [
      "\u001b[32m2024-05-04 22:23:16\u001b[0m\u001b[31m | \u001b[0m\u001b[33m0 day(s) 00:00:16\u001b[0m\u001b[31m | \u001b[0m\u001b[32m\u001b[1mSUCCESS\u001b[0m\u001b[31m | \u001b[0m\u001b[32m\u001b[1mDecrypted accurately\u001b[0m\n",
      "\u001b[32m2024-05-04 22:23:16\u001b[0m\u001b[31m | \u001b[0m\u001b[33m0 day(s) 00:00:16\u001b[0m\u001b[31m | \u001b[0m\u001b[1mINFO\u001b[0m\u001b[31m | \u001b[0m\u001b[1mElapsed without multithreading: 16.042685\u001b[0m\n",
      "\u001b[32m2024-05-04 22:23:32\u001b[0m\u001b[31m | \u001b[0m\u001b[33m0 day(s) 00:00:32\u001b[0m\u001b[31m | \u001b[0m\u001b[32m\u001b[1mSUCCESS\u001b[0m\u001b[31m | \u001b[0m\u001b[32m\u001b[1mDecrypted accurately\u001b[0m\n",
      "\u001b[32m2024-05-04 22:23:32\u001b[0m\u001b[31m | \u001b[0m\u001b[33m0 day(s) 00:00:32\u001b[0m\u001b[31m | \u001b[0m\u001b[1mINFO\u001b[0m\u001b[31m | \u001b[0m\u001b[1mElapsed with multithreading (num_threads=8): 15.242871\u001b[0m\n"
     ]
    }
   ],
   "source": [
    "extreme_long_text = 10 * 1024 * plain_text\n",
    "\n",
    "start_time = datetime.now()\n",
    "cipher_extreme_long_text = rsa_encrypt_text(extreme_long_text, \"./examples/public.pem\", num_threads=1)\n",
    "decrypted_extreme_long_text = rsa_decrypt_text(cipher_extreme_long_text, \"./examples/private.pem\", num_threads=1)\n",
    "if decrypted_extreme_long_text == extreme_long_text:\n",
    "    logger.success(\"Decrypted accurately\")\n",
    "end_time = datetime.now()\n",
    "logger.info(f\"Elapsed without multithreading: {(end_time - start_time).total_seconds()}\")\n",
    "\n",
    "start_time = datetime.now()\n",
    "cipher_extreme_long_text = rsa_encrypt_text(extreme_long_text, \"./examples/public.pem\", num_threads=8)\n",
    "decrypted_extreme_long_text = rsa_decrypt_text(cipher_extreme_long_text, \"./examples/private.pem\", num_threads=8)\n",
    "if decrypted_extreme_long_text == extreme_long_text:\n",
    "    logger.success(\"Decrypted accurately\")\n",
    "end_time = datetime.now()\n",
    "logger.info(f\"Elapsed with multithreading (num_threads=8): {(end_time - start_time).total_seconds()}\")"
   ]
  },
  {
   "cell_type": "markdown",
   "metadata": {},
   "source": [
    "### 1.4 Sign a text\n",
    "\n",
    "Another important feature of RSA is to sign and verify the text.\n",
    "\n",
    "You can sign a plain text with the private key by calling `rsa_sign_text()` to get the corresponding signature.\n",
    "\n",
    "#### Arguments\n",
    "\n",
    "| args | type | remark |\n",
    "| :--- | :--- | :----- |\n",
    "| `plain_text` | str | The plain text waiting for signing |\n",
    "| `private_key` | Union[bytes, PathLikeType] | The private key |\n",
    "| `hash_method` | str | The hash method to use. Defaults to \"SHA-512\" |\n",
    "| `encoding` | str | The encoding method. Defaults to \"utf-8\" |\n",
    "\n",
    "The `private_key` can be the path of the private key, and also can be the content of the private key in bytes.\n",
    "\n",
    "The options of `hash_method` including \"MD5\", \"SHA-1\", \"SHA-224\", \"SHA-256\", \"SHA-384\", and \"SHA-512\".\n",
    "\n",
    "#### Return\n",
    "\n",
    "It returns the signature in bytes."
   ]
  },
  {
   "cell_type": "code",
   "execution_count": 8,
   "metadata": {},
   "outputs": [
    {
     "name": "stderr",
     "output_type": "stream",
     "text": [
      "\u001b[32m2024-05-04 22:23:32\u001b[0m\u001b[31m | \u001b[0m\u001b[33m0 day(s) 00:00:32\u001b[0m\u001b[31m | \u001b[0m\u001b[1mINFO\u001b[0m\u001b[31m | \u001b[0m\u001b[1m<class 'bytes'>\u001b[0m\n"
     ]
    }
   ],
   "source": [
    "plain_text = \"This is a message with sensitive information.\"\n",
    "signature = rsa_sign_text(plain_text, \"./examples/private.pem\")\n",
    "logger.info(type(signature))"
   ]
  },
  {
   "cell_type": "markdown",
   "metadata": {},
   "source": [
    "Note that the signature is undecryptable."
   ]
  },
  {
   "cell_type": "code",
   "execution_count": 9,
   "metadata": {},
   "outputs": [
    {
     "name": "stderr",
     "output_type": "stream",
     "text": [
      "\u001b[32m2024-05-04 22:23:32\u001b[0m\u001b[31m | \u001b[0m\u001b[33m0 day(s) 00:00:32\u001b[0m\u001b[31m | \u001b[0m\u001b[31m\u001b[1mERROR\u001b[0m\u001b[31m | \u001b[0m\u001b[31m\u001b[1mDecryption failed\u001b[0m\n"
     ]
    }
   ],
   "source": [
    "try:\n",
    "    rsa_decrypt_text(signature, \"./examples/private.pem\")\n",
    "    logger.success(\"Decrypted\")\n",
    "except Exception as e:\n",
    "    logger.error(str(e))"
   ]
  },
  {
   "cell_type": "markdown",
   "metadata": {},
   "source": [
    "### 1.5 Verify a signature\n",
    "\n",
    "You can use the public key to verify if a signature is match to a plain text by calling `rsa_verify_signature()`.\n",
    "\n",
    "#### Arguments\n",
    "\n",
    "| args | type | remark |\n",
    "| :--- | :--- | :----- |\n",
    "| `plain_text` | str | The plain text |\n",
    "| `signature` | bytes | The signature |\n",
    "| `public_key` | Union[bytes, PathLikeType] | The public key |\n",
    "| `encoding` | str | The encoding method. Defaults to \"utf-8\" |\n",
    "\n",
    "The `public_key` can be the path of the public key, and also can be the content of the public key in bytes.\n",
    "\n",
    "#### Return\n",
    "\n",
    "It returns True if the signature match to the plain text, otherwise returns False."
   ]
  },
  {
   "cell_type": "code",
   "execution_count": 10,
   "metadata": {},
   "outputs": [
    {
     "data": {
      "text/plain": [
       "True"
      ]
     },
     "execution_count": 10,
     "metadata": {},
     "output_type": "execute_result"
    }
   ],
   "source": [
    "rsa_verify_signature(plain_text, signature, \"./examples/public.pem\")"
   ]
  },
  {
   "cell_type": "markdown",
   "metadata": {},
   "source": [
    "### 1.6 Encrypt a file\n",
    "\n",
    "You can encrypt a file with the public key by calling `rsa_encrypt_file()`.\n",
    "\n",
    "#### Arguments\n",
    "\n",
    "| args | type | remark |\n",
    "| :--- | :--- | :----- |\n",
    "| `plain_file_path` | PathLikeType | The path of the plain file |\n",
    "| `crypto_save_path` | PathLikeType | The save path of the crypto |\n",
    "| `public_key` | Union[bytes, PathLikeType] | The public key |\n",
    "| `key_length` | int | The length of key. Defaults to 2048 |\n",
    "| `num_process` | int | The number of processes to use. Defaults to 1 |\n",
    "| `num_threads` | int | The number of threads to use. Defaults to 1 |\n",
    "| `encoding` | str | The encoding method. Defaults to \"utf-8\" |\n",
    "| `logger` | Optional[Logger] | Defaults to None |\n",
    "\n",
    "The `public_key` can be the path of the public key, and also can be the content of the public key in bytes.\n",
    "\n",
    "If `num_process` larger than 1, it will use multiprocessing to accelerate the encryption (which is effective).\n",
    "\n",
    "If `num_threads` larger than 1, it will use multithreading to accelerate the encryption.\n",
    "\n",
    "However, the performance of multithreading is far from expectation due to the GIL of Python.\n",
    "\n",
    "#### Return\n",
    "\n",
    "It returns True if success, otherwise return False."
   ]
  },
  {
   "cell_type": "code",
   "execution_count": 11,
   "metadata": {},
   "outputs": [
    {
     "data": {
      "text/plain": [
       "True"
      ]
     },
     "execution_count": 11,
     "metadata": {},
     "output_type": "execute_result"
    }
   ],
   "source": [
    "rsa_encrypt_file(plain_file_path=\"./examples/jsonfile.json\",\n",
    "                 crypto_save_path=\"./examples/jsonfile.rsa_encrypted.bin\",\n",
    "                 public_key=\"./examples/public.pem\",\n",
    "                 logger=logger)"
   ]
  },
  {
   "cell_type": "markdown",
   "metadata": {},
   "source": [
    "### 1.7 Decrypt a file\n",
    "\n",
    "You can decrypt a file with the private key by calling `rsa_decrypt_file()`.\n",
    "\n",
    "#### Arguments\n",
    "\n",
    "| args | type | remark |\n",
    "| :--- | :--- | :----- |\n",
    "| `crypto_file_path` | PathLikeType | The path of the crypto |\n",
    "| `plain_save_path` | PathLikeType | The save path of the plain file |\n",
    "| `private_key` | Union[bytes, PathLikeType] | The private key |\n",
    "| `key_length` | int | The length of key. Defaults to 2048 |\n",
    "| `num_process` | int | The number of processes to use. Defaults to 1 |\n",
    "| `num_threads` | int | The number of threads to use. Defaults to 1 |\n",
    "| `encoding` | str | The encoding method. Defaults to \"utf-8\" |\n",
    "| `logger` | Optional[Logger] | Defaults to None |\n",
    "\n",
    "The `private_key` can be the path of the private key, and also can be the content of the private key in bytes.\n",
    "\n",
    "If `num_process` larger than 1, it will use multiprocessing to accelerate the decryption (which is effective).\n",
    "\n",
    "If `num_threads` larger than 1, it will use multithreading to accelerate the decryption.\n",
    "\n",
    "However, the performance of multithreading is far from expectation due to the GIL of Python.\n",
    "\n",
    "#### Return\n",
    "\n",
    "It returns True if success, otherwise return False."
   ]
  },
  {
   "cell_type": "code",
   "execution_count": 12,
   "metadata": {},
   "outputs": [
    {
     "data": {
      "text/plain": [
       "True"
      ]
     },
     "execution_count": 12,
     "metadata": {},
     "output_type": "execute_result"
    }
   ],
   "source": [
    "rsa_decrypt_file(crypto_file_path=\"./examples/jsonfile.rsa_encrypted.bin\",\n",
    "                 plain_save_path=\"./examples/jsonfile.rsa_decrypted.json\",\n",
    "                 private_key=\"./examples/private.pem\",\n",
    "                 logger=logger)"
   ]
  },
  {
   "cell_type": "markdown",
   "metadata": {},
   "source": [
    "RSA encryption and decryption is **NOT RECOMMENDED** for large files!\n",
    "\n",
    "If you really want to use RSA to encrypt and decrypt large files, we offer multiprocessing and multithreading to speed up the process.\n",
    "\n",
    "You can set `num_process` to specify the number of process to speed up the enryption and decryption process, while setting `num_threads` to further gain a little acceleration.\n",
    "\n",
    "In the following example, we set `num_process=8` and `num_threads=8` and gain a significant acceleration of the entire process."
   ]
  },
  {
   "cell_type": "code",
   "execution_count": 13,
   "metadata": {},
   "outputs": [
    {
     "name": "stdout",
     "output_type": "stream",
     "text": [
      "+-------+-----------------------------------+-------------+-------+-----------------+\n",
      "| index |               module              | elapsed (s) | calls | avg_runtime (s) |\n",
      "+-------+-----------------------------------+-------------+-------+-----------------+\n",
      "|   1   |       rsa_decrypt_large_file      |   104.408   |   1   |     104.408     |\n",
      "|   2   | rsa_decrypt_large_file_accelerate |    12.657   |   1   |      12.657     |\n",
      "|   3   |       rsa_encrypt_large_file      |    2.216    |   1   |      2.216      |\n",
      "|   4   | rsa_encrypt_large_file_accelerate |    1.014    |   1   |      1.014      |\n",
      "+-------+-----------------------------------+-------------+-------+-----------------+\n"
     ]
    }
   ],
   "source": [
    "@wrap_module_timer\n",
    "def rsa_encrypt_large_file():\n",
    "    rsa_encrypt_file(plain_file_path=\"./examples/YOLOv9.pdf\",\n",
    "                     crypto_save_path=\"./examples/YOLOv9.rsa_encrypted.bin\",\n",
    "                     public_key=\"./examples/public.pem\",\n",
    "                     logger=logger)\n",
    "    \n",
    "@wrap_module_timer\n",
    "def rsa_decrypt_large_file():\n",
    "    rsa_decrypt_file(crypto_file_path=\"./examples/YOLOv9.rsa_encrypted.bin\",\n",
    "                     plain_save_path=\"./examples/YOLOv9.rsa_decrypted.pdf\",\n",
    "                     private_key=\"./examples/private.pem\",\n",
    "                     logger=logger) \n",
    "\n",
    "@wrap_module_timer\n",
    "def rsa_encrypt_large_file_accelerate():\n",
    "    rsa_encrypt_file(plain_file_path=\"./examples/YOLOv9.pdf\",\n",
    "                     crypto_save_path=\"./examples/YOLOv9.rsa_encrypted.bin\",\n",
    "                     public_key=\"./examples/public.pem\",\n",
    "                     num_process=8,\n",
    "                     num_threads=8,\n",
    "                     logger=logger)\n",
    "    \n",
    "@wrap_module_timer\n",
    "def rsa_decrypt_large_file_accelerate():\n",
    "    rsa_decrypt_file(crypto_file_path=\"./examples/YOLOv9.rsa_encrypted.bin\",\n",
    "                     plain_save_path=\"./examples/YOLOv9.rsa_decrypted.pdf\",\n",
    "                     private_key=\"./examples/private.pem\",\n",
    "                     num_process=8,\n",
    "                     num_threads=8,\n",
    "                     logger=logger)\n",
    "    \n",
    "rsa_encrypt_large_file()\n",
    "rsa_decrypt_large_file()\n",
    "rsa_encrypt_large_file_accelerate()\n",
    "rsa_decrypt_large_file_accelerate()\n",
    "runtime_analysis(unit=\"s\")"
   ]
  },
  {
   "cell_type": "markdown",
   "metadata": {},
   "source": [
    "**HOWEVER**, note that the creation and destruction of processes will cost unignorable time, which means multiprocessing cannot not always accelerate the entire process.\n",
    "\n",
    "In the following example, we set `num_process=8` and `num_threads=8` but slow down the entire process."
   ]
  },
  {
   "cell_type": "code",
   "execution_count": 14,
   "metadata": {},
   "outputs": [
    {
     "name": "stdout",
     "output_type": "stream",
     "text": [
      "+-------+-----------------------------------+-------------+-------+-----------------+\n",
      "| index |               module              | elapsed (s) | calls | avg_runtime (s) |\n",
      "+-------+-----------------------------------+-------------+-------+-----------------+\n",
      "|   1   |       rsa_decrypt_large_file      |   104.408   |   1   |     104.408     |\n",
      "|   2   | rsa_decrypt_large_file_accelerate |    12.657   |   1   |      12.657     |\n",
      "|   3   |       rsa_encrypt_large_file      |    2.216    |   1   |      2.216      |\n",
      "|   4   | rsa_encrypt_large_file_accelerate |    1.014    |   1   |      1.014      |\n",
      "|   5   | rsa_decrypt_small_file_accelerate |    0.745    |   1   |      0.745      |\n",
      "|   6   | rsa_encrypt_small_file_accelerate |    0.704    |   1   |      0.704      |\n",
      "|   7   |       rsa_decrypt_small_file      |    0.011    |   1   |      0.011      |\n",
      "|   8   |       rsa_encrypt_small_file      |    0.001    |   1   |      0.001      |\n",
      "+-------+-----------------------------------+-------------+-------+-----------------+\n"
     ]
    }
   ],
   "source": [
    "@wrap_module_timer\n",
    "def rsa_encrypt_small_file():\n",
    "    rsa_encrypt_file(plain_file_path=\"./examples/jsonfile.json\",\n",
    "                     crypto_save_path=\"./examples/jsonfile.rsa_encrypted.bin\",\n",
    "                     public_key=\"./examples/public.pem\",\n",
    "                     logger=logger)\n",
    "    \n",
    "@wrap_module_timer\n",
    "def rsa_decrypt_small_file():\n",
    "    rsa_decrypt_file(crypto_file_path=\"./examples/jsonfile.rsa_encrypted.bin\",\n",
    "                     plain_save_path=\"./examples/jsonfile.rsa_decrypted.json\",\n",
    "                     private_key=\"./examples/private.pem\",\n",
    "                     logger=logger) \n",
    "\n",
    "@wrap_module_timer\n",
    "def rsa_encrypt_small_file_accelerate():\n",
    "    rsa_encrypt_file(plain_file_path=\"./examples/jsonfile.json\",\n",
    "                     crypto_save_path=\"./examples/jsonfile.rsa_encrypted.bin\",\n",
    "                     public_key=\"./examples/public.pem\",\n",
    "                     num_process=8,\n",
    "                     num_threads=8,\n",
    "                     logger=logger)\n",
    "    \n",
    "@wrap_module_timer\n",
    "def rsa_decrypt_small_file_accelerate():\n",
    "    rsa_decrypt_file(crypto_file_path=\"./examples/jsonfile.rsa_encrypted.bin\",\n",
    "                     plain_save_path=\"./examples/jsonfile.rsa_decrypted.json\",\n",
    "                     private_key=\"./examples/private.pem\",\n",
    "                     num_process=8,\n",
    "                     num_threads=8,\n",
    "                     logger=logger)\n",
    "    \n",
    "rsa_encrypt_small_file()\n",
    "rsa_decrypt_small_file()\n",
    "rsa_encrypt_small_file_accelerate()\n",
    "rsa_decrypt_small_file_accelerate()\n",
    "runtime_analysis(unit=\"s\")"
   ]
  },
  {
   "cell_type": "markdown",
   "metadata": {},
   "source": [
    "## 2. AES\n",
    "\n",
    "We currently only support `CBC` and `ECB` modes. But the `ECB` mode is not safe enough, we recommend more to use the `CBC` mode in production environment.\n",
    "\n",
    "For `CBC` mode, both `key` and `iv` are needed.\n",
    "\n",
    "For `ECB` mode, only the `key` is needed.\n",
    "\n",
    "The `key` is a hex string which length should be 16 (AES128), 24 (AES192), or 32 (AES256).\n",
    "\n",
    "The `iv` is a hex string which length should be 16.\n",
    "\n",
    "We only show the usage of the default `CBC` mode in the following example."
   ]
  },
  {
   "cell_type": "code",
   "execution_count": 15,
   "metadata": {},
   "outputs": [],
   "source": [
    "key = random_hex(24)\n",
    "iv = random_hex(16)"
   ]
  },
  {
   "cell_type": "markdown",
   "metadata": {},
   "source": [
    "### 2.1 Encrypt a plain text\n",
    "\n",
    "You can encrypt a plain text by calling `aes_encrypt_text()`.\n",
    "\n",
    "#### Arguments\n",
    "\n",
    "| args | type | remark |\n",
    "| :--- | :--- | :----- |\n",
    "| `plain_text` | str | The plain text |\n",
    "| `key` | Union[str, bytes] | The secret key  |\n",
    "| `iv` | Optional[Union[str, bytes]] | The initialization vector. Defaults to None |\n",
    "| `mode` | int | The AES mode. Defaults to AES.MODE_CBC |\n",
    "| `encoding` | str | The encoding method. Defaults to \"utf-8\" |\n",
    "\n",
    "The initialization vector `iv` is required when `mode=AES.MODE_CBC`, and the length of `iv` should be 16.\n",
    "\n",
    "#### Return\n",
    "\n",
    "It returns the cipher text in bytes."
   ]
  },
  {
   "cell_type": "code",
   "execution_count": 16,
   "metadata": {},
   "outputs": [
    {
     "name": "stderr",
     "output_type": "stream",
     "text": [
      "\u001b[32m2024-05-04 22:25:34\u001b[0m\u001b[31m | \u001b[0m\u001b[33m0 day(s) 00:02:34\u001b[0m\u001b[31m | \u001b[0m\u001b[1mINFO\u001b[0m\u001b[31m | \u001b[0m\u001b[1m<class 'bytes'>\u001b[0m\n"
     ]
    }
   ],
   "source": [
    "plain_text = \"Hello world! Welcome to use MuLingCloud. We aim to let everthing become easier.\"\n",
    "cipher_text = aes_encrypt_text(plain_text, key, iv)\n",
    "logger.info(type(cipher_text))"
   ]
  },
  {
   "cell_type": "markdown",
   "metadata": {},
   "source": [
    "### 2.2 Decrypt a cipher text\n",
    "\n",
    "You can decrypt a cipher text by calling `aes_decrypt_text()`.\n",
    "\n",
    "#### Arguments\n",
    "\n",
    "| args | type | remark |\n",
    "| :--- | :--- | :----- |\n",
    "| `cipher_text` | bytes | The cipher text |\n",
    "| `key` | Union[str, bytes] | The secret key  |\n",
    "| `iv` | Optional[Union[str, bytes]] | The initialization vector. Defaults to None |\n",
    "| `mode` | int | The AES mode. Defaults to AES.MODE_CBC |\n",
    "| `return_str` | bool | Whether to return in `str`. Defaults to True |\n",
    "| `encoding` | str | The encoding method. Defaults to \"utf-8\" |\n",
    "\n",
    "The initialization vector `iv` is required when `mode=AES.MODE_CBC`, and the length of `iv` should be 16.\n",
    "\n",
    "#### Return\n",
    "\n",
    "It returns the plain text in `str` if `return_str` is True, otherwise returns the plain text in `bytes`."
   ]
  },
  {
   "cell_type": "code",
   "execution_count": 17,
   "metadata": {},
   "outputs": [
    {
     "name": "stderr",
     "output_type": "stream",
     "text": [
      "\u001b[32m2024-05-04 22:25:34\u001b[0m\u001b[31m | \u001b[0m\u001b[33m0 day(s) 00:02:34\u001b[0m\u001b[31m | \u001b[0m\u001b[32m\u001b[1mSUCCESS\u001b[0m\u001b[31m | \u001b[0m\u001b[32m\u001b[1mDecrypted accurately\u001b[0m\n"
     ]
    }
   ],
   "source": [
    "decrypted_pain_text = aes_decrypt_text(cipher_text, key, iv)\n",
    "if decrypted_pain_text == plain_text:\n",
    "    logger.success(\"Decrypted accurately\")"
   ]
  },
  {
   "cell_type": "markdown",
   "metadata": {},
   "source": [
    "### 2.3 Encrypt a file\n",
    "\n",
    "You can encrypt a file by calling `aes_entrypt_file()`.\n",
    "\n",
    "#### Arguments\n",
    "\n",
    "| args | type | remark |\n",
    "| :--- | :--- | :----- |\n",
    "| `plain_file_path` | PathLikeType | The path of the plain file |\n",
    "| `crypto_save_path` | PathLikeType | The save path of the crypto |\n",
    "| `key` | Union[str, bytes] | The secret key  |\n",
    "| `iv` | Optional[Union[str, bytes]] | The initialization vector. Defaults to None |\n",
    "| `mode` | int | The AES mode. Defaults to AES.MODE_CBC |\n",
    "| `encoding` | str | The encoding method. Defaults to \"utf-8\" |\n",
    "| `logger` | Optional[Logger] | Defaults to None |\n",
    "\n",
    "The initialization vector `iv` is required when `mode=AES.MODE_CBC`, and the length of `iv` should be 16.\n",
    "\n",
    "#### Return\n",
    "\n",
    "It returns True if success, otherwise return False."
   ]
  },
  {
   "cell_type": "code",
   "execution_count": 18,
   "metadata": {},
   "outputs": [
    {
     "data": {
      "text/plain": [
       "True"
      ]
     },
     "execution_count": 18,
     "metadata": {},
     "output_type": "execute_result"
    }
   ],
   "source": [
    "aes_entrypt_file(plain_file_path=\"./examples/jsonfile.json\",\n",
    "                 crypto_save_path=\"./examples/jsonfile.aes_encrypted.bin\",\n",
    "                 key=key,\n",
    "                 iv=iv)"
   ]
  },
  {
   "cell_type": "markdown",
   "metadata": {},
   "source": [
    "### 2.4 Decrypt a file\n",
    "\n",
    "You can decrypt a file by calling `aes_decrypt_file()`.\n",
    "\n",
    "#### Arguments\n",
    "\n",
    "| args | type | remark |\n",
    "| :--- | :--- | :----- |\n",
    "| `crypto_file_path` | PathLikeType | The path of the crypto |\n",
    "| `plain_save_path` | PathLikeType | The save path of the plain file |\n",
    "| `key` | Union[str, bytes] | The secret key  |\n",
    "| `iv` | Optional[Union[str, bytes]] | The initialization vector. Defaults to None |\n",
    "| `mode` | int | The AES mode. Defaults to AES.MODE_CBC |\n",
    "| `encoding` | str | The encoding method. Defaults to \"utf-8\" |\n",
    "| `logger` | Optional[Logger] | Defaults to None |\n",
    "\n",
    "The initialization vector `iv` is required when `mode=AES.MODE_CBC`, and the length of `iv` should be 16.\n",
    "\n",
    "#### Return\n",
    "\n",
    "It returns True if success, otherwise return False."
   ]
  },
  {
   "cell_type": "code",
   "execution_count": 19,
   "metadata": {},
   "outputs": [
    {
     "data": {
      "text/plain": [
       "True"
      ]
     },
     "execution_count": 19,
     "metadata": {},
     "output_type": "execute_result"
    }
   ],
   "source": [
    "aes_decrypt_file(crypto_file_path=\"./examples/jsonfile.aes_encrypted.bin\",\n",
    "                 plain_save_path=\"./examples/jsonfile.aes_decrypted.json\",\n",
    "                 key=key,\n",
    "                 iv=iv)"
   ]
  },
  {
   "cell_type": "markdown",
   "metadata": {},
   "source": [
    "We highly recommend you to use AES to encrypt and decrypt files, which is way more efficient than RSA.\n",
    "\n",
    "**In practical applications, we recommend you to use AES to encrypt and decrypt files and use RSA to encrypt and decrypt the AES key and iv.**"
   ]
  },
  {
   "cell_type": "code",
   "execution_count": 20,
   "metadata": {},
   "outputs": [
    {
     "name": "stdout",
     "output_type": "stream",
     "text": [
      "+-------+-----------------------------------+-------------+-------+-----------------+\n",
      "| index |               module              | elapsed (s) | calls | avg_runtime (s) |\n",
      "+-------+-----------------------------------+-------------+-------+-----------------+\n",
      "|   1   |       rsa_decrypt_large_file      |   104.408   |   1   |     104.408     |\n",
      "|   2   | rsa_decrypt_large_file_accelerate |    12.657   |   1   |      12.657     |\n",
      "|   3   |       rsa_encrypt_large_file      |    2.216    |   1   |      2.216      |\n",
      "|   4   | rsa_encrypt_large_file_accelerate |    1.014    |   1   |      1.014      |\n",
      "|   5   | rsa_decrypt_small_file_accelerate |    0.745    |   1   |      0.745      |\n",
      "|   6   | rsa_encrypt_small_file_accelerate |    0.704    |   1   |      0.704      |\n",
      "|   7   |       aes_encrypt_large_file      |    0.019    |   1   |      0.019      |\n",
      "|   8   |       rsa_decrypt_small_file      |    0.011    |   1   |      0.011      |\n",
      "|   9   |       aes_decrypt_large_file      |    0.008    |   1   |      0.008      |\n",
      "|   10  |       rsa_encrypt_small_file      |    0.001    |   1   |      0.001      |\n",
      "+-------+-----------------------------------+-------------+-------+-----------------+\n"
     ]
    }
   ],
   "source": [
    "@wrap_module_timer\n",
    "def aes_encrypt_large_file():\n",
    "    aes_entrypt_file(plain_file_path=\"./examples/YOLOv9.pdf\",\n",
    "                     crypto_save_path=\"./examples/YOLOv9.pdf.aes_encrypted.bin\",\n",
    "                     key=key,\n",
    "                     iv=iv)\n",
    "    \n",
    "@wrap_module_timer\n",
    "def aes_decrypt_large_file():\n",
    "    aes_decrypt_file(crypto_file_path=\"./examples/YOLOv9.pdf.aes_encrypted.bin\",\n",
    "                     plain_save_path=\"./examples/YOLOv9.pdf.aes_decrypted.pdf\",\n",
    "                     key=key,\n",
    "                     iv=iv)\n",
    "    \n",
    "aes_encrypt_large_file()\n",
    "aes_decrypt_large_file()\n",
    "runtime_analysis(unit=\"s\")"
   ]
  },
  {
   "cell_type": "markdown",
   "metadata": {},
   "source": [
    "## 3. Password\n",
    "\n",
    "We offer a simple script to encrypt and verify the password with hash algorithms."
   ]
  },
  {
   "cell_type": "markdown",
   "metadata": {},
   "source": [
    "### 3.1 Encrypt a plain password\n",
    "\n",
    "You can encrypt a password by calling `encrypt_password()`.\n",
    "\n",
    "#### Arguments\n",
    "\n",
    "| args | type | remark |\n",
    "| :--- | :--- | :----- |\n",
    "| `password` | str | The plain password |\n",
    "| `methods` | Union[str, List[str]] | The encrypting methods |\n",
    "| `encoding` | str | The encoding method. Defaults to \"utf-8\" |\n",
    "\n",
    "The encrypting methods should be a `str` or a list of `str`. And the order of hash algorithms is following the order of `methods`.\n",
    "\n",
    "#### Return\n",
    "\n",
    "It returns the cipher in `str`."
   ]
  },
  {
   "cell_type": "markdown",
   "metadata": {},
   "source": [
    "As the following example, the password is encrypted by: `password -> SHA-256 -> SHA-384 -> SHA-512 -> SHA-224 -> MD5 -> cipher`."
   ]
  },
  {
   "cell_type": "code",
   "execution_count": 21,
   "metadata": {},
   "outputs": [],
   "source": [
    "password = \"B0Go4P8nuQ8DQxJDUWzq\"\n",
    "methods = [\"SHA-256\", \"SHA-384\", \"SHA-512\", \"SHA-224\", \"MD5\"]\n",
    "cipher = encrypt_password(password, methods)"
   ]
  },
  {
   "cell_type": "markdown",
   "metadata": {},
   "source": [
    "### 3.2 Verify a cipher\n",
    "\n",
    "You can verify if a plain password is match to a cipher by calling `verify_password()`.\n",
    "\n",
    "#### Arguments\n",
    "\n",
    "| args | type | remark |\n",
    "| :--- | :--- | :----- |\n",
    "| `password` | str | The plain password |\n",
    "| `cipher` | str | The cipher |\n",
    "| `methods` | Union[str, List[str]] | The encrypting methods |\n",
    "| `encoding` | str | The encoding method. Defaults to \"utf-8\" |\n",
    "\n",
    "The encrypting methods should be a `str` or a list of `str`. And the order of hash algorithms is following the order of `methods`.\n",
    "\n",
    "#### Return\n",
    "\n",
    "It returns True if the password match with the cipher, otherwise returns False."
   ]
  },
  {
   "cell_type": "code",
   "execution_count": 22,
   "metadata": {},
   "outputs": [
    {
     "data": {
      "text/plain": [
       "True"
      ]
     },
     "execution_count": 22,
     "metadata": {},
     "output_type": "execute_result"
    }
   ],
   "source": [
    "verify_password(password, cipher, methods)"
   ]
  }
 ],
 "metadata": {
  "kernelspec": {
   "display_name": "mlcbase_py38",
   "language": "python",
   "name": "python3"
  },
  "language_info": {
   "codemirror_mode": {
    "name": "ipython",
    "version": 3
   },
   "file_extension": ".py",
   "mimetype": "text/x-python",
   "name": "python",
   "nbconvert_exporter": "python",
   "pygments_lexer": "ipython3",
   "version": "3.8.19"
  }
 },
 "nbformat": 4,
 "nbformat_minor": 2
}
