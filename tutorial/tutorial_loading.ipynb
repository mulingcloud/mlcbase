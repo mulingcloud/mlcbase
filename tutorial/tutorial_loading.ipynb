{
 "cells": [
  {
   "cell_type": "markdown",
   "metadata": {},
   "source": [
    "# Tutorial for Load and Save Features in MLCBase\n",
    "\n",
    "[![PyPI](https://img.shields.io/pypi/v/mlcbase)](https://pypi.org/project/mlcbase/) &nbsp;\n",
    "[![license](https://img.shields.io/github/license/wmchen/mlcbase.svg)](https://www.apache.org/licenses/LICENSE-2.0)\n",
    "\n",
    "Author: [Weiming Chen](https://weimingchen.net) and [Yuanshuang Sun](https://www.mulingcloud.com/author/yuanshuang-sun/)"
   ]
  },
  {
   "cell_type": "markdown",
   "metadata": {},
   "source": [
    "## Introduction\n",
    "\n",
    "We offer a simple way to load and save .json, .yaml, and .xml files"
   ]
  },
  {
   "cell_type": "code",
   "execution_count": 1,
   "metadata": {},
   "outputs": [
    {
     "name": "stdout",
     "output_type": "stream",
     "text": [
      "\n",
      "👋 \u001b[34mWelcome to use \u001b[31mMuLingCloud\u001b[34m. We aim to let everything easier.\u001b[34m\n",
      "\n",
      "📍 \u001b[33mmlcbase (1.2.0.dev.202405) imported\u001b[39m\n",
      "\n"
     ]
    }
   ],
   "source": [
    "import sys\n",
    "sys.path.append(\"../src\")\n",
    "from mlcbase import Logger, load_json, save_json, load_yaml, save_yaml, load_xml, save_xml\n",
    "\n",
    "logger = Logger()\n",
    "logger.init_logger()"
   ]
  },
  {
   "cell_type": "markdown",
   "metadata": {},
   "source": [
    "## 1. JSON"
   ]
  },
  {
   "cell_type": "markdown",
   "metadata": {},
   "source": [
    "### 1.1 Save JSON file\n",
    "\n",
    "You can save a JSON file by calling `save_json()`.\n",
    "\n",
    "#### Arguments\n",
    "\n",
    "| args | type | remark |\n",
    "| :--- | :--- | :----- |\n",
    "| `data` | Union[list, dict] | The data to save |\n",
    "| `path` | PathLikeType | The path to save |\n",
    "| `ensure_ascii` | bool | Ensure the data is all save in ASCII characters. Defaults to True |\n",
    "| `indent` | Optional[int] | Spaces to use for indentation. Defaults to 4 |\n",
    "| `logger` | Optional[Logger] | Defaults to None |\n",
    "\n",
    "We default to set `ensure_ascii=True` that ensure the data is all save in ASCII characters (non-ASCII such as Chinese characters will convert to ASCII characters).\n",
    "\n",
    "We default to set `indent=4` that save data with 4 indent spaces for better reading.\n",
    "\n",
    "#### Return\n",
    "\n",
    "It returns True if success, otherwise returns False."
   ]
  },
  {
   "cell_type": "code",
   "execution_count": 2,
   "metadata": {},
   "outputs": [],
   "source": [
    "# example data for .json file\n",
    "module_info_json = dict(name=\"mlcbase\",\n",
    "                        repository=dict(github=\"https://github.com/wmchen/mlcbase\",\n",
    "                                        gitlab=\"https://gitlab.com/wm-chen/mlcbase\",\n",
    "                                        gitee=\"https://gitee.com/wm-chen/mlcbase\"),\n",
    "                        author=\"Weiming Chen\",\n",
    "                        contributors=[\"Yuanshuang Sun\"],\n",
    "                        location=\"中国大陆\")"
   ]
  },
  {
   "cell_type": "code",
   "execution_count": 3,
   "metadata": {},
   "outputs": [
    {
     "data": {
      "text/plain": [
       "True"
      ]
     },
     "execution_count": 3,
     "metadata": {},
     "output_type": "execute_result"
    }
   ],
   "source": [
    "save_json(module_info_json, \"./examples/jsonfile.json\", logger=logger)"
   ]
  },
  {
   "cell_type": "markdown",
   "metadata": {},
   "source": [
    "You can manually disable the indent by setting `indent=None`."
   ]
  },
  {
   "cell_type": "code",
   "execution_count": 4,
   "metadata": {},
   "outputs": [
    {
     "data": {
      "text/plain": [
       "True"
      ]
     },
     "execution_count": 4,
     "metadata": {},
     "output_type": "execute_result"
    }
   ],
   "source": [
    "save_json(module_info_json, \"./examples/jsonfile.zero_indent.json\", indent=None, logger=logger)\n"
   ]
  },
  {
   "cell_type": "markdown",
   "metadata": {},
   "source": [
    "You can set `ensure_ascii=False` to allow the saving data can contain non-ASCII characters such as Chinese.\n",
    "\n",
    "Tips: if you get mistaken code in the file, try to open it in other encoding such as UTF-8, GBK, etc."
   ]
  },
  {
   "cell_type": "code",
   "execution_count": 5,
   "metadata": {},
   "outputs": [
    {
     "data": {
      "text/plain": [
       "True"
      ]
     },
     "execution_count": 5,
     "metadata": {},
     "output_type": "execute_result"
    }
   ],
   "source": [
    "save_json(module_info_json, \"./examples/jsonfile.non_ascii.json\", ensure_ascii=False, logger=logger)"
   ]
  },
  {
   "cell_type": "markdown",
   "metadata": {},
   "source": [
    "### 1.2 Load JSON file\n",
    "\n",
    "You can load a JSON file by calling `load_json()`\n",
    "\n",
    "#### Arguments\n",
    "\n",
    "| args | type | remark |\n",
    "| :--- | :--- | :----- |\n",
    "| `path` | PathLikeType | The path to load |\n",
    "| `logger` | Optional[Logger] | Defaults to None |\n",
    "\n",
    "#### Return\n",
    "\n",
    "It returns the data as a ConfigDict or a list if success, otherwise returns None"
   ]
  },
  {
   "cell_type": "code",
   "execution_count": 6,
   "metadata": {},
   "outputs": [
    {
     "data": {
      "text/plain": [
       "{'name': 'mlcbase',\n",
       " 'repository': {'github': 'https://github.com/wmchen/mlcbase',\n",
       "  'gitlab': 'https://gitlab.com/wm-chen/mlcbase',\n",
       "  'gitee': 'https://gitee.com/wm-chen/mlcbase'},\n",
       " 'author': 'Weiming Chen',\n",
       " 'contributors': ['Yuanshuang Sun'],\n",
       " 'location': '中国大陆'}"
      ]
     },
     "execution_count": 6,
     "metadata": {},
     "output_type": "execute_result"
    }
   ],
   "source": [
    "load_json(\"./examples/jsonfile.non_ascii.json\", logger=logger)"
   ]
  },
  {
   "cell_type": "markdown",
   "metadata": {},
   "source": [
    "## 2. YAML"
   ]
  },
  {
   "cell_type": "markdown",
   "metadata": {},
   "source": [
    "### 2.1 Save YAML file\n",
    "\n",
    "You can save a YAML file by calling `save_yaml()`\n",
    "\n",
    "#### Arguments\n",
    "\n",
    "| args | type | remark |\n",
    "| :--- | :--- | :----- |\n",
    "| `data` | Union[list, dict] | The data to save |\n",
    "| `path` | PathLikeType | The path to save |\n",
    "| `allow_unicode` | bool | Whether allow unicode characters. Defaults to False |\n",
    "| `logger` | Optional[Logger] | Defaults to None |\n",
    "\n",
    "We default to set `allow_unicode=False` that does not allow the saving data contains unicode characters (unicode such as Chinese characters will convert to ASCII characters).\n",
    "\n",
    "#### Return\n",
    "\n",
    "It returns True if success, otherwise returns False."
   ]
  },
  {
   "cell_type": "code",
   "execution_count": 7,
   "metadata": {},
   "outputs": [],
   "source": [
    "# example data for .yaml file\n",
    "module_info_yaml = dict(name=\"mlcbase\",\n",
    "                        repository=dict(github=\"https://github.com/wmchen/mlcbase\",\n",
    "                                        gitlab=\"https://gitlab.com/wm-chen/mlcbase\",\n",
    "                                        gitee=\"https://gitee.com/wm-chen/mlcbase\"),\n",
    "                        author=\"Weiming Chen\",\n",
    "                        contributors=[\"Yuanshuang Sun\"],\n",
    "                        location=\"中国大陆\")"
   ]
  },
  {
   "cell_type": "code",
   "execution_count": 8,
   "metadata": {},
   "outputs": [
    {
     "data": {
      "text/plain": [
       "True"
      ]
     },
     "execution_count": 8,
     "metadata": {},
     "output_type": "execute_result"
    }
   ],
   "source": [
    "save_yaml(module_info_yaml, \"./examples/yamlfile.yaml\", logger=logger)"
   ]
  },
  {
   "cell_type": "markdown",
   "metadata": {},
   "source": [
    "You can set `allow_unicode=True` to allow the saving data can contain unicode characters such as Chinese.\n",
    "\n",
    "Tips: if you get mistaken code in the file, try to open it in other encoding such as UTF-8, GBK, etc."
   ]
  },
  {
   "cell_type": "code",
   "execution_count": 9,
   "metadata": {},
   "outputs": [
    {
     "data": {
      "text/plain": [
       "True"
      ]
     },
     "execution_count": 9,
     "metadata": {},
     "output_type": "execute_result"
    }
   ],
   "source": [
    "save_yaml(module_info_yaml, \"./examples/yamlfile.allow_unicode.yaml\", allow_unicode=True, logger=logger)"
   ]
  },
  {
   "cell_type": "markdown",
   "metadata": {},
   "source": [
    "### 2.2 Load YAML file\n",
    "\n",
    "You can load a YAML file by calling `load_yaml()`\n",
    "\n",
    "#### Arguments\n",
    "\n",
    "| args | type | remark |\n",
    "| :--- | :--- | :----- |\n",
    "| `path` | PathLikeType | The path to load |\n",
    "| `logger` | Optional[Logger] | Defaults to None |\n",
    "\n",
    "#### Return\n",
    "\n",
    "It returns the data as a ConfigDict or a list if success, otherwise returns None"
   ]
  },
  {
   "cell_type": "code",
   "execution_count": 10,
   "metadata": {},
   "outputs": [
    {
     "data": {
      "text/plain": [
       "{'author': 'Weiming Chen',\n",
       " 'contributors': ['Yuanshuang Sun'],\n",
       " 'location': '中国大陆',\n",
       " 'name': 'mlcbase',\n",
       " 'repository': {'gitee': 'https://gitee.com/wm-chen/mlcbase',\n",
       "  'github': 'https://github.com/wmchen/mlcbase',\n",
       "  'gitlab': 'https://gitlab.com/wm-chen/mlcbase'}}"
      ]
     },
     "execution_count": 10,
     "metadata": {},
     "output_type": "execute_result"
    }
   ],
   "source": [
    "load_yaml(\"./examples/yamlfile.allow_unicode.yaml\", logger=logger)"
   ]
  },
  {
   "cell_type": "markdown",
   "metadata": {},
   "source": [
    "## 3. XML"
   ]
  },
  {
   "cell_type": "markdown",
   "metadata": {},
   "source": [
    "### 3.1 Save XML file\n",
    "\n",
    "You can save a XML file by calling `save_xml()`.\n",
    "\n",
    "NOTE that the saving data should be a dictionary with single root.\n",
    "\n",
    "#### Arguments\n",
    "\n",
    "| args | type | remark |\n",
    "| :--- | :--- | :----- |\n",
    "| `data` | dict | The data to save |\n",
    "| `path` | PathLikeType | The path to save |\n",
    "| `encoding` | str | The encoding method. Defaults to \"utf-8\" |\n",
    "| `logger` | Optional[Logger] | Defaults to None |\n",
    "\n",
    "#### Return\n",
    "\n",
    "It returns True if success, otherwise returns False."
   ]
  },
  {
   "cell_type": "code",
   "execution_count": 11,
   "metadata": {},
   "outputs": [],
   "source": [
    "# example data for xml\n",
    "module_info_xml = dict(module=dict(name=\"mlcbase\",\n",
    "                                   repository=dict(github=\"https://github.com/wmchen/mlcbase\",\n",
    "                                                   gitlab=\"https://gitlab.com/wm-chen/mlcbase\",\n",
    "                                                   gitee=\"https://gitee.com/wm-chen/mlcbase\"),\n",
    "                                   author=\"Weiming Chen\",\n",
    "                                   contributors=[\"Yuanshuang Sun\"],\n",
    "                                   location=\"中国大陆\"))"
   ]
  },
  {
   "cell_type": "code",
   "execution_count": 12,
   "metadata": {},
   "outputs": [
    {
     "data": {
      "text/plain": [
       "True"
      ]
     },
     "execution_count": 12,
     "metadata": {},
     "output_type": "execute_result"
    }
   ],
   "source": [
    "save_xml(module_info_xml, \"./examples/xmlfile.xml\", logger=logger)"
   ]
  },
  {
   "cell_type": "markdown",
   "metadata": {},
   "source": [
    "### 3.2 Load XML file\n",
    "\n",
    "You can load a XML file by calling `load_xml()`\n",
    "\n",
    "#### Arguments\n",
    "\n",
    "| args | type | remark |\n",
    "| :--- | :--- | :----- |\n",
    "| `path` | PathLikeType | The path to load |\n",
    "| `logger` | Optional[Logger] | Defaults to None |\n",
    "\n",
    "#### Return\n",
    "\n",
    "It returns the data as a ConfigDict if success, otherwise returns None"
   ]
  },
  {
   "cell_type": "code",
   "execution_count": 13,
   "metadata": {},
   "outputs": [
    {
     "data": {
      "text/plain": [
       "{'module': {'name': 'mlcbase',\n",
       "  'repository': {'github': 'https://github.com/wmchen/mlcbase',\n",
       "   'gitlab': 'https://gitlab.com/wm-chen/mlcbase',\n",
       "   'gitee': 'https://gitee.com/wm-chen/mlcbase'},\n",
       "  'author': 'Weiming Chen',\n",
       "  'contributors': 'Yuanshuang Sun',\n",
       "  'location': '中国大陆'}}"
      ]
     },
     "execution_count": 13,
     "metadata": {},
     "output_type": "execute_result"
    }
   ],
   "source": [
    "load_xml(\"./examples/xmlfile.xml\", logger=logger)"
   ]
  }
 ],
 "metadata": {
  "kernelspec": {
   "display_name": "mlcbase_py38",
   "language": "python",
   "name": "python3"
  },
  "language_info": {
   "codemirror_mode": {
    "name": "ipython",
    "version": 3
   },
   "file_extension": ".py",
   "mimetype": "text/x-python",
   "name": "python",
   "nbconvert_exporter": "python",
   "pygments_lexer": "ipython3",
   "version": "3.8.19"
  }
 },
 "nbformat": 4,
 "nbformat_minor": 2
}
