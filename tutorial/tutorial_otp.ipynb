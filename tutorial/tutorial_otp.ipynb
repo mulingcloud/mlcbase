{
 "cells": [
  {
   "cell_type": "markdown",
   "metadata": {},
   "source": [
    "# Tutorial for OTP Features in MLCBase\n",
    "\n",
    "[![PyPI](https://img.shields.io/pypi/v/mlcbase)](https://pypi.org/project/mlcbase/) &nbsp;\n",
    "[![license](https://img.shields.io/github/license/wmchen/mlcbase.svg)](https://www.apache.org/licenses/LICENSE-2.0)\n",
    "\n",
    "Author: [Weiming Chen](https://weimingchen.net) and [Yuanshuang Sun](https://www.mulingcloud.com/author/yuanshuang-sun/)"
   ]
  },
  {
   "cell_type": "markdown",
   "metadata": {},
   "source": [
    "## Introduction\n",
    "\n",
    "We support two methods for OTP: Time-based One-Time Password (TOTP) and HMAC-based One-Time Password (HOTP)."
   ]
  },
  {
   "cell_type": "code",
   "execution_count": 1,
   "metadata": {},
   "outputs": [
    {
     "name": "stdout",
     "output_type": "stream",
     "text": [
      "\n",
      "👋 \u001b[34mWelcome to use \u001b[31mMuLingCloud\u001b[34m. We aim to let everything easier.\u001b[34m\n",
      "\n",
      "📍 \u001b[33mmlcbase (1.2.0.dev.202405) imported\u001b[39m\n",
      "\n"
     ]
    }
   ],
   "source": [
    "import sys\n",
    "sys.path.append(\"../src\")\n",
    "from datetime import datetime, timedelta\n",
    "from mlcbase import Logger, generate_otp_secret, generate_otp_code, verify_otp_code\n",
    "\n",
    "logger = Logger()\n",
    "logger.init_logger()"
   ]
  },
  {
   "cell_type": "markdown",
   "metadata": {},
   "source": [
    "## 1. Generate OTP secret\n",
    "\n",
    "You can generate an OTP secret by calling `generate_otp_secret()`.\n",
    "\n",
    "#### Arguments\n",
    "\n",
    "| args | type | remark |\n",
    "| :--- | :--- | :----- |\n",
    "| `account_name` | str | The name of the account associated with the key |\n",
    "| `method` | str | The OTP method. Options including \"TOTP\" and \"HOTP\". Defaults to \"TOTP\" |\n",
    "| `issuer` | str | The name of the key's issuing organization. Defaults to \"MuLingCloud\" |\n",
    "| `algorithm` | str | The hashing algorithm used to generate the OTP code. Options including \"SHA1\", \"SHA256\", and \"SHA512\". Defaults to \"SHA1\" |\n",
    "| `period` | int | The length of time in seconds used to generate a counter for the TOTP code calculation. Only be used in TOTP method. Defaults to 30 |\n",
    "| `initial_count` | int | The starting HMAC counter value. Only be used in HOTP method. Defaults to 0 |\n",
    "| `digits` | int | The number of digits in the generated OTP code, which should be 6 or 8. Defaults to 6 |\n",
    "| `return_secret_key` | bool | Whether to return the value of secret key. Defaults to True |\n",
    "| `return_qr_code` | bool | Whether to return the QR code in base64 format. Defaults to True |\n",
    "| `qr_save_path` | Optional[PathLikeType] | The path to save the QR code. Defaults to None |\n",
    "| `qr_config` | dict | The configuration of the QR code |\n",
    "| `logger` | Optional[Logger] | Defaults to None |\n",
    "\n",
    "The default `qr_config` is as follows. The details of QRCode arguments plese refer to https://github.com/lincolnloop/python-qrcode.\n",
    "\n",
    "If `has_logo` is True but `logo` is None, it will attach the logo of ours automatically.\n",
    "\n",
    "```python\n",
    "qr_config = ConfigDict(\n",
    "    version=1,                         # QRCode arguments\n",
    "    error_correction=ERROR_CORRECT_M,  # QRCode arguments\n",
    "    box_size=10,                       # QRCode arguments\n",
    "    border=4,                          # QRCode arguments\n",
    "    fit=True,                          # QRCode arguments\n",
    "    back_color=\"white\",                # The background color of the QRCode\n",
    "    fill_color=\"black\",                # The foreground color of the QRCode\n",
    "    has_logo=True,                     # whether to attach a logo in the center of QRCode\n",
    "    logo=None,                         # The local path or the url of the logo\n",
    "    factor=4                           # The size divisor of the logo\n",
    ")\n",
    "```\n",
    "\n",
    "#### Return\n",
    "\n",
    "It returns a ConfigDict containing the meta data, secret key (optional), and QR code (optional)"
   ]
  },
  {
   "cell_type": "markdown",
   "metadata": {},
   "source": [
    "### 1.1 TOTP method\n",
    "\n",
    "The example as follows use the default setting that generates an TOTP secret which can be parsed by Google Authenticator.\n",
    "\n",
    "You can use your Google Authenticator to scan the [QRCode](./examples/totp_qr_code.png) and try."
   ]
  },
  {
   "cell_type": "code",
   "execution_count": 2,
   "metadata": {},
   "outputs": [
    {
     "data": {
      "text/plain": [
       "{'metadata': {'method': 'TOTP',\n",
       "  'issuer': 'MuLingCloud',\n",
       "  'account_name': 'your account name',\n",
       "  'algorithm': 'SHA1',\n",
       "  'period': 30,\n",
       "  'digits': 6},\n",
       " 'url': 'otpauth://totp/MuLingCloud:your%20account%20name?secret=BMQX532SW2KAGJ66QKGYSH5BOFSUBYHO&issuer=MuLingCloud',\n",
       " 'secret': 'BMQX532SW2KAGJ66QKGYSH5BOFSUBYHO',\n",
       " 'qr_code': b'iVBORw0KGgoAAAANSUhEUgAAAeoAAAHqCAYAAADLbQ06AAAV3ElEQVR4nO3dO5YcR3YG4GwdrGK2MMboAZ/dhszxJFP0KHIB9NHwZwECx9N44Hg0aaDhY4ZDg1vgNkoGWVCjWI/Iqqi8f0V+3zl9gAN0Z0Q+/46syJt3m81mMwEAkf6pugMAwGGCGgCCCWoACCaoASCYoAaAYIIaAIIJagAIJqgBIJigBoBgghoAgglqAAgmqAEgmKAGgGCCGgCCCWoACCaoASCYoAaAYIIaAIIJagAIJqgBIJigBoBgghoAgglqAAgmqAEgmKAGgGCCGgCCCWoACCaoASCYoAaAYIIaAIIJagAIJqgBIJigBoBgghoAgglqAAgmqAEgmKAGgGCCGgCCCWoACPaiugOn3N3dVXch0mazafq+3tuvtd1W6ft3lO3cynpcpvfxsrbzrUrVcdrKiBoAgglqAAgmqAEgmKAGgGCCGgCCCWoACCaoASCYoAaAYIIaAILFVyZrlV5ZptUolYNGqQzVu4JU73Z7S6+E1bt/VeubXsHM9TSLETUABBPUABBMUANAMEENAMEENQAEE9QAEExQA0AwQQ0AwQQ1AAQbpjJZq1EqPlW1m155qaqSU9V69FZVSSy9Ulyr9OO0t7VdT6sYUQNAMEENAMEENQAEE9QAEExQA0AwQQ0AwQQ1AAQT1AAQTFADQLDVVSZbm6rKQb31Xo+qilRVy6uSvp17G6XiGFmMqAEgmKAGgGCCGgCCCWoACCaoASCYoAaAYIIaAIIJagAIJqgBIJjKZINrrYBUVVEpvX9Vld16r296hbD0/VbVPxXMmCYjagCIJqgBIJigBoBgghoAgglqAAgmqAEgmKAGgGCCGgCCCWoACLa6ymQq/eyXXhmqd7vW97LltaqqPNe73VH2b2+up8swogaAYIIaAIIJagAIJqgBIJigBoBgghoAgglqAAgmqAEgmKAGgGDDVCarqhyUrqpyVfryelvb+rZKP15arW3/ph9Xa2NEDQDBBDUABBPUABBMUANAMEENAMEENQAEE9QAEExQA0AwQQ0AweIrk/WuMESW9ApNrXr3L31909kf+7me3iYjagAIJqgBIJigBoBgghoAgglqAAgmqAEgmKAGgGCCGgCCCWoACHa3CS9V01oRqKrCVXplrfTt0tsoFaRa9d6/VcvrLX19q7bfKO2Ocr1qZUQNAMEENQAEE9QAEExQA0AwQQ0AwQQ1AAQT1AAQTFADQDBBDQDBXlR3oJf0SklVlX5a9a4IlF45aJQKUmurxNYqveJYb+nHae/lpVcS682IGgCCCWoACCaoASCYoAaAYIIaAIIJagAIJqgBIJigBoBgghoAgg1TmaxKVSWi9Apra6tYlF4pbm2VnFpVVbxrNUrltFbp26+KETUABBPUABBMUANAMEENAMEENQAEE9QAEExQA0AwQQ0AwQQ1AAS724SXZFlbJZ1Wa6uI1ltVxaK17beqim1VRjmuRtnOrdLX14gaAIIJagAIJqgBIJigBoBgghoAgglqAAgmqAEgmKAGgGCCGgCCvajuQC+jVF5q1bq+Vf0bpUJTVQWk9P3Wqmp9nZdZ1ra+vRlRA0AwQQ0AwQQ1AAQT1AAQTFADQDBBDQDBBDUABBPUABBMUANAsLtNVUkvFlFVaapVVQWzVrbfMtIriVVJr+jlvFyGETUABBPUABBMUANAMEENAMEENQAEE9QAEExQA0AwQQ0AwQQ1AAR7Ud2BU3pXXkqvaJPev1a916PqOEjfv1XSK4m19q/qfEs/DtLPo7UxogaAYIIaAIIJagAIFv8ZNYxklM/qzlmP9M9lIZWgBhaxG+6CG9q49Q2U2Gw2w9xhgGsS1HCAEFmGwIbj3PqGHUKjxna7uyUOnzKihl/d39//Q0jX22w206tXr56q+wEp7jaDXJlGqTSVXmEtvSJVq931GOQ0GM65+2mUCn/pbOdlGFGzei4OuewbENSsnCDIZx+xdoKa1RIAt8O+Ys3M+maVRr/w//zhx+m7L74++X0vv/p8+rcv/2uBHl1u9H0Gh5hMtlC7rdIny4wymWw0b/7l37st68sfvu+2rComOS3Ddl6GoF6o3VaCer9BDtOueobzIbca2gJkGbbzMgT1Qu22EtT7DXKYXuxvb/4yffif/y1p+5ZCW4Asw3ZehqBeqN1Wgnq/QQ7Ts1UG9K5bCGwBsgzbeRmCeqF2Wwnq/QY5TM+yxC3uudLDWoAsw3ZehqAOazd9PVpVre+x5d3aoZ4Y0LsqA7vHvk6vKz7KdWOUdqt4jppVuLUT9hZCeppq+3lr+xTOZUQd1m76erRKG1HfymHe+vxzi5bR7q0/1nXp/jaivsza2q0iqMPaTV+PVklBfSuH+KWh2SMoL520lhLWgvqy5bVaW7tVBHVYu+nr0UpQz3NuSF8zGBP7tI+gzr9ujNJuFUEd1m76erQS1O3OCcQlwzC9f4I6/7oxSrtVBHVYu+nr0UpQt/nui6+nnz/82Pz9f/zzn6bfvfzDFXt02NzAXiqsBXX+dWOUdquY9c3Qkk/Unz/8OCukv/zh+7KQ3rY/x1IzwpP3MfQgqKHInNndKQVGvvzh++mPf/5TdTdgVdz6Dms3fT1apdz6Tj28W0ebya+hbF2HJX7JOHe/u/V9mbW1WyU+qNNLVq7tgOltjSUIWwOu8vPoVklh/Vz6L55V7Y5yXUvvX29ufUOgl199Hh/S05RzSx5GJqhhQa0j0NTb3fssXQEN1kZQQ5hRR6nCGs4jqGEhLUF1qyF9q/2GW2Ay2QGjTLpIt5bJZC01tEcKu2OFXCpmgV/KZLLLltdbev96e1HdAViDS150cYv2PWvt1jecR1BDgJFG04esYR3hGnxGDVdmJAlcQlBDMSNN4Jhhbn2nlwwcZdJU+mSZqhKiqaPmOf069QvDm7ffTm/evp3V/t//+u2s7+8lvWTlucfzpe32VtW/USaJtRomqGFpPcL55Vefd+jJftUhPU3T9K//8Z8f/14V2nDrBDXM1HP0fK0KZHP6eOptWB9++umskN61DW2BDfMIamiUent7V+/XZ/73q8cLevNbAhvmMZkMGtxKSP/tzV8OFhrZ1RLSz29d93bNZcNIBDWccK2Q7j3b++cPPzYXVqkO6SXbgFsnqOGAnz/8eDMj6e+++Lr5lnfLBLYlA1RYw3GCGg6Y81lvtdbb3dN0egJbRXAKazhsmJdypBev7y39uclW197O526nc0bSVYVLWvv6u5d/ODnDe05gnpoMdk74pk4wS79uVD033io8ZuIJ6oWW15ug7rv853o+f3xtPfvaM6SXXPYS0q8bgnps8Y9nVVW0GeVATa8cdMvbWUi3+/tfv428vZ1e+atV+nneKn1gVsVn1PBMa/gJ6flafzYx0KGSoIaZhPT5Em9rQzpBDb9qCUAhfbmWZRlVw/8T1NBISPdjZA3tBDXcgJFCGphHUMP0S43sVGsN6d4vA4FbJahhmk7WyE4vZjJNtxfSp9r48NNPV+8D3AJBDaFGDmmgnaCGQEIa2IqvTLa2SjXp/UuvOLbbbnrFoX2E9OV6H39rq/zVe3np16t0RtQQREgDuwQ1hBDSwD6CGgIIaeAQQQ3TL+9qPua7L76+WttrDek3b4+3//L3v1+oJ5DN+6gvXF5vo6zvLU4mOxWY13iWeq0hPU2n+3tJH9PfEz/KedkqfbukM6KGImsOaaCdoIZGc4K157JGDGlvx4J2ghp+1XJru0dYC+nTfU7pKyQQ1DDTJWEtpI2kYa74yWRVqiZD9VY1Oa1V4uHXGqZzJ5cJ6bY+L9nflEmPae0mnpfPreE69JwRNZxpTvAKaSNpOJcR9QGj/MZmRH2ec25vHwrYtYb0OeG8dJ/TR7ZV7aael1truQ5tCeoDRjkQBPX5es7ybrFkSCeOcCt+sUgPzKp2k8/LaVrXdWia3PqGCGsPaVXI4DBBDQd8+cP308uvPl+knWN6hvSpsp0Vvnn9OH3z+rG6GxDLre8DRrm14tZ3H9e6Db72kXT15+jpt6Cr2k0/L9d2HTKihgbXqPMtpPNG95DoRXUH4FZsg7XH6HrNt7sFNMwjqGGmSwP7VEjPCdaW0Hvz9m3z8q5JQMN54j+jXttnEaO8hi6l3aX2d69qZnNG0t+8fjw5W7r6lnd6OKe/VnaU61/6dk4nqMMI6r7tpu9vaqUHyCjXv/TtnM5kMgAIJqgBIJighgJVH3EAt0dQwxXd3d0dDOVj/3fM69evjy7v2FcvDw8PV1ku8Fsez4IF3N3ddZvY8urVq7PC8fHxsfl75y6/5/oBnzLrO4xZ333brdjf275uNptP/n7oe47926k2to79zJzlHlp+i/Rza5/02cijXP/St3M6t77hSo7d8n7+993bxy0Xoc1m88nX7rIuvS29Xeb9/f1v2jr0BVyHW9+wgJZR7dywu/bdF+ELGYYZUVf91t8ygWfOBbV1PdJHOa39u/b2S7ZvRDz356dpmt69e1ey/3cnlFVOLLv2+Xbt/h766t2/3udb7+W1qrq+VBkmqCHZ9sJxaMb2HM+XsV1mjwtQ60Vt+/X09HTxugCnDTOZbJRJEr2lT+IYZbLM1u4t7tevX0+Pj4+fjJq3v+nvG0n33G6Pj4/Tq1evZve91f39/ce/74b20vthzuS6JftxqfTzKP38Tb8+t/IZNXT2/KT/7LPPDv7f87De/b+WNnZ//pzA37fMff29dNnA+QQ1dLQbYu/fv//4991g7d3WMa1B27LM3usBHOfW94XW1j+3vuc5FJAPDw+f3C4+t9+7t9D3jbSP9aO1jV27bVZz63td7bZKvz63MpkMFrB7IXj37t3Fy9x3ETr2b9vZ4Ze0sW+W8S3MmoVb5tY3XMGc8Job2nNGx5eMeOeMUlNG1jAiI2roaN9jUadqbG+fR7603X396BWeh5ZzaDIb0I+gho72zeLeF9Stt60PtXGoUMrurelzwnP3F4fNZjM9PT01PastrKG/+Fvfo9xOq7qA9d5+Vfvjlo6DU33dFizZF7S7z2Gfcug2+PNHreYuc/eZ6FPH7r7HuqqNcr6lbddrW9v6tjKihoU9L4AyTfsv7i0XrIeHh6PL2Dfp69KSifd7XtIBXFf8iBpGcuhz491RacsksZbvPVbEpPVnWsL40GNhwOUENVzRnNCbc7t7bhWzuT93bmWzCm6XMjq3vuHKUuYJGO3CbRLUABBMUANnccsZliGoYWGHipO0fv+pfz/V9m57txy4t9x3aGUyGdyoc+t2+6wabosRNRR4XozkWOGTlmVs//58mc//3vqWrru7u+n169e/KZSy299Ln8XuJaEPsIT411y2GuWkHeURF6+rO+z5yPb5qym3/zZNvxQz2b6s49BjVftea7m7nH2vwXzu6enpY+GUfaVHj71Cs/q56VHO+SV5ne1tMqKGIrulOlv/75j7+/tZ3//+/fuz2qkmpFkTQQ0FNpvN9PDw8PGFF9P0S8gemzg255bzoTdyHXuz1/Pb29t/P/cXBqCjzSCmaRria5TtV9W/dO/evfvYz+2f9/f3n/zb9uv+/v6T79va/ffn///u3btPvnffNnm+rXbb2d2O2/+fpunjsrf/v9vWUqrP0Vv+6r2Nq/bZ2viMOkzV7kj/DGmkz6ivLelz5N5GOc+rtB4LPqPO4vEsGMwm8LWTwPkENQxobSMOGJnJZAAQTFADQDBBDQDB4j+jrprtWzVLsWoSUPps84X69zRN0/0SDXHcw8PDP56env753J9Pf+og7LiPkb7fqsQ/niWolyGoSdHjHEi/4Kcf96Osb/p2bhU/ogbWwSNlsJ/PqOEI4XF9KW/jglRG1HCC9zhfh3CGNoIaGu0Gi+CeRzDDeQQ1nOmc4FlbbWThDJfzGTUABBPUABBMUANAsPjPqNMLmfSWXkCgN+/HXabdqvVNP3+rzqP07ZJeoCn9Ot6bETUABBPUABBMUANAMEENAMEENQAEE9QAEExQA0AwQQ0AwQQ1AASLr0zWqqpSTXoFn97WVhGtt/QKa63Sj+dRtkvvCnDp+63V2tbXiBoAgglqAAgmqAEgmKAGgGCCGgCCCWoACCaoASCYoAaAYIIaAILdbdJLSIWrqtSVXnFnbZWD0lXtj7UdB2ureFd1XVtbbBlRA0AwQQ0AwQQ1AAQT1AAQTFADQDBBDQDBBDUABBPUABBMUANAsBfVHThlbZVq0te3tX+jrEd6Rbmq7VdV4Sq9clpV/9LPIy5jRA0AwQQ1AAQT1AAQTFADQDBBDQDBBDUABBPUABBMUANAMEENAMHuNqOU9OosvbJWq6rKUFWVpnpLr/g0yvE3ivQKa1XSK8qlbz8jagAIJqgBIJigBoBgghoAgglqAAgmqAEgmKAGgGCCGgCCCWoACPaiugO9pFf6qepfVaWkUSpSjbLf0isvpfcv/XhO798olQqrGFEDQDBBDQDBBDUABBPUABBMUANAMEENAMEENQAEE9QAEExQA0Cwu016SSAuMkrlqt5UQNpvlOOg93FfVaEu/fytOo9G2X6tjKgBIJigBoBgghoAgglqAAgmqAEgmKAGgGCCGgCCCWoACCaoASDYi+oOnKKC1H69K+mkV3Jq1dq/qspG6ctrNUq76evR2yiVulqNsh5G1AAQTFADQDBBDQDBBDUABBPUABBMUANAMEENAMEENQAEE9QAECy+MlmrUSrQpFf0GkV6hav0ylW9l7e2CmZVx0H6eZ5+HFQxogaAYIIaAIIJagAIJqgBIJigBoBgghoAgglqAAgmqAEgmKAGgGB3m/CSLKNUfKqqgFQlfb+Nsj9GqVyVfrz0Nsp6tBrlfKtiRA0AwQQ1AAQT1AAQTFADQDBBDQDBBDUABBPUABBMUANAMEENAMFeVHeA66qq+DRK5aVRtsvaKjlV6b2dRzn+0peXfn4YUQNAMEENAMEENQAEE9QAEExQA0AwQQ0AwQQ1AAQT1AAQTFADQDCVyZilqvJSq/RKZ1X96125qkr6elT1r2p9qyqntUq/HrQyogaAYIIaAIIJagAIJqgBIJigBoBgghoAgglqAAgmqAEgmKAGgGCrq0yWXnmpt6pKP70rFrWqqpSUXgmranmtqo6XtVXM6n08j3I9SGdEDQDBBDUABBPUABBMUANAMEENAMEENQAEE9QAEExQA0AwQQ0AwYapTFZV6SddegWu9MpB6RWkei+van2rKlxVHX9rq/yVvh7pjKgBIJigBoBgghoAgglqAAgmqAEgmKAGgGCCGgCCCWoACCaoASDY3Sa9NBQArJgRNQAEE9QAEExQA0AwQQ0AwQQ1AAQT1AAQTFADQDBBDQDBBDUABBPUABBMUANAMEENAMEENQAEE9QAEExQA0AwQQ0AwQQ1AAQT1AAQTFADQDBBDQDBBDUABBPUABBMUANAMEENAMEENQAEE9QAEExQA0AwQQ0AwQQ1AAQT1AAQTFADQDBBDQDBBDUABBPUABBMUANAMEENAMEENQAEE9QAEExQA0Cw/wMLi62F0Nk7wwAAAABJRU5ErkJggg=='}"
      ]
     },
     "execution_count": 2,
     "metadata": {},
     "output_type": "execute_result"
    }
   ],
   "source": [
    "totp_secret = generate_otp_secret(account_name=\"your account name\", qr_save_path=\"./examples/totp_qr_code.png\", logger=logger)\n",
    "totp_secret"
   ]
  },
  {
   "cell_type": "markdown",
   "metadata": {},
   "source": [
    "### 1.2 HOTP method\n",
    "\n",
    "The usage of HOTP method is similar to that of TOTP.\n",
    "\n",
    "The example as follows generates an HOTP secret with `initial_count=113`."
   ]
  },
  {
   "cell_type": "code",
   "execution_count": 3,
   "metadata": {},
   "outputs": [
    {
     "data": {
      "text/plain": [
       "{'metadata': {'method': 'HOTP',\n",
       "  'issuer': 'MuLingCloud',\n",
       "  'account_name': 'your account name',\n",
       "  'algorithm': 'SHA1',\n",
       "  'initial_count': 113,\n",
       "  'digits': 6},\n",
       " 'url': 'otpauth://hotp/MuLingCloud:your%20account%20name?secret=X7YHAB3HCFE6PD3CDYAABXH6MHZRJJOE&issuer=MuLingCloud&counter=113',\n",
       " 'secret': 'X7YHAB3HCFE6PD3CDYAABXH6MHZRJJOE',\n",
       " 'qr_code': b'iVBORw0KGgoAAAANSUhEUgAAAhIAAAISCAYAAACZPSa/AAAYvUlEQVR4nO3dPXYtV5kG4FIvj4IpOOgL7QFIAaEzcNZkxgzA+b3OGUC7nTWZIXNIIJEbEIGnwDTUgZE5V/ccnTpv7VP7q13Ps5YXBqSqXf+vvqr66ubp6elpAgAI/EfvAQAA2yVIAAAxQQIAiAkSAEBMkAAAYoIEABATJACAmCABAMQECQAgJkgAADFBAgCICRIAQEyQAABiggQAEBMkAICYIAEAxAQJACAmSAAAMUECAIgJEgBATJAAAGKCBAAQEyQAgJggAQDEBAkAICZIAAAxQQIAiAkSAEBMkAAAYoIEABATJACAmCABAMQECQAgJkgAADFBAgCICRIAQEyQAABiggQAEBMkAIDYR70HcM7NzU3vIZT09PQ06+dar7/q821t7nL0Wi9ztV5/rddLr/lWn151oxwf1VXfX1QkAICYIAEAxAQJACAmSAAAMUECAIgJEgBATJAAAGKCBAAQEyQAgFj5zpZzVe/8NVf1zofVO1ZW74w3yvJWX47q0+s131E6dDrf16IiAQDEBAkAICZIAAAxQQIAiAkSAEBMkAAAYoIEABATJACAmCABAMSG6Ww51yidAPc239ad9np17ms93+odJnvZ23oZpdNja3s73/eiIgEAxAQJACAmSAAAMUECAIgJEgBATJAAAGKCBAAQEyQAgJggAQDEdtfZcm9ad3YbpXNkL9U7ZbZWfX+Zq/p8qx9ve+v0uDcqEgBATJAAAGKCBAAQEyQAgJggAQDEBAkAICZIAAAxQQIAiAkSAEBMZ8vBte6Mt7fOka31Wn/V51u9w2n1/Wqu6scv26QiAQDEBAkAICZIAAAxQQIAiAkSAEBMkAAAYoIEABATJACAmCABAMR219lylA51rbXugNnaKJ0Pe63nXvt9646p1ddz9c6Rezv/7W15e1GRAABiggQAEBMkAICYIAEAxAQJACAmSAAAMUECAIgJEgBATJAAAGLDdLas3lGul9YdA+dq3Vmw+vTm2tv45uq1fXupvj9X3x7O97WoSAAAMUECAIgJEgBATJAAAGKCBAAQEyQAgJggAQDEBAkAICZIAACx8p0tq3eoG0X1joutjdLBsbVex9soHSvnqn68VT8+qEVFAgCICRIAQEyQAABiggQAEBMkAICYIAEAxAQJACAmSAAAMUECAIjdPBVvJVa9A5xOheuo3imz9Xquvrx7U73j51yjnCd7HW/V118vKhIAQEyQAABiggQAEBMkAICYIAEAxAQJACAmSAAAMUECAIgJEgBA7KPeAzineufIuXp1YqveKa41HQjXocPf2Fpv317nodaqX2d6UZEAAGKCBAAQEyQAgJggAQDEBAkAICZIAAAxQQIAiAkSAEBMkAAAYuU7W47SGU/nw2Wqd5QbZXtUH19r1Y/LXsfRKB0m5y7H3s5XralIAAAxQQIAiAkSAEBMkAAAYoIEABATJACAmCABAMQECQAgJkgAALHynS1bd4obpXNf9Q51vdZz9Y6B1VXvaDiXjrjHjbJ9q6veSbY1FQkAICZIAAAxQQIAiAkSAEBMkAAAYoIEABATJACAmCABAMQECQAgVr6z5VyjdBKr3rGytdbbbZT10kuvToq273G9OvvOne8onYdbr5fq15nWVCQAgJggAQDEBAkAICZIAAAxQQIAiAkSAEBMkAAAYoIEABATJACA2M3T3lrFzdSr01nrzdGrw1r1DnC9dvtenSN7GWX7Vu/42Xq+rVVff3vbHq2pSAAAMUECAIgJEgBATJAAAGKCBAAQEyQAgJggAQDEBAkAICZIAACxj3oPgPf16gQ4V+tObL06EPbqUNe6g94onSP3pnrHxV6deOeqvt+3Pn6rH28qEgBATJAAAGKCBAAQEyQAgJggAQDEBAkAICZIAAAxQQIAiAkSAECsfGfLXh0I56remaxXB7jq66V6h8leHQ2rz3euXvtf9f2q+vTmqn4+rd6JsjUVCQAgJkgAADFBAgCICRIAQEyQAABiggQAEBMkAICYIAEAxAQJ6Oj+/v7x6elpevnPXMd+d8k/1ed7wuPSCQC5m6fiLbhadxLrNb1eqq+X4rvfMMvBOvZ2Pug1316dUHupfn5RkYDre+w9AIBrESTgeh7/9Z9vOo6BHz30HgCMyq2NlabXS/X1Unz3G2Y5WMfezge95uvWRi0qEgBATJAAAGKCBAAQEyRggec+EGzaY+8BwJYJEhC6v79/vL29fdN7HCz2ZhImIOatjZWm10v19VJ893t1OaqPnfXt7XzQa77e2qilfJCYq3pA6LXjD7J5y51gRlmvc339819e9PNf/P3PVxpJH4L2MtUv1HPZvscJEgunN5cgsUylIDHKOj3ln9//Y/ru8y+bT3fL4UKQWEaQWDa96gSJhdObS5BYpkqQGGV9vnRpxWGprYUKQWIZQWLZ9KoTJBZOby5BYhlB4jrWDhAvbSVQCBLLCBLLpledILFwenMJEstUCBKjrMtp6h8gXqoeKASJZQSJZdOr7qPeA4AtePv27cM0Tbedh7FYtQDx7HlcxQLF4+SDa3CWisTC6c2lIrFM74rECOuxaog4pligUJFYSEVi2fSqEyQWTm8uQWIZQSK3pQBxqEiYeJym6Y0gsYwgsWx61elsCWds+WDfaoiYpjJjf9N7AFCdisTC6c2lIrFMz4rEVtdhqwvxkspAhTG0oCKxjIrEsulVVz5ICAjrGKUleGvFD4+Tll7Ar3Hhrjim1vbWWrqXUc6Tw2wPQWIZQWJsxQ+PDyzpSrnWhXpJoKgeJgSJdYxynhxmewgSywgSYyt+eHwguUj3ujingaJymBAk1jHKeXKY7SFILCNIjK344fGeSy/MP/vkP6dPv/n9lUYz35bCzzmCxDpGOU+Osj28tQEn3N/fP/Yew1zJ1zkrhIhpykLBP7//xxVG8qrHtWcIW6EisZCKxLiKHxo/GeUT3yMsh4rEOkY5Tw6zPQSJZQSJcRU/NKZpGuPi+9Ily1RteQSJdYxynhxle7i1ATtR7aJ7yiXjLNK0CnZNkICN2vJf7udsbbywZ4IEbNDIIeLZ3HGrSkBfPiNeTK9nFUa5t7u3e5PnbDVEXOrrn//y6ss6Z9/yrNY6qj/TtbfzlYoEbMzcv8BHCBEjLAOMTpCAAY10AXaLA2pzawM2ZK8Xy1NhYq/rAypRkYDBjFSNOOeLv//5p3+maZr++vUfOo8I9kdFAjbCX9+v21OAgkpUJGAgLqbA2gQJACDm1gYU8d3nXy76quVa1YhLbrF88rvfTP/1xX+/+jO/+NWvLx7DF599Nn3x2eW/B7Tno10L9Vp9e2sYM2qDl5bPPawRJCqEiGP+9qc/NpnOa3o0pHJ+OW6U8331/WCu8kGiteoHSHXVO8q1dM1Do/WDk9VCxDSdH1OrEHHomoGicpAY4Xgbyc4uq25twJq2+ubFFkLE4XTXqFAAP/KwJaxEiPjRtULE2vMAfqQiAVe21QAxTdsMES/npToB16UiAVe0Roi41vMRrUPEb9++WzCanOoEXJcgAVeiEnEwvW//OH3/ww9LhrSIMAHX49YGXMGWv/mw5dsZwPoECbiC7//n/y7+nQrtrVuHiEurEJc8z3BpQPnFr37teQm4An0kuMie3mtPD43WF+O1XGPcl1zs04v8pYEinY8+Esy1s8uqZySgl0+/+b0Q8S9LKgV/+9Mfp//96l38+8Ayw1QkqifyvbW63Wsr2bkX5CoBYpq2HSLS+SbzrH6OaUmr72VGWX9zqUjAyoSIg+l99tlF8z/HMxCwPkECGtna6569Q8Q0Td2+4OlNEmhHkIAVValG9A4Rn3z88dWqB6oSsC5BAnamd4iYpunqD0d+8vHHV50+8G8etlyJh42Wqf5Q0pyLc4VqRIUQsVbFYM64LhlL9XNMS6M8LFj9/Fd9/c2lIgE7sacQAaxHkIAdECKAaxEkYAU9b2vsNUQILrAOQQIGttcQAaxndx/t6vUQYOvptV6O1g8HtV4vPbZb9QeczhEiSPV6SLH6w4dbPydci4oEDEiIANYiSMAKvvv8y9XmJUT86Otv+48B9kCQgBX88/t/rDIfIeLfvv72295DgF0QJGAQQgTQgyABDfTuWilEXG5r44WqBAlYybW+DipEfMjXPWE9ggRsmBAB9CZIQCNzLtItqxJCxHGtP9YFvE6QgJW1CBOXvk4qRADXsrvOltU/Bby3zmmtO2puxdc//2X8gOZfv/7DRa+TChHrqd45d2/j62W089U5N0+DbLnqG67Xam7dcrbXiaPH9k232SUVh0vDhNsZx12yDOn4e7RVr36hrt7SepTzVfXLtCCxkuoHUvUDZEtBYpquc8H/7vMvVSJeWHP8gsSHBIla8+1ld7c2oKLD4PHpN7+ffvbJf37wM0LENH3/ww/Tb9++6z0M4ICKxEqqJ/LqSXtrFYlpul7fiHN6hYgKzyi8ZmkQUpH4kIpErfn24q0NuJIe3S4//eb3Z39GiABaEiTgitYME5/87jdHb4kcEiKA1tzaWEn10l71kt0Wb20cuvZtDrczjmsZItza+JBbG7Xm24uKBKyg90e9hAjgWlQkVlI9kVdP2luvSBxqXZ04F1L2FiKuFSBUJD6kIlFrvr2UDxLVN0j1ANNa9RNR9RPboRaBQoj4twoViOr7c/U/LKqrcN6oSJBYyIG0TPUT5VqSUCFE1AgPh6rvz4LEMtXOG1UIEgs5kJapfqKES1TfnwWJZZw3jvOwJQAQEyQAgJggAQDEBAnYsJubm9XvUz/P86uvvlp1vkBNggRswLnAcHNzMz08PMTTfnh4+Gke5/559u7du4vn89r/d25+QE2CBGzIa1WA29vbeLp3d3ezfm7JPKbpdGA49ztAXV7/XGhvJzmvf67neVmenp7e+/djP3N7ezvd39+/978d+/lz85rzO8n0j/3uJbawvaap/v7s9c9ltrIfrq18kOC4Xgdw9SDW8gTY+9A4NsbDMV0zNF1z/dzc3HRft9dS/cJavVV19UA06n671Ee9BwB86PAWxmFF4lRl4qW1KgUJJ2MYi4rERqlIHDdKReLc+E7d7mh12+HU7z48PPz0PMU118+5akxVKhLHVa8gqEgsoyIBGzL3RJac8E49f3HKnFsULS+sI98SgS0TJKCo156HeL6otrhQj/4AJHBdXv+EYub85Z08dDlnWs///fkNkOf/fuyfZNqv/dycf4B6BAkoZs4F81h4WBIoXl6sD/tFnOr1MLdh1HMweS0YVH+2ADhNkIANeb54P1+En//zsKvlkr/cTzW8eu35iTkh4Fgjq5ubmw8CC7A93trYKG9tHDfKWxsvvfZGxctladXfYe48W/WpODbvSttgjuphyFsb60xvb1QkoLhLLtrJie7u7u6iC+DhRT6Z37Gqx6npVL8wAwNVJPb2F3r1FrbV10tlDw8P0+3t7exeCi1bVj///ql5393dvfcgZuLlh7/evn179ucqbNeWVaw97c/TVD8Q2m7LCBILVb9gWi/bc3d3d/JLnueCxKmfOeXUxfrU+l66ftNverSY91KCRE6QGJs+ElDM/f39BxfcUyewYx/2uuT5grkVjmTap6Y5TR8u49xp7O0EDVugIrFQ9b+8rZcxnPv657lbEpfO57V5JdNO9sNjAapy2/Jp8pftKSoSY/OwJWzU81/ohyetJc8vnLvtcKp6Mefkem5cp3pMHM5zbydn2ApBAk577D2AU06V+W9vb9+7aB/r33Bqes9eu2CnF/Nj49hSx8qHh4fH3mOAqtzaWKh6Cd96GcPhLYy5b05c8lGtJb0gRl3nh/QtWMatjbEJEgtVv2BaL7CcILGMIDE2tzYAgJggAZRS/a9X4H276yPRuoRV+VsRLFe5d8Gpb2O8Nt5rLM/Dw8N0d3f33rwrr7fEKN+oqD7f1qqPbxS7CxLAh9IL/8uHQIH9cWsDzri7u3vsPYZTTv3leHhRn3OBn/N2x8ueES8rIKfeJDn1ey//HdgmQQLOeHh4eNN7DOe8vCAffqvj1Hc7jv3+4UX/WFvs19p1H5vfYdOs137veb7HvgwK1CZIwAyVGxI9X7hb3Q8+VmFIb3tc8ntPT08nvwTayUPvAcAWeEYCZri7u3tT8cGtORWC1NyumC/95S9/aTuQfm57DwC2QEUCZhrlfv7h8w6vLdPhmxjHfvbYh8Lu7u6md+/eTdP0YxB5/v/csoBxqUjABr187uFlteT54j/341vn5nHqdw5DxvN3Pl7++8uHMo+N7fB/SyshQB+7a5FdvU9D9fHNNcp77Us/yz2Cw4v+nr6vcU29+s/Mtbfz6Vyj9Ndoza0NuFD1ENfay1sbeztJAq8rf2ujepJtPb7qHwfa2/K6aP5oD+vhtX2n9fJX/0t+FCoI61CRgNxj7wHQRuXXe6E6QQJybyZhYvMeHh4e7+7u3vQeB2xV+YctR3koqbXqtzZGmR5jq76/VHrIeMl8q9+icX5ZRkUCAIgJEgBATJAAAGKCBFzPQ+8B8JPH3gOAUQkScD23vQfATwHiTccxwNAECWBkb3oPAEZXvrNl9deuWhvltaHqr4/1eq345Xzv7+8fb29v3zQdzP48ThsLDL3OL3t7DbO16q/Z9lK+j0QvdtRl05ur+oljrurrr7W9LUf1/jPV979RzkOtjRIk3NoAAGKCBAAQEyQAgJggAQDEBAkAICZIAAAxQQIAiAkSAECsfGfLuXo19qjeQKqXXo1q5hq1U+Za822tesOx6uu5+vprrfr5b65RlkNFAgCICRIAQEyQAABiggQAEBMkAICYIAEAxAQJACAmSAAAMUECAIiV72zZq2Nb9c6Co3Ty7KXX9u1llP25l9bL0fr47XXeGKUTb/XOpdWpSAAAMUECAIgJEgBATJAAAGKCBAAQEyQAgJggAQDEBAkAICZIAACx8p0t5xqlE1uvznNzVV8vrVne46qPb65enSj3RkfNsalIAAAxQQIAiAkSAEBMkAAAYoIEABATJACAmCABAMQECQAgJkgAALGbJ62/FunVObJ6p7jqHTX3trxz7W2/GsXejo/Wqi9H9cu0igQAEBMkAICYIAEAxAQJACAmSAAAMUECAIgJEgBATJAAAGKCBAAQ+6j3APZilE6A1cdXXfWOlb203q96GaXD6SjHr/W3DhUJACAmSAAAMUECAIgJEgBATJAAAGKCBAAQEyQAgJggAQDEBAkAIDZMZ8tROoRV74A5yvSqL8dcrZe3l+rrb5T5tjbK+qt+fFSnIgEAxAQJACAmSAAAMUECAIgJEgBATJAAAGKCBAAQEyQAgJggAQDEyne27NWZrFdHudbz7TW96p3nem3f1uuleudD1jFKp9a5Rjl+R+moqSIBAMQECQAgJkgAADFBAgCICRIAQEyQAABiggQAEBMkAICYIAEAxG6eRmmtxVGjdD7stZtW71A3yvjm0llwmeodIVuz/61DRQIAiAkSAEBMkAAAYoIEABATJACAmCABAMQECQAgJkgAADFBAgCIfdR7AOeM0pmxtV4d0ap3dms939bLW93eOvK1Xt7q+0Gv46319FovR/XpVaciAQDEBAkAICZIAAAxQQIAiAkSAEBMkAAAYoIEABATJACAmCABAMTKd7aca5ROYtU74/UaX68OenP16vjZazlaG2W+vZZj7n5QvXNp9fXX2ijXLRUJACAmSAAAMUECAIgJEgBATJAAAGKCBAAQEyQAgJggAQDEBAkAIDZMZ8u59tbBrFfHxdZ6dXqcq/r6G6Vj6ijrb5SOmnNV3/96qb7fz6UiAQDEBAkAICZIAAAxQQIAiAkSAEBMkAAAYoIEABATJACAmCABAMR219lyb0bpKNe6A1yvjnKt59treUfpyNdrvbRW/Tivfhz1Un27zaUiAQDEBAkAICZIAAAxQQIAiAkSAEBMkAAAYoIEABATJACAmCABAMR0tmSapvqd+3RwrKXX8lbfHqPsB9WXY5TzQfX1PJeKBAAQEyQAgJggAQDEBAkAICZIAAAxQQIAiAkSAEBMkAAAYoIEABDbXWfLUTqJzVW9A9xc1TsaWt5lWi9Hr/VXfb30On5H6TQ6yn7amooEABATJACAmCABAMQECQAgJkgAADFBAgCICRIAQEyQAABiggQAEBums2XrTmyj6NWxsvr05rIcY893b6rvp3NV30/nTm+U/VRFAgCICRIAQEyQAABiggQAEBMkAICYIAEAxAQJACAmSAAAMUECAIjdPI3SWgsAWJ2KBAAQEyQAgJggAQDEBAkAICZIAAAxQQIAiAkSAEBMkAAAYoIEABATJACAmCABAMQECQAgJkgAADFBAgCICRIAQEyQAABiggQAEBMkAICYIAEAxAQJACAmSAAAMUECAIgJEgBATJAAAGKCBAAQEyQAgJggAQDEBAkAICZIAAAxQQIAiAkSAEBMkAAAYoIEABATJACAmCABAMQECQAgJkgAADFBAgCICRIAQOz/ARY+P2EcPvUoAAAAAElFTkSuQmCC'}"
      ]
     },
     "execution_count": 3,
     "metadata": {},
     "output_type": "execute_result"
    }
   ],
   "source": [
    "hotp_secret = generate_otp_secret(account_name=\"your account name\", method=\"HOTP\", initial_count=113, logger=logger)\n",
    "hotp_secret"
   ]
  },
  {
   "cell_type": "markdown",
   "metadata": {},
   "source": [
    "## 2. Generate OTP code\n",
    "\n",
    "You can generate an OTP code by calling `generate_otp_code()`.\n",
    "\n",
    "#### Arguments\n",
    "\n",
    "| args | type | remark |\n",
    "| :--- | :--- | :----- |\n",
    "| `secret_key` | str | The secret key of OTP |\n",
    "| `count` | Optional[int] | The current count number. Only be used in HOTP method. Defaults to None |\n",
    "| `method` | str | The OTP method. Options including \"TOTP\" and \"HOTP\". Defaults to \"TOTP\" |\n",
    "| `algorithm` | str | The hashing algorithm used to generate the OTP code. Options including \"SHA1\", \"SHA256\", and \"SHA512\". Defaults to \"SHA1\" |\n",
    "| `period` | int | The length of time in seconds used to generate a counter for the TOTP code calculation. Only be used in TOTP method. Defaults to 30 |\n",
    "| `initial_count` | int | The starting HMAC counter value. Only be used in HOTP method. Defaults to 0 |\n",
    "| `digits` | int | The number of digits in the generated OTP code, which should be 6 or 8. Defaults to 6 |\n",
    "| `logger` | Optional[Logger] | Defaults to None |\n",
    "\n",
    "#### Return\n",
    "\n",
    "It returns the current OTP code in `str`."
   ]
  },
  {
   "cell_type": "markdown",
   "metadata": {},
   "source": [
    "### 2.1 TOTP method"
   ]
  },
  {
   "cell_type": "code",
   "execution_count": 4,
   "metadata": {},
   "outputs": [
    {
     "data": {
      "text/plain": [
       "'212820'"
      ]
     },
     "execution_count": 4,
     "metadata": {},
     "output_type": "execute_result"
    }
   ],
   "source": [
    "totp_code = generate_otp_code(secret_key=totp_secret.secret, \n",
    "                              method=\"TOTP\",\n",
    "                              algorithm=totp_secret.metadata.algorithm,\n",
    "                              period=totp_secret.metadata.period,\n",
    "                              digits=totp_secret.metadata.digits,\n",
    "                              logger=logger)\n",
    "totp_code"
   ]
  },
  {
   "cell_type": "markdown",
   "metadata": {},
   "source": [
    "### 2.2 HOTP method"
   ]
  },
  {
   "cell_type": "code",
   "execution_count": 5,
   "metadata": {},
   "outputs": [
    {
     "data": {
      "text/plain": [
       "'991115'"
      ]
     },
     "execution_count": 5,
     "metadata": {},
     "output_type": "execute_result"
    }
   ],
   "source": [
    "hotp_code = generate_otp_code(secret_key=hotp_secret.secret, \n",
    "                              count=150,\n",
    "                              method=\"HOTP\",\n",
    "                              algorithm=hotp_secret.metadata.algorithm,\n",
    "                              initial_count=hotp_secret.metadata.initial_count,\n",
    "                              digits=hotp_secret.metadata.digits,\n",
    "                              logger=logger)\n",
    "hotp_code"
   ]
  },
  {
   "cell_type": "markdown",
   "metadata": {},
   "source": [
    "## 3. Verify OTP code\n",
    "\n",
    "You can verify a code by calling `verify_otp_code()`.\n",
    "\n",
    "#### Arguments\n",
    "\n",
    "| args | type | remark |\n",
    "| :--- | :--- | :----- |\n",
    "| `code` | str | The code waiting for verification |\n",
    "| `secret_key` | str | The secret key of OTP |\n",
    "| `count` | Optional[int] | The current count number. Only be used in HOTP method. Defaults to None |\n",
    "| `method` | str | The OTP method. Options including \"TOTP\" and \"HOTP\". Defaults to \"TOTP\" |\n",
    "| `algorithm` | str | The hashing algorithm used to generate the OTP code. Options including \"SHA1\", \"SHA256\", and \"SHA512\". Defaults to \"SHA1\" |\n",
    "| `period` | int | The length of time in seconds used to generate a counter for the TOTP code calculation. Only be used in TOTP method. Defaults to 30 |\n",
    "| `initial_count` | int | The starting HMAC counter value. Only be used in HOTP method. Defaults to 0 |\n",
    "| `digits` | int | The number of digits in the generated OTP code, which should be 6 or 8. Defaults to 6 |\n",
    "| `for_time` | Optional[datetime] | Time to check OTP at (defaults to now). Only used for TOTP method. Defaults to None |\n",
    "| `valid_window` | int | Extends the validity to this many counter ticks before and after the current one. Only used for TOTP method. Defaults to 0 |\n",
    "| `logger` | Optional[Logger] | Defaults to None |\n",
    "\n",
    "#### Return\n",
    "\n",
    "It returns True if verification succeeded, otherwise returns False"
   ]
  },
  {
   "cell_type": "markdown",
   "metadata": {},
   "source": [
    "### 3.1 TOTP method"
   ]
  },
  {
   "cell_type": "code",
   "execution_count": 6,
   "metadata": {},
   "outputs": [
    {
     "data": {
      "text/plain": [
       "True"
      ]
     },
     "execution_count": 6,
     "metadata": {},
     "output_type": "execute_result"
    }
   ],
   "source": [
    "verify_otp_code(totp_code,\n",
    "                secret_key=totp_secret.secret,\n",
    "                method=\"TOTP\",\n",
    "                algorithm=totp_secret.metadata.algorithm,\n",
    "                period=totp_secret.metadata.period,\n",
    "                digits=totp_secret.metadata.digits,\n",
    "                logger=logger)"
   ]
  },
  {
   "cell_type": "markdown",
   "metadata": {},
   "source": [
    "You can set `for_time` to generate the code based on the specific time. If `for_time` is None, it generates the code based on now time.\n",
    "\n",
    "You can set `valid_window` to extend the validation window of TOTP method."
   ]
  },
  {
   "cell_type": "code",
   "execution_count": 7,
   "metadata": {},
   "outputs": [],
   "source": [
    "last_time = datetime.now() - timedelta(seconds=30)"
   ]
  },
  {
   "cell_type": "code",
   "execution_count": 8,
   "metadata": {},
   "outputs": [
    {
     "data": {
      "text/plain": [
       "False"
      ]
     },
     "execution_count": 8,
     "metadata": {},
     "output_type": "execute_result"
    }
   ],
   "source": [
    "verify_otp_code(totp_code,\n",
    "                secret_key=totp_secret.secret,\n",
    "                method=\"TOTP\",\n",
    "                algorithm=totp_secret.metadata.algorithm,\n",
    "                period=totp_secret.metadata.period,\n",
    "                digits=totp_secret.metadata.digits,\n",
    "                for_time=last_time,\n",
    "                logger=logger)"
   ]
  },
  {
   "cell_type": "code",
   "execution_count": 9,
   "metadata": {},
   "outputs": [
    {
     "data": {
      "text/plain": [
       "True"
      ]
     },
     "execution_count": 9,
     "metadata": {},
     "output_type": "execute_result"
    }
   ],
   "source": [
    "verify_otp_code(totp_code,\n",
    "                secret_key=totp_secret.secret,\n",
    "                method=\"TOTP\",\n",
    "                algorithm=totp_secret.metadata.algorithm,\n",
    "                period=totp_secret.metadata.period,\n",
    "                digits=totp_secret.metadata.digits,\n",
    "                for_time=last_time,\n",
    "                valid_window=1,\n",
    "                logger=logger)"
   ]
  },
  {
   "cell_type": "markdown",
   "metadata": {},
   "source": [
    "### 3.2 HOTP method"
   ]
  },
  {
   "cell_type": "code",
   "execution_count": 10,
   "metadata": {},
   "outputs": [
    {
     "data": {
      "text/plain": [
       "True"
      ]
     },
     "execution_count": 10,
     "metadata": {},
     "output_type": "execute_result"
    }
   ],
   "source": [
    "verify_otp_code(hotp_code,\n",
    "                secret_key=hotp_secret.secret,\n",
    "                count=150,\n",
    "                method=\"HOTP\",\n",
    "                algorithm=hotp_secret.metadata.algorithm,\n",
    "                initial_count=hotp_secret.metadata.initial_count,\n",
    "                digits=hotp_secret.metadata.digits,\n",
    "                logger=logger)"
   ]
  }
 ],
 "metadata": {
  "kernelspec": {
   "display_name": "mlcbase_py38",
   "language": "python",
   "name": "python3"
  },
  "language_info": {
   "codemirror_mode": {
    "name": "ipython",
    "version": 3
   },
   "file_extension": ".py",
   "mimetype": "text/x-python",
   "name": "python",
   "nbconvert_exporter": "python",
   "pygments_lexer": "ipython3",
   "version": "3.8.19"
  }
 },
 "nbformat": 4,
 "nbformat_minor": 2
}
