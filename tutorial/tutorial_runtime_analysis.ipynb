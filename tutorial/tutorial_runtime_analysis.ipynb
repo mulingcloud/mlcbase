{
 "cells": [
  {
   "cell_type": "markdown",
   "metadata": {},
   "source": [
    "# Tutorial for Runtime Analysis Features in MLCBase\n",
    "\n",
    "[![PyPI](https://img.shields.io/pypi/v/mlcbase)](https://pypi.org/project/mlcbase/) &nbsp;\n",
    "[![license](https://img.shields.io/github/license/wmchen/mlcbase.svg)](https://www.apache.org/licenses/LICENSE-2.0)\n",
    "\n",
    "Author: [Weiming Chen](https://weimingchen.net) and [Yuanshuang Sun](https://www.mulingcloud.com/author/yuanshuang-sun/)"
   ]
  },
  {
   "cell_type": "markdown",
   "metadata": {},
   "source": [
    "## Introduction\n",
    "\n",
    "We offer a simple way to evaluate the runtime of functions in the Python project. All you need is to wrap the target function by a decorator."
   ]
  },
  {
   "cell_type": "code",
   "execution_count": 1,
   "metadata": {},
   "outputs": [
    {
     "name": "stdout",
     "output_type": "stream",
     "text": [
      "\n",
      "👋 \u001b[34mWelcome to use \u001b[31mMuLingCloud\u001b[34m. We aim to let everything easier.\u001b[34m\n",
      "\n",
      "📍 \u001b[33mmlcbase (1.2.4) imported\u001b[39m\n",
      "\n"
     ]
    }
   ],
   "source": [
    "import sys\n",
    "sys.path.append(\"../src\")\n",
    "from datetime import datetime\n",
    "from mlcbase import wrap_module_timer, delete_register_modules, show_register_modules, runtime_analysis"
   ]
  },
  {
   "cell_type": "markdown",
   "metadata": {},
   "source": [
    "You can wrap the function by adding a decorator `@wrap_module_timer` and the function is registered.\n",
    "\n",
    "After the main program finished, you can analysis the runtime of registered functions by calling `runtime_analysis()`."
   ]
  },
  {
   "cell_type": "code",
   "execution_count": 2,
   "metadata": {},
   "outputs": [],
   "source": [
    "@wrap_module_timer\n",
    "def func_1(num):\n",
    "    for _ in range(num):\n",
    "        pass\n",
    "\n",
    "@wrap_module_timer\n",
    "def func_2():\n",
    "    for _ in range(10000):\n",
    "        pass\n",
    "    pass"
   ]
  },
  {
   "cell_type": "markdown",
   "metadata": {},
   "source": [
    "You can show all the name of registered modules by calling `show_register_modules()`\n",
    "\n",
    "But notice that the module will not be truely registered before it runs."
   ]
  },
  {
   "cell_type": "code",
   "execution_count": 3,
   "metadata": {},
   "outputs": [
    {
     "data": {
      "text/plain": [
       "[]"
      ]
     },
     "execution_count": 3,
     "metadata": {},
     "output_type": "execute_result"
    }
   ],
   "source": [
    "show_register_modules()"
   ]
  },
  {
   "cell_type": "code",
   "execution_count": 4,
   "metadata": {},
   "outputs": [
    {
     "name": "stdout",
     "output_type": "stream",
     "text": [
      "Total runtime: 485.999 ms\n"
     ]
    },
    {
     "data": {
      "text/html": [
       "<pre style=\"white-space:pre;overflow-x:auto;line-height:normal;font-family:Menlo,'DejaVu Sans Mono',consolas,'Courier New',monospace\"><span style=\"font-style: italic\">                              Runtime Analysis                               </span>\n",
       "┏━━━━━━━┳━━━━━━━━┳━━━━━━━━━━━━━━┳━━━━━━━┳━━━━━━━━━━━━━━━━━━┳━━━━━━━━━━━━━━━━┓\n",
       "┃<span style=\"font-weight: bold\"> index </span>┃<span style=\"font-weight: bold\"> module </span>┃<span style=\"font-weight: bold\"> elapsed (ms) </span>┃<span style=\"font-weight: bold\"> calls </span>┃<span style=\"font-weight: bold\"> avg_runtime (ms) </span>┃<span style=\"font-weight: bold\"> percentage (%) </span>┃\n",
       "┡━━━━━━━╇━━━━━━━━╇━━━━━━━━━━━━━━╇━━━━━━━╇━━━━━━━━━━━━━━━━━━╇━━━━━━━━━━━━━━━━┩\n",
       "│   1   │ func_2 │   450.557    │ 1000  │      0.451       │     92.71      │\n",
       "├───────┼────────┼──────────────┼───────┼──────────────────┼────────────────┤\n",
       "│   2   │ func_1 │    8.538     │ 1000  │      0.009       │      1.76      │\n",
       "└───────┴────────┴──────────────┴───────┴──────────────────┴────────────────┘\n",
       "</pre>\n"
      ],
      "text/plain": [
       "\u001b[3m                              Runtime Analysis                               \u001b[0m\n",
       "┏━━━━━━━┳━━━━━━━━┳━━━━━━━━━━━━━━┳━━━━━━━┳━━━━━━━━━━━━━━━━━━┳━━━━━━━━━━━━━━━━┓\n",
       "┃\u001b[1m \u001b[0m\u001b[1mindex\u001b[0m\u001b[1m \u001b[0m┃\u001b[1m \u001b[0m\u001b[1mmodule\u001b[0m\u001b[1m \u001b[0m┃\u001b[1m \u001b[0m\u001b[1melapsed (ms)\u001b[0m\u001b[1m \u001b[0m┃\u001b[1m \u001b[0m\u001b[1mcalls\u001b[0m\u001b[1m \u001b[0m┃\u001b[1m \u001b[0m\u001b[1mavg_runtime (ms)\u001b[0m\u001b[1m \u001b[0m┃\u001b[1m \u001b[0m\u001b[1mpercentage (%)\u001b[0m\u001b[1m \u001b[0m┃\n",
       "┡━━━━━━━╇━━━━━━━━╇━━━━━━━━━━━━━━╇━━━━━━━╇━━━━━━━━━━━━━━━━━━╇━━━━━━━━━━━━━━━━┩\n",
       "│   1   │ func_2 │   450.557    │ 1000  │      0.451       │     92.71      │\n",
       "├───────┼────────┼──────────────┼───────┼──────────────────┼────────────────┤\n",
       "│   2   │ func_1 │    8.538     │ 1000  │      0.009       │      1.76      │\n",
       "└───────┴────────┴──────────────┴───────┴──────────────────┴────────────────┘\n"
      ]
     },
     "metadata": {},
     "output_type": "display_data"
    }
   ],
   "source": [
    "start_time = datetime.now()\n",
    "\n",
    "# main program\n",
    "for i in range(1000):\n",
    "    func_1(i)\n",
    "    func_2()\n",
    "\n",
    "end_time = datetime.now()\n",
    "runtime_analysis(start_time, end_time)"
   ]
  },
  {
   "cell_type": "code",
   "execution_count": 5,
   "metadata": {},
   "outputs": [
    {
     "data": {
      "text/plain": [
       "['func_1', 'func_2']"
      ]
     },
     "execution_count": 5,
     "metadata": {},
     "output_type": "execute_result"
    }
   ],
   "source": [
    "show_register_modules()"
   ]
  },
  {
   "cell_type": "markdown",
   "metadata": {},
   "source": [
    "You can delete a registered module by calling `delete_register_modules()`\n",
    "\n",
    "If you do not specify the `name` arguments of `delete_register_modules()`, it will delete all registered modules."
   ]
  },
  {
   "cell_type": "code",
   "execution_count": 6,
   "metadata": {},
   "outputs": [
    {
     "data": {
      "text/plain": [
       "[]"
      ]
     },
     "execution_count": 6,
     "metadata": {},
     "output_type": "execute_result"
    }
   ],
   "source": [
    "delete_register_modules(name=\"func_1\")  # delete \"func_1\"\n",
    "show_register_modules()\n",
    "\n",
    "delete_register_modules()\n",
    "show_register_modules()  # delete all registered modules"
   ]
  },
  {
   "cell_type": "markdown",
   "metadata": {},
   "source": [
    "If you do not care about the total runtime, the `start_time` and `end_time` of the main program are not required.\n",
    "\n",
    "Besides, the default unit of runtime is millisecond, you can specify another unit by specifying the `unit` arguments. Supported units: `h`-hour, `min`-minute, `s`-second, `ms`-millisecond, `us`-microsecond."
   ]
  },
  {
   "cell_type": "code",
   "execution_count": 7,
   "metadata": {},
   "outputs": [
    {
     "data": {
      "text/html": [
       "<pre style=\"white-space:pre;overflow-x:auto;line-height:normal;font-family:Menlo,'DejaVu Sans Mono',consolas,'Courier New',monospace\"><span style=\"font-style: italic\">                      Runtime Analysis                      </span>\n",
       "┏━━━━━━━┳━━━━━━━━┳━━━━━━━━━━━━━━┳━━━━━━━┳━━━━━━━━━━━━━━━━━━┓\n",
       "┃<span style=\"font-weight: bold\"> index </span>┃<span style=\"font-weight: bold\"> module </span>┃<span style=\"font-weight: bold\"> elapsed (us) </span>┃<span style=\"font-weight: bold\"> calls </span>┃<span style=\"font-weight: bold\"> avg_runtime (us) </span>┃\n",
       "┡━━━━━━━╇━━━━━━━━╇━━━━━━━━━━━━━━╇━━━━━━━╇━━━━━━━━━━━━━━━━━━┩\n",
       "│   1   │ func_2 │    429476    │ 1000  │     429.476      │\n",
       "├───────┼────────┼──────────────┼───────┼──────────────────┤\n",
       "│   2   │ func_1 │    21558     │ 1000  │      21.558      │\n",
       "└───────┴────────┴──────────────┴───────┴──────────────────┘\n",
       "</pre>\n"
      ],
      "text/plain": [
       "\u001b[3m                      Runtime Analysis                      \u001b[0m\n",
       "┏━━━━━━━┳━━━━━━━━┳━━━━━━━━━━━━━━┳━━━━━━━┳━━━━━━━━━━━━━━━━━━┓\n",
       "┃\u001b[1m \u001b[0m\u001b[1mindex\u001b[0m\u001b[1m \u001b[0m┃\u001b[1m \u001b[0m\u001b[1mmodule\u001b[0m\u001b[1m \u001b[0m┃\u001b[1m \u001b[0m\u001b[1melapsed (us)\u001b[0m\u001b[1m \u001b[0m┃\u001b[1m \u001b[0m\u001b[1mcalls\u001b[0m\u001b[1m \u001b[0m┃\u001b[1m \u001b[0m\u001b[1mavg_runtime (us)\u001b[0m\u001b[1m \u001b[0m┃\n",
       "┡━━━━━━━╇━━━━━━━━╇━━━━━━━━━━━━━━╇━━━━━━━╇━━━━━━━━━━━━━━━━━━┩\n",
       "│   1   │ func_2 │    429476    │ 1000  │     429.476      │\n",
       "├───────┼────────┼──────────────┼───────┼──────────────────┤\n",
       "│   2   │ func_1 │    21558     │ 1000  │      21.558      │\n",
       "└───────┴────────┴──────────────┴───────┴──────────────────┘\n"
      ]
     },
     "metadata": {},
     "output_type": "display_data"
    }
   ],
   "source": [
    "# main program\n",
    "for i in range(1000):\n",
    "    func_1(i)\n",
    "    func_2()\n",
    "\n",
    "runtime_analysis(unit=\"us\")"
   ]
  }
 ],
 "metadata": {
  "kernelspec": {
   "display_name": "mlcbase_dev",
   "language": "python",
   "name": "python3"
  },
  "language_info": {
   "codemirror_mode": {
    "name": "ipython",
    "version": 3
   },
   "file_extension": ".py",
   "mimetype": "text/x-python",
   "name": "python",
   "nbconvert_exporter": "python",
   "pygments_lexer": "ipython3",
   "version": "3.10.15"
  }
 },
 "nbformat": 4,
 "nbformat_minor": 2
}
