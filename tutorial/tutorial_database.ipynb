{
 "cells": [
  {
   "cell_type": "markdown",
   "metadata": {},
   "source": [
    "# Tutorial for Database Features in MLCBase\n",
    "\n",
    "[![PyPI](https://img.shields.io/pypi/v/mlcbase)](https://pypi.org/project/mlcbase/) &nbsp;\n",
    "[![license](https://img.shields.io/github/license/wmchen/mlcbase.svg)](https://www.apache.org/licenses/LICENSE-2.0)\n",
    "\n",
    "Author: [Weiming Chen](https://weimingchen.net) and [Yuanshuang Sun](https://www.mulingcloud.com/author/yuanshuang-sun/)"
   ]
  },
  {
   "cell_type": "markdown",
   "metadata": {},
   "source": [
    "## Introduction\n",
    "\n",
    "This tutorial offers some examples to help you get familiar with our database APIs quickly.\n",
    "\n",
    "Currently supported database backend:\n",
    "- MySQL\n",
    "- SQLite\n",
    "\n",
    "Other backends such as PostgreSQL, MariaDB, MongoDB, Oracle, Redis, etc. are on the considered list."
   ]
  },
  {
   "cell_type": "code",
   "execution_count": 1,
   "metadata": {},
   "outputs": [
    {
     "name": "stdout",
     "output_type": "stream",
     "text": [
      "\n",
      "👋 \u001b[34mWelcome to use \u001b[31mMuLingCloud\u001b[34m. We aim to let everything easier.\u001b[34m\n",
      "\n",
      "📍 \u001b[33mmlcbase (1.2.4) imported\u001b[39m\n",
      "\n"
     ]
    }
   ],
   "source": [
    "import sys\n",
    "sys.path.append(\"../src\")\n",
    "from datetime import datetime\n",
    "from mlcbase import Logger, MySQLAPI, SQLiteAPI\n",
    "\n",
    "logger = Logger()\n",
    "logger.init_logger()"
   ]
  },
  {
   "cell_type": "markdown",
   "metadata": {},
   "source": [
    "## 1. MySQL\n",
    "\n",
    "MySQL is the most popular open source database backend. It can be deployed locally or remotely.\n",
    "\n",
    "### 1.1 Connect to MySQL\n",
    "\n",
    "You can establish an MySQL connection by instantiating `MySQLAPI()`."
   ]
  },
  {
   "cell_type": "code",
   "execution_count": 2,
   "metadata": {},
   "outputs": [],
   "source": [
    "host = \"\"      # change to your host address\n",
    "port = 3306    # change to your port number, should be int\n",
    "user = \"\"      # change to your login username\n",
    "database = \"\"  # change to the name of your database\n",
    "password = \"\"  # change to your login password\n",
    "charset = \"\"   # change to the charset of your database, defaults to utf8"
   ]
  },
  {
   "cell_type": "code",
   "execution_count": 3,
   "metadata": {},
   "outputs": [
    {
     "name": "stderr",
     "output_type": "stream",
     "text": [
      "\u001b[32m2024-10-30 19:28:17\u001b[0m\u001b[31m | \u001b[0m\u001b[33m0 day(s) 00:00:00\u001b[0m\u001b[31m | \u001b[0m\u001b[1mINFO\u001b[0m\u001b[31m | \u001b[0m\u001b[1mconnecting to database...\u001b[0m\n",
      "\u001b[32m2024-10-30 19:28:18\u001b[0m\u001b[31m | \u001b[0m\u001b[33m0 day(s) 00:00:00\u001b[0m\u001b[31m | \u001b[0m\u001b[32m\u001b[1mSUCCESS\u001b[0m\u001b[31m | \u001b[0m\u001b[32m\u001b[1mdatabase connected\u001b[0m\n"
     ]
    }
   ],
   "source": [
    "db_api = MySQLAPI(host, port, user, database, password, charset, logger=logger)"
   ]
  },
  {
   "cell_type": "markdown",
   "metadata": {},
   "source": [
    "### 1.2 Ping the connection\n",
    "\n",
    "You can ping the connection by calling `ping()`. It will not provide any feedback if pings successfully, otherwise, it will try to reconnect to the database.\n",
    "\n",
    "It will be helpful if you have not operated the database for a long time."
   ]
  },
  {
   "cell_type": "code",
   "execution_count": 4,
   "metadata": {},
   "outputs": [],
   "source": [
    "db_api.ping()"
   ]
  },
  {
   "cell_type": "markdown",
   "metadata": {},
   "source": [
    "### 1.3 Create data table\n",
    "\n",
    "You can create a data table by calling `create_table()`.\n",
    "\n",
    "Here is an example as follows.\n",
    "\n",
    "Suppose you want to create a data table named \"user\" like:\n",
    "\n",
    "|  id  | name | age  | gender | add_date |\n",
    "| :--: | :--: | :--: | :----: | :------: |\n",
    "| ...  | ...  | ...  |  ...   |   ...    |\n",
    "\n",
    "#### Arguments\n",
    "\n",
    "| args | type | remark |\n",
    "| :-- | :-- | :---- |\n",
    "| `table_name` | Optional[str] | The name of the table. Defaults to None |\n",
    "| `table_config` | Optional[List[dict]] | Configurations of the table. Defaults to None |\n",
    "| `sql_command` | Optional[str] | SQL command. Defaults to None |\n",
    "| `exist_ok` | bool | Create table if it exists. Defaults to True |\n",
    "| `use_ping` | bool | Ping the connection before operation. Defaults to True |\n",
    "\n",
    "We recommend you to use the combination of `table_name` and `table_config` to create a data table if you are not familiar with SQL language. \n",
    "\n",
    "The `table_config` is a list of dictionary which including the configuration of all fields in the table. An example of `table_config` is as follows.\n",
    "\n",
    "```python\n",
    "table_config = [\n",
    "    dict(\n",
    "        name=\"id\",           # (required) the name of the field\n",
    "        dtype=\"int\",         # (required) the data type of the field\n",
    "        not_null=True,       # (optional) whether the data of the field can be `NULL`. Defaults to False\n",
    "        primary_key=True,    # (optional) whether the field is the primary key of the table. Defaults to False\n",
    "        auto_increment=True  # (optional) whether the data in the field can increase automatically. Defaults to False\n",
    "    ),\n",
    "    dict(name=\"name\", dtype=\"varchar(255)\", not_null=True),\n",
    "    dict(name=\"age\", dtype=\"integer\", not_null=True),\n",
    "    dict(name=\"gender\", dtype=\"integer\", not_null=True, default=\"Unknown\"),\n",
    "    dict(name=\"add_date\", dtype=\"date\")\n",
    "]\n",
    "```\n",
    "\n",
    "However, if you are familiar with SQL language, you can also directly provice `sql_command` for more flexible usage.\n",
    "\n",
    "We defaults to set `exist_ok=True` to avoid raising the error caused by creating an existing data table. (Only taking effect when you are using the combination of `table_name` and `table_config`)\n",
    "\n",
    "We defaults to set `use_ping=True` to ping the database connection before operation.\n",
    "\n",
    "#### Returns\n",
    "\n",
    "It returns True if success, otherwise return False"
   ]
  },
  {
   "cell_type": "code",
   "execution_count": 5,
   "metadata": {},
   "outputs": [
    {
     "name": "stderr",
     "output_type": "stream",
     "text": [
      "\u001b[32m2024-10-30 19:28:18\u001b[0m\u001b[31m | \u001b[0m\u001b[33m0 day(s) 00:00:00\u001b[0m\u001b[31m | \u001b[0m\u001b[1mINFO\u001b[0m\u001b[31m | \u001b[0m\u001b[1mcreating table...\u001b[0m\n",
      "\u001b[32m2024-10-30 19:28:18\u001b[0m\u001b[31m | \u001b[0m\u001b[33m0 day(s) 00:00:00\u001b[0m\u001b[31m | \u001b[0m\u001b[1mINFO\u001b[0m\u001b[31m | \u001b[0m\u001b[1mgetting tables from database...\u001b[0m\n",
      "\u001b[32m2024-10-30 19:28:18\u001b[0m\u001b[31m | \u001b[0m\u001b[33m0 day(s) 00:00:00\u001b[0m\u001b[31m | \u001b[0m\u001b[32m\u001b[1mSUCCESS\u001b[0m\u001b[31m | \u001b[0m\u001b[32m\u001b[1mtable created\u001b[0m\n"
     ]
    },
    {
     "data": {
      "text/plain": [
       "True"
      ]
     },
     "execution_count": 5,
     "metadata": {},
     "output_type": "execute_result"
    }
   ],
   "source": [
    "# create a data table named \"user\"\n",
    "# the table has five fields, including id, name, age, gender and add_date\n",
    "# id is the primary key of the table, and the data in this field can increase automatically\n",
    "# id, name, age, and gender are not null fields, while add_date field can be NULL\n",
    "# the default vaule of gender field is \"Unknown\"\n",
    "db_api.create_table(table_name=\"user\", \n",
    "                    table_config=[dict(name=\"id\", dtype=\"int\", not_null=True, primary_key=True, auto_increment=True),\n",
    "                                  dict(name=\"name\", dtype=\"varchar(255)\", not_null=True),\n",
    "                                  dict(name=\"age\", dtype=\"integer\", not_null=True),\n",
    "                                  dict(name=\"gender\", dtype=\"varchar(255)\", default=\"Unknown\", not_null=True),\n",
    "                                  dict(name=\"add_date\", dtype=\"date\")])"
   ]
  },
  {
   "cell_type": "markdown",
   "metadata": {},
   "source": [
    "### 1.4 Get tables\n",
    "\n",
    "You can get the name of all tables in the database by calling `get_tables()`\n",
    "\n",
    "Here is an example as follows.\n",
    "\n",
    "#### Arguments\n",
    "\n",
    "| args | type | remark |\n",
    "| :--- | :--- | :----- |\n",
    "| `sql_command` | Optional[str] | SQL command. Defaults to None |\n",
    "| `show` | bool | Print the returns in the terminal. Defaults to False |\n",
    "| `use_ping` | bool | Ping the connection before operation. Defaults to True |\n",
    "\n",
    "You can print the result in the terminal as a table by setting `show=True` (defaults to False).\n",
    "\n",
    "If you want to get tables with additional conditions, please provide the `sql_command` directly.\n",
    "\n",
    "We defaults to set `use_ping=True` to ping the database connection before operation.\n",
    "\n",
    "#### Returns\n",
    "\n",
    "It returns table names in tuple if success, otherwise return None"
   ]
  },
  {
   "cell_type": "code",
   "execution_count": 6,
   "metadata": {},
   "outputs": [
    {
     "name": "stderr",
     "output_type": "stream",
     "text": [
      "\u001b[32m2024-10-30 19:28:18\u001b[0m\u001b[31m | \u001b[0m\u001b[33m0 day(s) 00:00:00\u001b[0m\u001b[31m | \u001b[0m\u001b[1mINFO\u001b[0m\u001b[31m | \u001b[0m\u001b[1mgetting tables from database...\u001b[0m\n"
     ]
    },
    {
     "data": {
      "text/html": [
       "<pre style=\"white-space:pre;overflow-x:auto;line-height:normal;font-family:Menlo,'DejaVu Sans Mono',consolas,'Courier New',monospace\"><span style=\"font-style: italic\">Show Data </span>\n",
       "<span style=\"font-style: italic\">  Tables  </span>\n",
       "┏━━━━━━━━┓\n",
       "┃<span style=\"font-weight: bold\"> Tables </span>┃\n",
       "┡━━━━━━━━┩\n",
       "│  user  │\n",
       "└────────┘\n",
       "</pre>\n"
      ],
      "text/plain": [
       "\u001b[3mShow Data \u001b[0m\n",
       "\u001b[3m  Tables  \u001b[0m\n",
       "┏━━━━━━━━┓\n",
       "┃\u001b[1m \u001b[0m\u001b[1mTables\u001b[0m\u001b[1m \u001b[0m┃\n",
       "┡━━━━━━━━┩\n",
       "│  user  │\n",
       "└────────┘\n"
      ]
     },
     "metadata": {},
     "output_type": "display_data"
    },
    {
     "data": {
      "text/plain": [
       "(('user',),)"
      ]
     },
     "execution_count": 6,
     "metadata": {},
     "output_type": "execute_result"
    }
   ],
   "source": [
    "db_api.get_tables(show=True)"
   ]
  },
  {
   "cell_type": "markdown",
   "metadata": {},
   "source": [
    "### 1.5 Get fields\n",
    "\n",
    "You can get the information of all fields in a specific data table by calling `get_fields()`.\n",
    "\n",
    "Here is an example as follows.\n",
    "\n",
    "#### Arguments\n",
    "\n",
    "| args | type | remark |\n",
    "| :--- | :--- | :----- |\n",
    "| `table_name` | Optional[str] | The name of the table. Defaults to None |\n",
    "| `sql_command` | Optional[str] | SQL command. Defaults to None |\n",
    "| `show` | bool | Print the returns in the terminal. Defaults to False |\n",
    "| `use_ping` | bool | Ping the connection before operation. Defaults to True |\n",
    "\n",
    "We recommend you to specify `table_name` to get fields if you are not familiar with SQL language.\n",
    "\n",
    "You can print the result in the terminal as a table by setting `show=True` (defaults to False).\n",
    "\n",
    "If you want to get fields with additional conditions, please provide the `sql_command` directly.\n",
    "\n",
    "We defaults to set `use_ping=True` to ping the database connection before operation.\n",
    "\n",
    "#### Returns\n",
    "\n",
    "It returns the information of fields in tuple if success, otherwise return None"
   ]
  },
  {
   "cell_type": "code",
   "execution_count": 7,
   "metadata": {},
   "outputs": [
    {
     "name": "stderr",
     "output_type": "stream",
     "text": [
      "\u001b[32m2024-10-30 19:28:18\u001b[0m\u001b[31m | \u001b[0m\u001b[33m0 day(s) 00:00:00\u001b[0m\u001b[31m | \u001b[0m\u001b[1mINFO\u001b[0m\u001b[31m | \u001b[0m\u001b[1mgetting fields from data table...\u001b[0m\n"
     ]
    },
    {
     "data": {
      "text/html": [
       "<pre style=\"white-space:pre;overflow-x:auto;line-height:normal;font-family:Menlo,'DejaVu Sans Mono',consolas,'Courier New',monospace\"><span style=\"font-style: italic\">                       Show Fields of 'user'                       </span>\n",
       "┏━━━━━━━━━━┳━━━━━━━━━━━━━━┳━━━━━━┳━━━━━┳━━━━━━━━━┳━━━━━━━━━━━━━━━━┓\n",
       "┃<span style=\"font-weight: bold\">  Field   </span>┃<span style=\"font-weight: bold\">     Type     </span>┃<span style=\"font-weight: bold\"> Null </span>┃<span style=\"font-weight: bold\"> Key </span>┃<span style=\"font-weight: bold\"> Default </span>┃<span style=\"font-weight: bold\">     Extra      </span>┃\n",
       "┡━━━━━━━━━━╇━━━━━━━━━━━━━━╇━━━━━━╇━━━━━╇━━━━━━━━━╇━━━━━━━━━━━━━━━━┩\n",
       "│    id    │   int(11)    │  NO  │ PRI │         │ auto_increment │\n",
       "├──────────┼──────────────┼──────┼─────┼─────────┼────────────────┤\n",
       "│   name   │ varchar(255) │  NO  │     │         │                │\n",
       "├──────────┼──────────────┼──────┼─────┼─────────┼────────────────┤\n",
       "│   age    │   int(11)    │  NO  │     │         │                │\n",
       "├──────────┼──────────────┼──────┼─────┼─────────┼────────────────┤\n",
       "│  gender  │ varchar(255) │  NO  │     │ Unknown │                │\n",
       "├──────────┼──────────────┼──────┼─────┼─────────┼────────────────┤\n",
       "│ add_date │     date     │ YES  │     │         │                │\n",
       "└──────────┴──────────────┴──────┴─────┴─────────┴────────────────┘\n",
       "</pre>\n"
      ],
      "text/plain": [
       "\u001b[3m                       Show Fields of 'user'                       \u001b[0m\n",
       "┏━━━━━━━━━━┳━━━━━━━━━━━━━━┳━━━━━━┳━━━━━┳━━━━━━━━━┳━━━━━━━━━━━━━━━━┓\n",
       "┃\u001b[1m \u001b[0m\u001b[1m Field  \u001b[0m\u001b[1m \u001b[0m┃\u001b[1m \u001b[0m\u001b[1m    Type    \u001b[0m\u001b[1m \u001b[0m┃\u001b[1m \u001b[0m\u001b[1mNull\u001b[0m\u001b[1m \u001b[0m┃\u001b[1m \u001b[0m\u001b[1mKey\u001b[0m\u001b[1m \u001b[0m┃\u001b[1m \u001b[0m\u001b[1mDefault\u001b[0m\u001b[1m \u001b[0m┃\u001b[1m \u001b[0m\u001b[1m    Extra     \u001b[0m\u001b[1m \u001b[0m┃\n",
       "┡━━━━━━━━━━╇━━━━━━━━━━━━━━╇━━━━━━╇━━━━━╇━━━━━━━━━╇━━━━━━━━━━━━━━━━┩\n",
       "│    id    │   int(11)    │  NO  │ PRI │         │ auto_increment │\n",
       "├──────────┼──────────────┼──────┼─────┼─────────┼────────────────┤\n",
       "│   name   │ varchar(255) │  NO  │     │         │                │\n",
       "├──────────┼──────────────┼──────┼─────┼─────────┼────────────────┤\n",
       "│   age    │   int(11)    │  NO  │     │         │                │\n",
       "├──────────┼──────────────┼──────┼─────┼─────────┼────────────────┤\n",
       "│  gender  │ varchar(255) │  NO  │     │ Unknown │                │\n",
       "├──────────┼──────────────┼──────┼─────┼─────────┼────────────────┤\n",
       "│ add_date │     date     │ YES  │     │         │                │\n",
       "└──────────┴──────────────┴──────┴─────┴─────────┴────────────────┘\n"
      ]
     },
     "metadata": {},
     "output_type": "display_data"
    },
    {
     "data": {
      "text/plain": [
       "(('id', 'int(11)', 'NO', 'PRI', None, 'auto_increment'),\n",
       " ('name', 'varchar(255)', 'NO', '', None, ''),\n",
       " ('age', 'int(11)', 'NO', '', None, ''),\n",
       " ('gender', 'varchar(255)', 'NO', '', 'Unknown', ''),\n",
       " ('add_date', 'date', 'YES', '', None, ''))"
      ]
     },
     "execution_count": 7,
     "metadata": {},
     "output_type": "execute_result"
    }
   ],
   "source": [
    "db_api.get_fields(table_name=\"user\", show=True)"
   ]
  },
  {
   "cell_type": "markdown",
   "metadata": {},
   "source": [
    "### 1.6 Insert data\n",
    "\n",
    "You can insert data into the table by calling `insert_data()`.\n",
    "\n",
    "Here is an example as follows.\n",
    "\n",
    "#### Arguments\n",
    "\n",
    "| args | type | remark |\n",
    "| :--- | :--- | :----- |\n",
    "| `table_name` | Optional[str] | The name of the table. Defaults to None |\n",
    "| `data` | Optional[dict] | Data waiting to be inserted. Defaults to None |\n",
    "| `sql_command` | Optional[str] | SQL command. Defaults to None |\n",
    "| `use_ping` | bool | Ping the connection before operation. Defaults to True |\n",
    "\n",
    "We recommend you to use the combination of `table_name` and `data` to insert data if you are not familiar with SQL language.\n",
    "\n",
    "The `data` is a dictionary that specifies the correspondence of fields and values, in which the key of `data` is the field's name and the value of `data` is the inserting data of the corresponding field.\n",
    "\n",
    "However, if you are familiar with SQL language, you can also directly provice `sql_command` for more flexible usage.\n",
    "\n",
    "We defaults to set `use_ping=True` to ping the database connection before operation.\n",
    "\n",
    "#### Returns\n",
    "\n",
    "It returns True if success, otherwise return False"
   ]
  },
  {
   "cell_type": "code",
   "execution_count": 8,
   "metadata": {},
   "outputs": [
    {
     "name": "stderr",
     "output_type": "stream",
     "text": [
      "\u001b[32m2024-10-30 19:28:18\u001b[0m\u001b[31m | \u001b[0m\u001b[33m0 day(s) 00:00:01\u001b[0m\u001b[31m | \u001b[0m\u001b[1mINFO\u001b[0m\u001b[31m | \u001b[0m\u001b[1minserting data...\u001b[0m\n",
      "\u001b[32m2024-10-30 19:28:18\u001b[0m\u001b[31m | \u001b[0m\u001b[33m0 day(s) 00:00:01\u001b[0m\u001b[31m | \u001b[0m\u001b[32m\u001b[1mSUCCESS\u001b[0m\u001b[31m | \u001b[0m\u001b[32m\u001b[1mdata inserted\u001b[0m\n",
      "\u001b[32m2024-10-30 19:28:18\u001b[0m\u001b[31m | \u001b[0m\u001b[33m0 day(s) 00:00:01\u001b[0m\u001b[31m | \u001b[0m\u001b[1mINFO\u001b[0m\u001b[31m | \u001b[0m\u001b[1minserting data...\u001b[0m\n",
      "\u001b[32m2024-10-30 19:28:18\u001b[0m\u001b[31m | \u001b[0m\u001b[33m0 day(s) 00:00:01\u001b[0m\u001b[31m | \u001b[0m\u001b[32m\u001b[1mSUCCESS\u001b[0m\u001b[31m | \u001b[0m\u001b[32m\u001b[1mdata inserted\u001b[0m\n",
      "\u001b[32m2024-10-30 19:28:19\u001b[0m\u001b[31m | \u001b[0m\u001b[33m0 day(s) 00:00:01\u001b[0m\u001b[31m | \u001b[0m\u001b[1mINFO\u001b[0m\u001b[31m | \u001b[0m\u001b[1minserting data...\u001b[0m\n",
      "\u001b[32m2024-10-30 19:28:19\u001b[0m\u001b[31m | \u001b[0m\u001b[33m0 day(s) 00:00:01\u001b[0m\u001b[31m | \u001b[0m\u001b[32m\u001b[1mSUCCESS\u001b[0m\u001b[31m | \u001b[0m\u001b[32m\u001b[1mdata inserted\u001b[0m\n",
      "\u001b[32m2024-10-30 19:28:19\u001b[0m\u001b[31m | \u001b[0m\u001b[33m0 day(s) 00:00:01\u001b[0m\u001b[31m | \u001b[0m\u001b[1mINFO\u001b[0m\u001b[31m | \u001b[0m\u001b[1minserting data...\u001b[0m\n",
      "\u001b[32m2024-10-30 19:28:19\u001b[0m\u001b[31m | \u001b[0m\u001b[33m0 day(s) 00:00:01\u001b[0m\u001b[31m | \u001b[0m\u001b[32m\u001b[1mSUCCESS\u001b[0m\u001b[31m | \u001b[0m\u001b[32m\u001b[1mdata inserted\u001b[0m\n"
     ]
    }
   ],
   "source": [
    "user_data = [dict(name=\"Weiming Chen\", age=27, gender=\"male\", add_date=datetime.now().strftime(\"%Y-%m-%d\")),\n",
    "             dict(name=\"John\", age=16, add_date=datetime.now().strftime(\"%Y-%m-%d\")),\n",
    "             dict(name=\"David\", age=45, add_date=datetime.now().strftime(\"%Y-%m-%d\")),\n",
    "             dict(name=\"Peter\", age=35)]\n",
    "\n",
    "for data in user_data:\n",
    "    db_api.insert_data(table_name=\"user\", data=data)"
   ]
  },
  {
   "cell_type": "markdown",
   "metadata": {},
   "source": [
    "### 1.7 Search data\n",
    "\n",
    "You can search data from the table by calling `search_data()`.\n",
    "\n",
    "Here are some examples as follows.\n",
    "\n",
    "#### Arguments\n",
    "\n",
    "| args | type | remark |\n",
    "| :--- | :--- | :----- |\n",
    "| `table_name` | Optional[str] | The name of the table. Defaults to None |\n",
    "| `fields` | Optional[Union[List[str], str]] | The fields wish to return. Defaults to None |\n",
    "| `condition` | Optional[str] | The searching condition. Defaults to None |\n",
    "| `list_all` | bool | Whether to return all data. Defaults to False |\n",
    "| `sql_command` | Optional[str] | SQL command. Defaults to None |\n",
    "| `show` | bool | Print the returns in the terminal. Defaults to False |\n",
    "| `use_ping` | bool | Ping the connection before operation. Defaults to True |\n",
    "\n",
    "We recommend to use the combination of `table_name`, `fields`, `condition` and `list_all` to search data if you are not familiar with SQL language.\n",
    "\n",
    "The `condition` arguments should be follow the syntax of SQL language if is not None. \n",
    "\n",
    "NOTE that if your condition parameter is a string, we highly recommend you to add \"BINARY\" keyword in your condition to avoid ambiguity.\n",
    "\n",
    "You can print the result in the terminal as a table by setting `show=True`. (Would not take effect when you provide `sql_command`)\n",
    "\n",
    "However, if you are familiar with SQL language, you can also directly provice `sql_command` for more flexible usage.\n",
    "\n",
    "We defaults to set `use_ping=True` to ping the database connection before operation.\n",
    "\n",
    "#### Returns\n",
    "\n",
    "It returns data in tuple if success, otherwise return None."
   ]
  },
  {
   "cell_type": "code",
   "execution_count": 9,
   "metadata": {},
   "outputs": [
    {
     "name": "stderr",
     "output_type": "stream",
     "text": [
      "\u001b[32m2024-10-30 19:28:19\u001b[0m\u001b[31m | \u001b[0m\u001b[33m0 day(s) 00:00:01\u001b[0m\u001b[31m | \u001b[0m\u001b[1mINFO\u001b[0m\u001b[31m | \u001b[0m\u001b[1msearching data...\u001b[0m\n"
     ]
    },
    {
     "data": {
      "text/html": [
       "<pre style=\"white-space:pre;overflow-x:auto;line-height:normal;font-family:Menlo,'DejaVu Sans Mono',consolas,'Courier New',monospace\"><span style=\"font-style: italic\">  Show Data in  </span>\n",
       "<span style=\"font-style: italic\">     'user'     </span>\n",
       "┏━━━━━━━━━━━━━━┓\n",
       "┃<span style=\"font-weight: bold\">     name     </span>┃\n",
       "┡━━━━━━━━━━━━━━┩\n",
       "│ Weiming Chen │\n",
       "└──────────────┘\n",
       "</pre>\n"
      ],
      "text/plain": [
       "\u001b[3m  Show Data in  \u001b[0m\n",
       "\u001b[3m     'user'     \u001b[0m\n",
       "┏━━━━━━━━━━━━━━┓\n",
       "┃\u001b[1m \u001b[0m\u001b[1m    name    \u001b[0m\u001b[1m \u001b[0m┃\n",
       "┡━━━━━━━━━━━━━━┩\n",
       "│ Weiming Chen │\n",
       "└──────────────┘\n"
      ]
     },
     "metadata": {},
     "output_type": "display_data"
    },
    {
     "name": "stdout",
     "output_type": "stream",
     "text": [
      "(('Weiming Chen',),)\n"
     ]
    }
   ],
   "source": [
    "# Case 1: only return the field of \"name\", and the condition is searching the users with age range from 18 to 30\n",
    "data = db_api.search_data(table_name=\"user\", fields=\"name\", condition=\"age BETWEEN 18 AND 30\", show=True)\n",
    "print(data)"
   ]
  },
  {
   "cell_type": "code",
   "execution_count": 10,
   "metadata": {},
   "outputs": [
    {
     "name": "stderr",
     "output_type": "stream",
     "text": [
      "\u001b[32m2024-10-30 19:28:19\u001b[0m\u001b[31m | \u001b[0m\u001b[33m0 day(s) 00:00:01\u001b[0m\u001b[31m | \u001b[0m\u001b[1mINFO\u001b[0m\u001b[31m | \u001b[0m\u001b[1msearching data...\u001b[0m\n"
     ]
    },
    {
     "data": {
      "text/html": [
       "<pre style=\"white-space:pre;overflow-x:auto;line-height:normal;font-family:Menlo,'DejaVu Sans Mono',consolas,'Courier New',monospace\"><span style=\"font-style: italic\"> Show Data in </span>\n",
       "<span style=\"font-style: italic\">    'user'    </span>\n",
       "┏━━━━━━┳━━━━━┓\n",
       "┃<span style=\"font-weight: bold\"> name </span>┃<span style=\"font-weight: bold\"> age </span>┃\n",
       "┡━━━━━━╇━━━━━┩\n",
       "│ John │ 16  │\n",
       "└──────┴─────┘\n",
       "</pre>\n"
      ],
      "text/plain": [
       "\u001b[3m Show Data in \u001b[0m\n",
       "\u001b[3m    'user'    \u001b[0m\n",
       "┏━━━━━━┳━━━━━┓\n",
       "┃\u001b[1m \u001b[0m\u001b[1mname\u001b[0m\u001b[1m \u001b[0m┃\u001b[1m \u001b[0m\u001b[1mage\u001b[0m\u001b[1m \u001b[0m┃\n",
       "┡━━━━━━╇━━━━━┩\n",
       "│ John │ 16  │\n",
       "└──────┴─────┘\n"
      ]
     },
     "metadata": {},
     "output_type": "display_data"
    },
    {
     "name": "stdout",
     "output_type": "stream",
     "text": [
      "(('John', 16),)\n"
     ]
    }
   ],
   "source": [
    "# Case 2: return the fields of \"name\" and \"age\", and the condition is searching the users whose age is less than or equal to 18.\n",
    "data = db_api.search_data(table_name=\"user\", fields=[\"name\", \"age\"], condition=\"age<=18\", show=True)\n",
    "print(data)"
   ]
  },
  {
   "cell_type": "code",
   "execution_count": 11,
   "metadata": {},
   "outputs": [
    {
     "name": "stderr",
     "output_type": "stream",
     "text": [
      "\u001b[32m2024-10-30 19:28:19\u001b[0m\u001b[31m | \u001b[0m\u001b[33m0 day(s) 00:00:01\u001b[0m\u001b[31m | \u001b[0m\u001b[1mINFO\u001b[0m\u001b[31m | \u001b[0m\u001b[1msearching data...\u001b[0m\n"
     ]
    },
    {
     "data": {
      "text/html": [
       "<pre style=\"white-space:pre;overflow-x:auto;line-height:normal;font-family:Menlo,'DejaVu Sans Mono',consolas,'Courier New',monospace\"><span style=\"font-style: italic\">        Show Data in 'user'        </span>\n",
       "┏━━━━━━━━━━━━━━┳━━━━━┳━━━━━━━━━━━━┓\n",
       "┃<span style=\"font-weight: bold\">     name     </span>┃<span style=\"font-weight: bold\"> age </span>┃<span style=\"font-weight: bold\">  add_date  </span>┃\n",
       "┡━━━━━━━━━━━━━━╇━━━━━╇━━━━━━━━━━━━┩\n",
       "│ Weiming Chen │ 27  │ 2024-10-30 │\n",
       "├──────────────┼─────┼────────────┤\n",
       "│     John     │ 16  │ 2024-10-30 │\n",
       "├──────────────┼─────┼────────────┤\n",
       "│    David     │ 45  │ 2024-10-30 │\n",
       "├──────────────┼─────┼────────────┤\n",
       "│    Peter     │ 35  │    None    │\n",
       "└──────────────┴─────┴────────────┘\n",
       "</pre>\n"
      ],
      "text/plain": [
       "\u001b[3m        Show Data in 'user'        \u001b[0m\n",
       "┏━━━━━━━━━━━━━━┳━━━━━┳━━━━━━━━━━━━┓\n",
       "┃\u001b[1m \u001b[0m\u001b[1m    name    \u001b[0m\u001b[1m \u001b[0m┃\u001b[1m \u001b[0m\u001b[1mage\u001b[0m\u001b[1m \u001b[0m┃\u001b[1m \u001b[0m\u001b[1m add_date \u001b[0m\u001b[1m \u001b[0m┃\n",
       "┡━━━━━━━━━━━━━━╇━━━━━╇━━━━━━━━━━━━┩\n",
       "│ Weiming Chen │ 27  │ 2024-10-30 │\n",
       "├──────────────┼─────┼────────────┤\n",
       "│     John     │ 16  │ 2024-10-30 │\n",
       "├──────────────┼─────┼────────────┤\n",
       "│    David     │ 45  │ 2024-10-30 │\n",
       "├──────────────┼─────┼────────────┤\n",
       "│    Peter     │ 35  │    None    │\n",
       "└──────────────┴─────┴────────────┘\n"
      ]
     },
     "metadata": {},
     "output_type": "display_data"
    },
    {
     "name": "stdout",
     "output_type": "stream",
     "text": [
      "(('Weiming Chen', 27, datetime.date(2024, 10, 30)), ('John', 16, datetime.date(2024, 10, 30)), ('David', 45, datetime.date(2024, 10, 30)), ('Peter', 35, None))\n"
     ]
    }
   ],
   "source": [
    "# Case 3: return the fields of \"name\", \"age\" and \"add_date\", and return all data\n",
    "data = db_api.search_data(table_name=\"user\", fields=[\"name\", \"age\", \"add_date\"], list_all=True, show=True)\n",
    "print(data)"
   ]
  },
  {
   "cell_type": "code",
   "execution_count": 12,
   "metadata": {},
   "outputs": [
    {
     "name": "stderr",
     "output_type": "stream",
     "text": [
      "\u001b[32m2024-10-30 19:28:19\u001b[0m\u001b[31m | \u001b[0m\u001b[33m0 day(s) 00:00:01\u001b[0m\u001b[31m | \u001b[0m\u001b[1mINFO\u001b[0m\u001b[31m | \u001b[0m\u001b[1msearching data...\u001b[0m\n",
      "\u001b[32m2024-10-30 19:28:19\u001b[0m\u001b[31m | \u001b[0m\u001b[33m0 day(s) 00:00:01\u001b[0m\u001b[31m | \u001b[0m\u001b[1mINFO\u001b[0m\u001b[31m | \u001b[0m\u001b[1mgetting fields from data table...\u001b[0m\n"
     ]
    },
    {
     "data": {
      "text/html": [
       "<pre style=\"white-space:pre;overflow-x:auto;line-height:normal;font-family:Menlo,'DejaVu Sans Mono',consolas,'Courier New',monospace\"><span style=\"font-style: italic\">               Show Data in 'user'                </span>\n",
       "┏━━━━┳━━━━━━━━━━━━━━┳━━━━━┳━━━━━━━━━┳━━━━━━━━━━━━┓\n",
       "┃<span style=\"font-weight: bold\"> id </span>┃<span style=\"font-weight: bold\">     name     </span>┃<span style=\"font-weight: bold\"> age </span>┃<span style=\"font-weight: bold\"> gender  </span>┃<span style=\"font-weight: bold\">  add_date  </span>┃\n",
       "┡━━━━╇━━━━━━━━━━━━━━╇━━━━━╇━━━━━━━━━╇━━━━━━━━━━━━┩\n",
       "│ 1  │ Weiming Chen │ 27  │  male   │ 2024-10-30 │\n",
       "├────┼──────────────┼─────┼─────────┼────────────┤\n",
       "│ 2  │     John     │ 16  │ Unknown │ 2024-10-30 │\n",
       "├────┼──────────────┼─────┼─────────┼────────────┤\n",
       "│ 3  │    David     │ 45  │ Unknown │ 2024-10-30 │\n",
       "├────┼──────────────┼─────┼─────────┼────────────┤\n",
       "│ 4  │    Peter     │ 35  │ Unknown │    None    │\n",
       "└────┴──────────────┴─────┴─────────┴────────────┘\n",
       "</pre>\n"
      ],
      "text/plain": [
       "\u001b[3m               Show Data in 'user'                \u001b[0m\n",
       "┏━━━━┳━━━━━━━━━━━━━━┳━━━━━┳━━━━━━━━━┳━━━━━━━━━━━━┓\n",
       "┃\u001b[1m \u001b[0m\u001b[1mid\u001b[0m\u001b[1m \u001b[0m┃\u001b[1m \u001b[0m\u001b[1m    name    \u001b[0m\u001b[1m \u001b[0m┃\u001b[1m \u001b[0m\u001b[1mage\u001b[0m\u001b[1m \u001b[0m┃\u001b[1m \u001b[0m\u001b[1mgender \u001b[0m\u001b[1m \u001b[0m┃\u001b[1m \u001b[0m\u001b[1m add_date \u001b[0m\u001b[1m \u001b[0m┃\n",
       "┡━━━━╇━━━━━━━━━━━━━━╇━━━━━╇━━━━━━━━━╇━━━━━━━━━━━━┩\n",
       "│ 1  │ Weiming Chen │ 27  │  male   │ 2024-10-30 │\n",
       "├────┼──────────────┼─────┼─────────┼────────────┤\n",
       "│ 2  │     John     │ 16  │ Unknown │ 2024-10-30 │\n",
       "├────┼──────────────┼─────┼─────────┼────────────┤\n",
       "│ 3  │    David     │ 45  │ Unknown │ 2024-10-30 │\n",
       "├────┼──────────────┼─────┼─────────┼────────────┤\n",
       "│ 4  │    Peter     │ 35  │ Unknown │    None    │\n",
       "└────┴──────────────┴─────┴─────────┴────────────┘\n"
      ]
     },
     "metadata": {},
     "output_type": "display_data"
    },
    {
     "name": "stdout",
     "output_type": "stream",
     "text": [
      "((1, 'Weiming Chen', 27, 'male', datetime.date(2024, 10, 30)), (2, 'John', 16, 'Unknown', datetime.date(2024, 10, 30)), (3, 'David', 45, 'Unknown', datetime.date(2024, 10, 30)), (4, 'Peter', 35, 'Unknown', None))\n"
     ]
    }
   ],
   "source": [
    "# Case 4: return all fields and all data\n",
    "data = db_api.search_data(table_name=\"user\", list_all=True, show=True)\n",
    "print(data)"
   ]
  },
  {
   "cell_type": "markdown",
   "metadata": {},
   "source": [
    "### 1.8 Update data\n",
    "\n",
    "You can update data in the table by calling `update_data()`.\n",
    "\n",
    "Here is an examples as follows.\n",
    "\n",
    "#### Arguments\n",
    "\n",
    "| args | type | remark |\n",
    "| :--- | :--- | :----- |\n",
    "| `table_name` | Optional[str] | The name of the table. Defaults to None |\n",
    "| `data` | Optional[dict] | Data waiting to be updated. Defaults to None |\n",
    "| `condition` | Optional[str] | The searching condition. Defaults to None |\n",
    "| `sql_command` | Optional[str] | SQL command. Defaults to None |\n",
    "| `use_ping` | bool | Ping the connection before operation. Defaults to True |\n",
    "\n",
    "We recommend you to use the combination of `table_name`, `data` and `condition` to update data if you are not familiar with SQL language.\n",
    "\n",
    "The `data` is a dictionary that specifies the correspondence of fields and values, in which the key of `data` is the field's name and the value of `data` is the updating data of the corresponding field.\n",
    "\n",
    "The `condition` arguments should be follow the syntax of SQL language if is not None.\n",
    "\n",
    "NOTE that if your condition parameter is a string, we highly recommend you to add \"BINARY\" keyword in your condition to avoid ambiguity for the reason that MySQL is not sensitive with the case of letters.\n",
    "\n",
    "However, if you are familiar with SQL language, you can also directly provice `sql_command` for more flexible usage.\n",
    "\n",
    "We defaults to set `use_ping=True` to ping the database connection before operation.\n",
    "\n",
    "#### Returns\n",
    "\n",
    "It returns True if success, otherwise return False"
   ]
  },
  {
   "cell_type": "code",
   "execution_count": 13,
   "metadata": {},
   "outputs": [
    {
     "name": "stderr",
     "output_type": "stream",
     "text": [
      "\u001b[32m2024-10-30 19:28:19\u001b[0m\u001b[31m | \u001b[0m\u001b[33m0 day(s) 00:00:02\u001b[0m\u001b[31m | \u001b[0m\u001b[1mINFO\u001b[0m\u001b[31m | \u001b[0m\u001b[1mupdating data...\u001b[0m\n",
      "\u001b[32m2024-10-30 19:28:19\u001b[0m\u001b[31m | \u001b[0m\u001b[33m0 day(s) 00:00:02\u001b[0m\u001b[31m | \u001b[0m\u001b[32m\u001b[1mSUCCESS\u001b[0m\u001b[31m | \u001b[0m\u001b[32m\u001b[1mdata updated\u001b[0m\n",
      "\u001b[32m2024-10-30 19:28:19\u001b[0m\u001b[31m | \u001b[0m\u001b[33m0 day(s) 00:00:02\u001b[0m\u001b[31m | \u001b[0m\u001b[1mINFO\u001b[0m\u001b[31m | \u001b[0m\u001b[1msearching data...\u001b[0m\n",
      "\u001b[32m2024-10-30 19:28:19\u001b[0m\u001b[31m | \u001b[0m\u001b[33m0 day(s) 00:00:02\u001b[0m\u001b[31m | \u001b[0m\u001b[1mINFO\u001b[0m\u001b[31m | \u001b[0m\u001b[1mgetting fields from data table...\u001b[0m\n"
     ]
    },
    {
     "data": {
      "text/html": [
       "<pre style=\"white-space:pre;overflow-x:auto;line-height:normal;font-family:Menlo,'DejaVu Sans Mono',consolas,'Courier New',monospace\"><span style=\"font-style: italic\">               Show Data in 'user'                </span>\n",
       "┏━━━━┳━━━━━━━━━━━━━━┳━━━━━┳━━━━━━━━━┳━━━━━━━━━━━━┓\n",
       "┃<span style=\"font-weight: bold\"> id </span>┃<span style=\"font-weight: bold\">     name     </span>┃<span style=\"font-weight: bold\"> age </span>┃<span style=\"font-weight: bold\"> gender  </span>┃<span style=\"font-weight: bold\">  add_date  </span>┃\n",
       "┡━━━━╇━━━━━━━━━━━━━━╇━━━━━╇━━━━━━━━━╇━━━━━━━━━━━━┩\n",
       "│ 1  │ Weiming Chen │ 18  │  male   │ 2024-10-30 │\n",
       "├────┼──────────────┼─────┼─────────┼────────────┤\n",
       "│ 2  │     John     │ 16  │ Unknown │ 2024-10-30 │\n",
       "├────┼──────────────┼─────┼─────────┼────────────┤\n",
       "│ 3  │    David     │ 45  │ Unknown │ 2024-10-30 │\n",
       "├────┼──────────────┼─────┼─────────┼────────────┤\n",
       "│ 4  │    Peter     │ 35  │ Unknown │    None    │\n",
       "└────┴──────────────┴─────┴─────────┴────────────┘\n",
       "</pre>\n"
      ],
      "text/plain": [
       "\u001b[3m               Show Data in 'user'                \u001b[0m\n",
       "┏━━━━┳━━━━━━━━━━━━━━┳━━━━━┳━━━━━━━━━┳━━━━━━━━━━━━┓\n",
       "┃\u001b[1m \u001b[0m\u001b[1mid\u001b[0m\u001b[1m \u001b[0m┃\u001b[1m \u001b[0m\u001b[1m    name    \u001b[0m\u001b[1m \u001b[0m┃\u001b[1m \u001b[0m\u001b[1mage\u001b[0m\u001b[1m \u001b[0m┃\u001b[1m \u001b[0m\u001b[1mgender \u001b[0m\u001b[1m \u001b[0m┃\u001b[1m \u001b[0m\u001b[1m add_date \u001b[0m\u001b[1m \u001b[0m┃\n",
       "┡━━━━╇━━━━━━━━━━━━━━╇━━━━━╇━━━━━━━━━╇━━━━━━━━━━━━┩\n",
       "│ 1  │ Weiming Chen │ 18  │  male   │ 2024-10-30 │\n",
       "├────┼──────────────┼─────┼─────────┼────────────┤\n",
       "│ 2  │     John     │ 16  │ Unknown │ 2024-10-30 │\n",
       "├────┼──────────────┼─────┼─────────┼────────────┤\n",
       "│ 3  │    David     │ 45  │ Unknown │ 2024-10-30 │\n",
       "├────┼──────────────┼─────┼─────────┼────────────┤\n",
       "│ 4  │    Peter     │ 35  │ Unknown │    None    │\n",
       "└────┴──────────────┴─────┴─────────┴────────────┘\n"
      ]
     },
     "metadata": {},
     "output_type": "display_data"
    },
    {
     "data": {
      "text/plain": [
       "((1, 'Weiming Chen', 18, 'male', datetime.date(2024, 10, 30)),\n",
       " (2, 'John', 16, 'Unknown', datetime.date(2024, 10, 30)),\n",
       " (3, 'David', 45, 'Unknown', datetime.date(2024, 10, 30)),\n",
       " (4, 'Peter', 35, 'Unknown', None))"
      ]
     },
     "execution_count": 13,
     "metadata": {},
     "output_type": "execute_result"
    }
   ],
   "source": [
    "db_api.update_data(table_name=\"user\", data=dict(age=18), condition=\"BINARY name='Weiming Chen'\")\n",
    "\n",
    "# show data\n",
    "db_api.search_data(table_name=\"user\", list_all=True, show=True)"
   ]
  },
  {
   "cell_type": "code",
   "execution_count": 14,
   "metadata": {},
   "outputs": [
    {
     "name": "stderr",
     "output_type": "stream",
     "text": [
      "\u001b[32m2024-10-30 19:28:20\u001b[0m\u001b[31m | \u001b[0m\u001b[33m0 day(s) 00:00:02\u001b[0m\u001b[31m | \u001b[0m\u001b[1mINFO\u001b[0m\u001b[31m | \u001b[0m\u001b[1minserting data...\u001b[0m\n",
      "\u001b[32m2024-10-30 19:28:20\u001b[0m\u001b[31m | \u001b[0m\u001b[33m0 day(s) 00:00:02\u001b[0m\u001b[31m | \u001b[0m\u001b[32m\u001b[1mSUCCESS\u001b[0m\u001b[31m | \u001b[0m\u001b[32m\u001b[1mdata inserted\u001b[0m\n",
      "\u001b[32m2024-10-30 19:28:20\u001b[0m\u001b[31m | \u001b[0m\u001b[33m0 day(s) 00:00:02\u001b[0m\u001b[31m | \u001b[0m\u001b[1mINFO\u001b[0m\u001b[31m | \u001b[0m\u001b[1msearching data...\u001b[0m\n",
      "\u001b[32m2024-10-30 19:28:20\u001b[0m\u001b[31m | \u001b[0m\u001b[33m0 day(s) 00:00:02\u001b[0m\u001b[31m | \u001b[0m\u001b[1mINFO\u001b[0m\u001b[31m | \u001b[0m\u001b[1mgetting fields from data table...\u001b[0m\n"
     ]
    },
    {
     "data": {
      "text/html": [
       "<pre style=\"white-space:pre;overflow-x:auto;line-height:normal;font-family:Menlo,'DejaVu Sans Mono',consolas,'Courier New',monospace\"><span style=\"font-style: italic\">               Show Data in 'user'                </span>\n",
       "┏━━━━┳━━━━━━━━━━━━━━┳━━━━━┳━━━━━━━━━┳━━━━━━━━━━━━┓\n",
       "┃<span style=\"font-weight: bold\"> id </span>┃<span style=\"font-weight: bold\">     name     </span>┃<span style=\"font-weight: bold\"> age </span>┃<span style=\"font-weight: bold\"> gender  </span>┃<span style=\"font-weight: bold\">  add_date  </span>┃\n",
       "┡━━━━╇━━━━━━━━━━━━━━╇━━━━━╇━━━━━━━━━╇━━━━━━━━━━━━┩\n",
       "│ 1  │ Weiming Chen │ 18  │  male   │ 2024-10-30 │\n",
       "├────┼──────────────┼─────┼─────────┼────────────┤\n",
       "│ 2  │     John     │ 16  │ Unknown │ 2024-10-30 │\n",
       "├────┼──────────────┼─────┼─────────┼────────────┤\n",
       "│ 3  │    David     │ 45  │ Unknown │ 2024-10-30 │\n",
       "├────┼──────────────┼─────┼─────────┼────────────┤\n",
       "│ 4  │    Peter     │ 35  │ Unknown │    None    │\n",
       "├────┼──────────────┼─────┼─────────┼────────────┤\n",
       "│ 5  │ weiming chen │ 27  │  male   │    None    │\n",
       "└────┴──────────────┴─────┴─────────┴────────────┘\n",
       "</pre>\n"
      ],
      "text/plain": [
       "\u001b[3m               Show Data in 'user'                \u001b[0m\n",
       "┏━━━━┳━━━━━━━━━━━━━━┳━━━━━┳━━━━━━━━━┳━━━━━━━━━━━━┓\n",
       "┃\u001b[1m \u001b[0m\u001b[1mid\u001b[0m\u001b[1m \u001b[0m┃\u001b[1m \u001b[0m\u001b[1m    name    \u001b[0m\u001b[1m \u001b[0m┃\u001b[1m \u001b[0m\u001b[1mage\u001b[0m\u001b[1m \u001b[0m┃\u001b[1m \u001b[0m\u001b[1mgender \u001b[0m\u001b[1m \u001b[0m┃\u001b[1m \u001b[0m\u001b[1m add_date \u001b[0m\u001b[1m \u001b[0m┃\n",
       "┡━━━━╇━━━━━━━━━━━━━━╇━━━━━╇━━━━━━━━━╇━━━━━━━━━━━━┩\n",
       "│ 1  │ Weiming Chen │ 18  │  male   │ 2024-10-30 │\n",
       "├────┼──────────────┼─────┼─────────┼────────────┤\n",
       "│ 2  │     John     │ 16  │ Unknown │ 2024-10-30 │\n",
       "├────┼──────────────┼─────┼─────────┼────────────┤\n",
       "│ 3  │    David     │ 45  │ Unknown │ 2024-10-30 │\n",
       "├────┼──────────────┼─────┼─────────┼────────────┤\n",
       "│ 4  │    Peter     │ 35  │ Unknown │    None    │\n",
       "├────┼──────────────┼─────┼─────────┼────────────┤\n",
       "│ 5  │ weiming chen │ 27  │  male   │    None    │\n",
       "└────┴──────────────┴─────┴─────────┴────────────┘\n"
      ]
     },
     "metadata": {},
     "output_type": "display_data"
    },
    {
     "name": "stderr",
     "output_type": "stream",
     "text": [
      "\u001b[32m2024-10-30 19:28:20\u001b[0m\u001b[31m | \u001b[0m\u001b[33m0 day(s) 00:00:02\u001b[0m\u001b[31m | \u001b[0m\u001b[1mINFO\u001b[0m\u001b[31m | \u001b[0m\u001b[1mupdating data...\u001b[0m\n",
      "\u001b[32m2024-10-30 19:28:20\u001b[0m\u001b[31m | \u001b[0m\u001b[33m0 day(s) 00:00:02\u001b[0m\u001b[31m | \u001b[0m\u001b[32m\u001b[1mSUCCESS\u001b[0m\u001b[31m | \u001b[0m\u001b[32m\u001b[1mdata updated\u001b[0m\n",
      "\u001b[32m2024-10-30 19:28:20\u001b[0m\u001b[31m | \u001b[0m\u001b[33m0 day(s) 00:00:02\u001b[0m\u001b[31m | \u001b[0m\u001b[1mINFO\u001b[0m\u001b[31m | \u001b[0m\u001b[1msearching data...\u001b[0m\n",
      "\u001b[32m2024-10-30 19:28:20\u001b[0m\u001b[31m | \u001b[0m\u001b[33m0 day(s) 00:00:02\u001b[0m\u001b[31m | \u001b[0m\u001b[1mINFO\u001b[0m\u001b[31m | \u001b[0m\u001b[1mgetting fields from data table...\u001b[0m\n"
     ]
    },
    {
     "name": "stdout",
     "output_type": "stream",
     "text": [
      "\n",
      "Now updating data without 'BINARY' keyword...\n",
      "\n"
     ]
    },
    {
     "data": {
      "text/html": [
       "<pre style=\"white-space:pre;overflow-x:auto;line-height:normal;font-family:Menlo,'DejaVu Sans Mono',consolas,'Courier New',monospace\"><span style=\"font-style: italic\">               Show Data in 'user'                </span>\n",
       "┏━━━━┳━━━━━━━━━━━━━━┳━━━━━┳━━━━━━━━━┳━━━━━━━━━━━━┓\n",
       "┃<span style=\"font-weight: bold\"> id </span>┃<span style=\"font-weight: bold\">     name     </span>┃<span style=\"font-weight: bold\"> age </span>┃<span style=\"font-weight: bold\"> gender  </span>┃<span style=\"font-weight: bold\">  add_date  </span>┃\n",
       "┡━━━━╇━━━━━━━━━━━━━━╇━━━━━╇━━━━━━━━━╇━━━━━━━━━━━━┩\n",
       "│ 1  │ Weiming Chen │ 20  │  male   │ 2024-10-30 │\n",
       "├────┼──────────────┼─────┼─────────┼────────────┤\n",
       "│ 2  │     John     │ 16  │ Unknown │ 2024-10-30 │\n",
       "├────┼──────────────┼─────┼─────────┼────────────┤\n",
       "│ 3  │    David     │ 45  │ Unknown │ 2024-10-30 │\n",
       "├────┼──────────────┼─────┼─────────┼────────────┤\n",
       "│ 4  │    Peter     │ 35  │ Unknown │    None    │\n",
       "├────┼──────────────┼─────┼─────────┼────────────┤\n",
       "│ 5  │ weiming chen │ 20  │  male   │    None    │\n",
       "└────┴──────────────┴─────┴─────────┴────────────┘\n",
       "</pre>\n"
      ],
      "text/plain": [
       "\u001b[3m               Show Data in 'user'                \u001b[0m\n",
       "┏━━━━┳━━━━━━━━━━━━━━┳━━━━━┳━━━━━━━━━┳━━━━━━━━━━━━┓\n",
       "┃\u001b[1m \u001b[0m\u001b[1mid\u001b[0m\u001b[1m \u001b[0m┃\u001b[1m \u001b[0m\u001b[1m    name    \u001b[0m\u001b[1m \u001b[0m┃\u001b[1m \u001b[0m\u001b[1mage\u001b[0m\u001b[1m \u001b[0m┃\u001b[1m \u001b[0m\u001b[1mgender \u001b[0m\u001b[1m \u001b[0m┃\u001b[1m \u001b[0m\u001b[1m add_date \u001b[0m\u001b[1m \u001b[0m┃\n",
       "┡━━━━╇━━━━━━━━━━━━━━╇━━━━━╇━━━━━━━━━╇━━━━━━━━━━━━┩\n",
       "│ 1  │ Weiming Chen │ 20  │  male   │ 2024-10-30 │\n",
       "├────┼──────────────┼─────┼─────────┼────────────┤\n",
       "│ 2  │     John     │ 16  │ Unknown │ 2024-10-30 │\n",
       "├────┼──────────────┼─────┼─────────┼────────────┤\n",
       "│ 3  │    David     │ 45  │ Unknown │ 2024-10-30 │\n",
       "├────┼──────────────┼─────┼─────────┼────────────┤\n",
       "│ 4  │    Peter     │ 35  │ Unknown │    None    │\n",
       "├────┼──────────────┼─────┼─────────┼────────────┤\n",
       "│ 5  │ weiming chen │ 20  │  male   │    None    │\n",
       "└────┴──────────────┴─────┴─────────┴────────────┘\n"
      ]
     },
     "metadata": {},
     "output_type": "display_data"
    },
    {
     "name": "stdout",
     "output_type": "stream",
     "text": [
      "Note that both ages of 'Weiming Chen' and 'weiming chen' changed to 20, but I only want to change the age of 'Weiming Chen'\n"
     ]
    }
   ],
   "source": [
    "db_api.insert_data(table_name=\"user\", data=dict(name=\"weiming chen\", age=27, gender=\"male\"))\n",
    "db_api.search_data(table_name=\"user\", list_all=True, show=True)\n",
    "\n",
    "# if you don't add the \"BINARY\" keyword may cause ambiguity\n",
    "print(\"\\nNow updating data without 'BINARY' keyword...\\n\")\n",
    "db_api.update_data(table_name=\"user\", data=dict(age=20), condition=\"name='Weiming Chen'\")\n",
    "db_api.search_data(table_name=\"user\", list_all=True, show=True)\n",
    "print(\"Note that both ages of 'Weiming Chen' and 'weiming chen' changed to 20, but I only want to change the age of 'Weiming Chen'\")"
   ]
  },
  {
   "cell_type": "markdown",
   "metadata": {},
   "source": [
    "### 1.9 Delete data\n",
    "\n",
    "You can delete data from the table by calling `delete_data()`.\n",
    "\n",
    "Here is an examples as follows.\n",
    "\n",
    "#### Arguments\n",
    "\n",
    "| args | type | remark |\n",
    "| :--- | :--- | :----- |\n",
    "| `table_name` | Optional[str] | The name of the table. Defaults to None |\n",
    "| `condition` | Optional[str] | The searching condition. Defaults to None |\n",
    "| `sql_command` | Optional[str] | SQL command. Defaults to None |\n",
    "| `use_ping` | bool | Ping the connection before operation. Defaults to True |\n",
    "\n",
    "We recommend you to use the combination of `table_name` and `condition` to delete data if you are not familiar with SQL language.\n",
    "\n",
    "The `condition` arguments should be follow the syntax of SQL language if is not None.\n",
    "\n",
    "NOTE that if your condition parameter is a string, we highly recommend you to add \"BINARY\" keyword in your condition to avoid ambiguity.\n",
    "\n",
    "However, if you are familiar with SQL language, you can also directly provice `sql_command` for more flexible usage.\n",
    "\n",
    "We defaults to set `use_ping=True` to ping the database connection before operation.\n",
    "\n",
    "#### Returns\n",
    "\n",
    "It returns True if success, otherwise return False"
   ]
  },
  {
   "cell_type": "code",
   "execution_count": 15,
   "metadata": {},
   "outputs": [
    {
     "name": "stderr",
     "output_type": "stream",
     "text": [
      "\u001b[32m2024-10-30 19:28:20\u001b[0m\u001b[31m | \u001b[0m\u001b[33m0 day(s) 00:00:02\u001b[0m\u001b[31m | \u001b[0m\u001b[1mINFO\u001b[0m\u001b[31m | \u001b[0m\u001b[1mdeleting data...\u001b[0m\n",
      "\u001b[32m2024-10-30 19:28:20\u001b[0m\u001b[31m | \u001b[0m\u001b[33m0 day(s) 00:00:03\u001b[0m\u001b[31m | \u001b[0m\u001b[32m\u001b[1mSUCCESS\u001b[0m\u001b[31m | \u001b[0m\u001b[32m\u001b[1mdata deleted\u001b[0m\n",
      "\u001b[32m2024-10-30 19:28:20\u001b[0m\u001b[31m | \u001b[0m\u001b[33m0 day(s) 00:00:03\u001b[0m\u001b[31m | \u001b[0m\u001b[1mINFO\u001b[0m\u001b[31m | \u001b[0m\u001b[1msearching data...\u001b[0m\n",
      "\u001b[32m2024-10-30 19:28:20\u001b[0m\u001b[31m | \u001b[0m\u001b[33m0 day(s) 00:00:03\u001b[0m\u001b[31m | \u001b[0m\u001b[1mINFO\u001b[0m\u001b[31m | \u001b[0m\u001b[1mgetting fields from data table...\u001b[0m\n"
     ]
    },
    {
     "data": {
      "text/html": [
       "<pre style=\"white-space:pre;overflow-x:auto;line-height:normal;font-family:Menlo,'DejaVu Sans Mono',consolas,'Courier New',monospace\"><span style=\"font-style: italic\">               Show Data in 'user'                </span>\n",
       "┏━━━━┳━━━━━━━━━━━━━━┳━━━━━┳━━━━━━━━━┳━━━━━━━━━━━━┓\n",
       "┃<span style=\"font-weight: bold\"> id </span>┃<span style=\"font-weight: bold\">     name     </span>┃<span style=\"font-weight: bold\"> age </span>┃<span style=\"font-weight: bold\"> gender  </span>┃<span style=\"font-weight: bold\">  add_date  </span>┃\n",
       "┡━━━━╇━━━━━━━━━━━━━━╇━━━━━╇━━━━━━━━━╇━━━━━━━━━━━━┩\n",
       "│ 1  │ Weiming Chen │ 20  │  male   │ 2024-10-30 │\n",
       "├────┼──────────────┼─────┼─────────┼────────────┤\n",
       "│ 2  │     John     │ 16  │ Unknown │ 2024-10-30 │\n",
       "├────┼──────────────┼─────┼─────────┼────────────┤\n",
       "│ 5  │ weiming chen │ 20  │  male   │    None    │\n",
       "└────┴──────────────┴─────┴─────────┴────────────┘\n",
       "</pre>\n"
      ],
      "text/plain": [
       "\u001b[3m               Show Data in 'user'                \u001b[0m\n",
       "┏━━━━┳━━━━━━━━━━━━━━┳━━━━━┳━━━━━━━━━┳━━━━━━━━━━━━┓\n",
       "┃\u001b[1m \u001b[0m\u001b[1mid\u001b[0m\u001b[1m \u001b[0m┃\u001b[1m \u001b[0m\u001b[1m    name    \u001b[0m\u001b[1m \u001b[0m┃\u001b[1m \u001b[0m\u001b[1mage\u001b[0m\u001b[1m \u001b[0m┃\u001b[1m \u001b[0m\u001b[1mgender \u001b[0m\u001b[1m \u001b[0m┃\u001b[1m \u001b[0m\u001b[1m add_date \u001b[0m\u001b[1m \u001b[0m┃\n",
       "┡━━━━╇━━━━━━━━━━━━━━╇━━━━━╇━━━━━━━━━╇━━━━━━━━━━━━┩\n",
       "│ 1  │ Weiming Chen │ 20  │  male   │ 2024-10-30 │\n",
       "├────┼──────────────┼─────┼─────────┼────────────┤\n",
       "│ 2  │     John     │ 16  │ Unknown │ 2024-10-30 │\n",
       "├────┼──────────────┼─────┼─────────┼────────────┤\n",
       "│ 5  │ weiming chen │ 20  │  male   │    None    │\n",
       "└────┴──────────────┴─────┴─────────┴────────────┘\n"
      ]
     },
     "metadata": {},
     "output_type": "display_data"
    },
    {
     "data": {
      "text/plain": [
       "((1, 'Weiming Chen', 20, 'male', datetime.date(2024, 10, 30)),\n",
       " (2, 'John', 16, 'Unknown', datetime.date(2024, 10, 30)),\n",
       " (5, 'weiming chen', 20, 'male', None))"
      ]
     },
     "execution_count": 15,
     "metadata": {},
     "output_type": "execute_result"
    }
   ],
   "source": [
    "db_api.delete_data(table_name=\"user\", condition=\"age>30\")\n",
    "\n",
    "# show data\n",
    "db_api.search_data(table_name=\"user\", list_all=True, show=True)"
   ]
  },
  {
   "cell_type": "markdown",
   "metadata": {},
   "source": [
    "### 1.10 Delete data table\n",
    "\n",
    "You can delete the entire data table by calling `delete_table()`\n",
    "\n",
    "Here is an examples as follows.\n",
    "\n",
    "#### Arguments\n",
    "\n",
    "| args | type | remark |\n",
    "| :--- | :--- | :----- |\n",
    "| `table_name` | Optional[str] | The name of the table. Defaults to None |\n",
    "| `sql_command` | Optional[str] | SQL command. Defaults to None |\n",
    "| `not_exist_ok` | bool | Delete table if it not exists. Default to True |\n",
    "| `use_ping` | bool | Ping the connection before operation. Defaults to True |\n",
    "\n",
    "We recommend you to specify `table_name` to get fields if you are not familiar with SQL language.\n",
    "\n",
    "However, if you are familiar with SQL language, you can also directly provice `sql_command` for more flexible usage.\n",
    "\n",
    "We defaults to set `not_exist_ok=True` to avoid raising the error caused by deleting an non-existing data table. (Only taking effect when `table_name` is specified)\n",
    "\n",
    "We defaults to set `use_ping=True` to ping the database connection before operation.\n",
    "\n",
    "#### Returns\n",
    "\n",
    "It returns True if success, otherwise return False"
   ]
  },
  {
   "cell_type": "code",
   "execution_count": 16,
   "metadata": {},
   "outputs": [
    {
     "name": "stderr",
     "output_type": "stream",
     "text": [
      "\u001b[32m2024-10-30 19:28:21\u001b[0m\u001b[31m | \u001b[0m\u001b[33m0 day(s) 00:00:03\u001b[0m\u001b[31m | \u001b[0m\u001b[1mINFO\u001b[0m\u001b[31m | \u001b[0m\u001b[1mdeleting data table...\u001b[0m\n",
      "\u001b[32m2024-10-30 19:28:21\u001b[0m\u001b[31m | \u001b[0m\u001b[33m0 day(s) 00:00:03\u001b[0m\u001b[31m | \u001b[0m\u001b[1mINFO\u001b[0m\u001b[31m | \u001b[0m\u001b[1mgetting tables from database...\u001b[0m\n",
      "\u001b[32m2024-10-30 19:28:21\u001b[0m\u001b[31m | \u001b[0m\u001b[33m0 day(s) 00:00:03\u001b[0m\u001b[31m | \u001b[0m\u001b[32m\u001b[1mSUCCESS\u001b[0m\u001b[31m | \u001b[0m\u001b[32m\u001b[1mtable deleted\u001b[0m\n",
      "\u001b[32m2024-10-30 19:28:21\u001b[0m\u001b[31m | \u001b[0m\u001b[33m0 day(s) 00:00:03\u001b[0m\u001b[31m | \u001b[0m\u001b[1mINFO\u001b[0m\u001b[31m | \u001b[0m\u001b[1mgetting tables from database...\u001b[0m\n"
     ]
    },
    {
     "data": {
      "text/html": [
       "<pre style=\"white-space:pre;overflow-x:auto;line-height:normal;font-family:Menlo,'DejaVu Sans Mono',consolas,'Courier New',monospace\"><span style=\"font-style: italic\">Show Data </span>\n",
       "<span style=\"font-style: italic\">  Tables  </span>\n",
       "┏━━━━━━━━┓\n",
       "┃<span style=\"font-weight: bold\"> Tables </span>┃\n",
       "┡━━━━━━━━┩\n",
       "└────────┘\n",
       "</pre>\n"
      ],
      "text/plain": [
       "\u001b[3mShow Data \u001b[0m\n",
       "\u001b[3m  Tables  \u001b[0m\n",
       "┏━━━━━━━━┓\n",
       "┃\u001b[1m \u001b[0m\u001b[1mTables\u001b[0m\u001b[1m \u001b[0m┃\n",
       "┡━━━━━━━━┩\n",
       "└────────┘\n"
      ]
     },
     "metadata": {},
     "output_type": "display_data"
    },
    {
     "data": {
      "text/plain": [
       "()"
      ]
     },
     "execution_count": 16,
     "metadata": {},
     "output_type": "execute_result"
    }
   ],
   "source": [
    "db_api.delete_table(table_name=\"user\")\n",
    "\n",
    "# show table\n",
    "db_api.get_tables(show=True)"
   ]
  },
  {
   "cell_type": "markdown",
   "metadata": {},
   "source": [
    "### 1.11 Close connection\n",
    "\n",
    "After using the database, don't forget to close the connection by calling `close()`."
   ]
  },
  {
   "cell_type": "code",
   "execution_count": 17,
   "metadata": {},
   "outputs": [
    {
     "name": "stderr",
     "output_type": "stream",
     "text": [
      "\u001b[32m2024-10-30 19:28:21\u001b[0m\u001b[31m | \u001b[0m\u001b[33m0 day(s) 00:00:03\u001b[0m\u001b[31m | \u001b[0m\u001b[1mINFO\u001b[0m\u001b[31m | \u001b[0m\u001b[1mdatabase connection closed\u001b[0m\n"
     ]
    }
   ],
   "source": [
    "db_api.close()"
   ]
  },
  {
   "cell_type": "markdown",
   "metadata": {},
   "source": [
    "## 2. SQLite\n",
    "\n",
    "SQLite is a widely used light-weight local database backend. The usage of `SQLiteAPI` is highly similar to `MySQLAPI` which only has a little difference.\n",
    "\n",
    "### 2.1 Open SQLite database\n",
    "\n",
    "You can open an SQLite database by instantiating `SQLiteAPI()`.\n",
    "\n",
    "If you want to open a database on dist, you can set `in_memory=False` and provide `db_path`.\n",
    "\n",
    "If you want to create a database only existing in memory, you can set `in_memory=True`."
   ]
  },
  {
   "cell_type": "code",
   "execution_count": 18,
   "metadata": {},
   "outputs": [
    {
     "name": "stderr",
     "output_type": "stream",
     "text": [
      "\u001b[32m2024-10-30 19:28:21\u001b[0m\u001b[31m | \u001b[0m\u001b[33m0 day(s) 00:00:03\u001b[0m\u001b[31m | \u001b[0m\u001b[1mINFO\u001b[0m\u001b[31m | \u001b[0m\u001b[1mconnecting to database...\u001b[0m\n",
      "\u001b[32m2024-10-30 19:28:21\u001b[0m\u001b[31m | \u001b[0m\u001b[33m0 day(s) 00:00:03\u001b[0m\u001b[31m | \u001b[0m\u001b[32m\u001b[1mSUCCESS\u001b[0m\u001b[31m | \u001b[0m\u001b[32m\u001b[1mdatabase connected\u001b[0m\n"
     ]
    }
   ],
   "source": [
    "db_api = SQLiteAPI(in_memory=True, logger=logger)"
   ]
  },
  {
   "cell_type": "markdown",
   "metadata": {},
   "source": [
    "### 2.2 Create data table\n",
    "\n",
    "You can create a data table by calling `create_table()`.\n",
    "\n",
    "Here is an example as follows.\n",
    "\n",
    "Suppose you want to create a data table named \"user\" like:\n",
    "\n",
    "|  id  | name | age  | gender | add_date |\n",
    "| :--: | :--: | :--: | :----: | :------: |\n",
    "| ...  | ...  | ...  |  ...   |   ...    |\n",
    "\n",
    "NOTE that the diiference between SQLite and MySQL that SQLite cannot create a table with multiple primary keys and auto-increment primary key at the same time, while MySQL can.\n",
    "\n",
    "#### Arguments\n",
    "\n",
    "| args | type | remark |\n",
    "| :-- | :-- | :---- |\n",
    "| `table_name` | Optional[str] | The name of the table. Defaults to None |\n",
    "| `table_config` | Optional[List[dict]] | Configurations of the table. Defaults to None |\n",
    "| `sql_command` | Optional[str] | SQL command. Defaults to None |\n",
    "| `exist_ok` | bool | Create table if it exists. Defaults to True |\n",
    "\n",
    "We recommend you to use the combination of `table_name` and `table_config` to create a data table if you are not familiar with SQL language. \n",
    "\n",
    "The `table_config` is a list of dictionary which including the configuration of all fields in the table. An example of `table_config` is as follows.\n",
    "\n",
    "```python\n",
    "table_config = [\n",
    "    dict(\n",
    "        name=\"id\",           # (required) the name of the field\n",
    "        dtype=\"int\",         # (required) the data type of the field\n",
    "        not_null=True,       # (optional) whether the data of the field can be `NULL`. Defaults to False\n",
    "        primary_key=True,    # (optional) whether the field is the primary key of the table. Defaults to False\n",
    "        auto_increment=True  # (optional) whether the data in the field can increase automatically. Defaults to False\n",
    "    ),\n",
    "    dict(name=\"name\", dtype=\"varchar(255)\", not_null=True),\n",
    "    dict(name=\"age\", dtype=\"integer\", not_null=True),\n",
    "    dict(name=\"gender\", dtype=\"integer\", not_null=True, default=\"Unknown\"),\n",
    "    dict(name=\"add_date\", dtype=\"date\")\n",
    "]\n",
    "```\n",
    "\n",
    "However, if you are familiar with SQL language, you can also directly provice `sql_command` for more flexible usage.\n",
    "\n",
    "We defaults to set `exist_ok=True` to avoid raising the error caused by creating an existing data table. (Only taking effect when you are using the combination of `table_name` and `table_config`)\n",
    "\n",
    "#### Returns\n",
    "\n",
    "It returns True if success, otherwise return False"
   ]
  },
  {
   "cell_type": "code",
   "execution_count": 19,
   "metadata": {},
   "outputs": [
    {
     "name": "stderr",
     "output_type": "stream",
     "text": [
      "\u001b[32m2024-10-30 19:28:21\u001b[0m\u001b[31m | \u001b[0m\u001b[33m0 day(s) 00:00:03\u001b[0m\u001b[31m | \u001b[0m\u001b[1mINFO\u001b[0m\u001b[31m | \u001b[0m\u001b[1mcreating table...\u001b[0m\n",
      "\u001b[32m2024-10-30 19:28:21\u001b[0m\u001b[31m | \u001b[0m\u001b[33m0 day(s) 00:00:03\u001b[0m\u001b[31m | \u001b[0m\u001b[1mINFO\u001b[0m\u001b[31m | \u001b[0m\u001b[1mgetting tables from database...\u001b[0m\n",
      "\u001b[32m2024-10-30 19:28:21\u001b[0m\u001b[31m | \u001b[0m\u001b[33m0 day(s) 00:00:03\u001b[0m\u001b[31m | \u001b[0m\u001b[32m\u001b[1mSUCCESS\u001b[0m\u001b[31m | \u001b[0m\u001b[32m\u001b[1mtable created\u001b[0m\n"
     ]
    },
    {
     "data": {
      "text/plain": [
       "True"
      ]
     },
     "execution_count": 19,
     "metadata": {},
     "output_type": "execute_result"
    }
   ],
   "source": [
    "# create a data table named \"user\"\n",
    "# the table has five fields, including id, name, age, gender and add_date\n",
    "# id is the primary key of the table, and the data in this field can increase automatically\n",
    "# id, name, age, and gender are not null fields, while add_date field can be NULL\n",
    "# the default vaule of gender field is \"Unknown\"\n",
    "db_api.create_table(table_name=\"user\",\n",
    "                    table_config=[dict(name=\"id\", dtype=\"integer\", not_null=True, primary_key=True, auto_increment=True),\n",
    "                                  dict(name=\"name\", dtype=\"varchar(255)\", not_null=True),\n",
    "                                  dict(name=\"age\", dtype=\"integer\", not_null=True),\n",
    "                                  dict(name=\"gender\", dtype=\"varchar(255)\", default=\"Unknown\", not_null=True),\n",
    "                                  dict(name=\"add_date\", dtype=\"date\")])"
   ]
  },
  {
   "cell_type": "markdown",
   "metadata": {},
   "source": [
    "### 2.3 Get tables\n",
    "\n",
    "You can get the name of all tables in the database by calling `get_tables()`\n",
    "\n",
    "Here is an example as follows.\n",
    "\n",
    "#### Arguments\n",
    "\n",
    "| args | type | remark |\n",
    "| :--- | :--- | :----- |\n",
    "| `sql_command` | Optional[str] | SQL command. Defaults to None |\n",
    "| `show` | bool | Print the returns in the terminal. Defaults to False |\n",
    "| `return_sqlite_sequence` | bool | whether to return the \"sqlite_sequence\" table. Defaults to False |\n",
    "\n",
    "You can print the result in the terminal as a table by setting `show=True` (defaults to False).\n",
    "\n",
    "If you want to get tables with additional conditions, please provide the `sql_command` directly.\n",
    "\n",
    "We defaults to set `return_sqlite_sequence=False` to filter the \"sqlite_sequence\" table.\n",
    "\n",
    "#### Returns\n",
    "\n",
    "It returns table names in tuple if success, otherwise return None"
   ]
  },
  {
   "cell_type": "code",
   "execution_count": 20,
   "metadata": {},
   "outputs": [
    {
     "name": "stderr",
     "output_type": "stream",
     "text": [
      "\u001b[32m2024-10-30 19:28:21\u001b[0m\u001b[31m | \u001b[0m\u001b[33m0 day(s) 00:00:03\u001b[0m\u001b[31m | \u001b[0m\u001b[1mINFO\u001b[0m\u001b[31m | \u001b[0m\u001b[1mgetting tables from database...\u001b[0m\n"
     ]
    },
    {
     "data": {
      "text/html": [
       "<pre style=\"white-space:pre;overflow-x:auto;line-height:normal;font-family:Menlo,'DejaVu Sans Mono',consolas,'Courier New',monospace\"><span style=\"font-style: italic\">Show Data </span>\n",
       "<span style=\"font-style: italic\">  Tables  </span>\n",
       "┏━━━━━━━━┓\n",
       "┃<span style=\"font-weight: bold\"> Tables </span>┃\n",
       "┡━━━━━━━━┩\n",
       "│  user  │\n",
       "└────────┘\n",
       "</pre>\n"
      ],
      "text/plain": [
       "\u001b[3mShow Data \u001b[0m\n",
       "\u001b[3m  Tables  \u001b[0m\n",
       "┏━━━━━━━━┓\n",
       "┃\u001b[1m \u001b[0m\u001b[1mTables\u001b[0m\u001b[1m \u001b[0m┃\n",
       "┡━━━━━━━━┩\n",
       "│  user  │\n",
       "└────────┘\n"
      ]
     },
     "metadata": {},
     "output_type": "display_data"
    },
    {
     "data": {
      "text/plain": [
       "(('user',),)"
      ]
     },
     "execution_count": 20,
     "metadata": {},
     "output_type": "execute_result"
    }
   ],
   "source": [
    "db_api.get_tables(show=True)"
   ]
  },
  {
   "cell_type": "code",
   "execution_count": 21,
   "metadata": {},
   "outputs": [
    {
     "name": "stderr",
     "output_type": "stream",
     "text": [
      "\u001b[32m2024-10-30 19:28:21\u001b[0m\u001b[31m | \u001b[0m\u001b[33m0 day(s) 00:00:03\u001b[0m\u001b[31m | \u001b[0m\u001b[1mINFO\u001b[0m\u001b[31m | \u001b[0m\u001b[1mgetting tables from database...\u001b[0m\n"
     ]
    },
    {
     "data": {
      "text/html": [
       "<pre style=\"white-space:pre;overflow-x:auto;line-height:normal;font-family:Menlo,'DejaVu Sans Mono',consolas,'Courier New',monospace\"><span style=\"font-style: italic\"> Show Data Tables  </span>\n",
       "┏━━━━━━━━━━━━━━━━━┓\n",
       "┃<span style=\"font-weight: bold\">     Tables      </span>┃\n",
       "┡━━━━━━━━━━━━━━━━━┩\n",
       "│      user       │\n",
       "├─────────────────┤\n",
       "│ sqlite_sequence │\n",
       "└─────────────────┘\n",
       "</pre>\n"
      ],
      "text/plain": [
       "\u001b[3m Show Data Tables  \u001b[0m\n",
       "┏━━━━━━━━━━━━━━━━━┓\n",
       "┃\u001b[1m \u001b[0m\u001b[1m    Tables     \u001b[0m\u001b[1m \u001b[0m┃\n",
       "┡━━━━━━━━━━━━━━━━━┩\n",
       "│      user       │\n",
       "├─────────────────┤\n",
       "│ sqlite_sequence │\n",
       "└─────────────────┘\n"
      ]
     },
     "metadata": {},
     "output_type": "display_data"
    },
    {
     "data": {
      "text/plain": [
       "(('user',), ('sqlite_sequence',))"
      ]
     },
     "execution_count": 21,
     "metadata": {},
     "output_type": "execute_result"
    }
   ],
   "source": [
    "db_api.get_tables(show=True, return_sqlite_sequence=True)"
   ]
  },
  {
   "cell_type": "markdown",
   "metadata": {},
   "source": [
    "### 2.4 Get fields\n",
    "\n",
    "You can get the information of all fields in a specific data table by calling `get_fields()`.\n",
    "\n",
    "Here is an example as follows.\n",
    "\n",
    "#### Arguments\n",
    "\n",
    "| args | type | remark |\n",
    "| :--- | :--- | :----- |\n",
    "| `table_name` | Optional[str] | The name of the table. Defaults to None |\n",
    "| `sql_command` | Optional[str] | SQL command. Defaults to None |\n",
    "| `show` | bool | Print the returns in the terminal. Defaults to False |\n",
    "\n",
    "We recommend you to specify `table_name` to get fields if you are not familiar with SQL language.\n",
    "\n",
    "You can print the result in the terminal as a table by setting `show=True` (defaults to False).\n",
    "\n",
    "If you want to get fields with additional conditions, please provide the `sql_command` directly.\n",
    "\n",
    "#### Returns\n",
    "\n",
    "It returns the information of fields in tuple if success, otherwise return None"
   ]
  },
  {
   "cell_type": "code",
   "execution_count": 22,
   "metadata": {},
   "outputs": [
    {
     "name": "stderr",
     "output_type": "stream",
     "text": [
      "\u001b[32m2024-10-30 19:28:21\u001b[0m\u001b[31m | \u001b[0m\u001b[33m0 day(s) 00:00:03\u001b[0m\u001b[31m | \u001b[0m\u001b[1mINFO\u001b[0m\u001b[31m | \u001b[0m\u001b[1mgetting fields from data table...\u001b[0m\n"
     ]
    },
    {
     "data": {
      "text/html": [
       "<pre style=\"white-space:pre;overflow-x:auto;line-height:normal;font-family:Menlo,'DejaVu Sans Mono',consolas,'Courier New',monospace\"><span style=\"font-style: italic\">                          Show Fields of 'user'                          </span>\n",
       "┏━━━━━━━━┳━━━━━━━━━━┳━━━━━━━━━━━━━━┳━━━━━━━━━━┳━━━━━━━━━━━┳━━━━━━━━━━━━━┓\n",
       "┃<span style=\"font-weight: bold\"> Column </span>┃<span style=\"font-weight: bold\">  Field   </span>┃<span style=\"font-weight: bold\">     Type     </span>┃<span style=\"font-weight: bold\"> Not Null </span>┃<span style=\"font-weight: bold\">  Default  </span>┃<span style=\"font-weight: bold\"> Primary Key </span>┃\n",
       "┡━━━━━━━━╇━━━━━━━━━━╇━━━━━━━━━━━━━━╇━━━━━━━━━━╇━━━━━━━━━━━╇━━━━━━━━━━━━━┩\n",
       "│   0    │    id    │   INTEGER    │    1     │   None    │      1      │\n",
       "├────────┼──────────┼──────────────┼──────────┼───────────┼─────────────┤\n",
       "│   1    │   name   │ VARCHAR(255) │    1     │   None    │      0      │\n",
       "├────────┼──────────┼──────────────┼──────────┼───────────┼─────────────┤\n",
       "│   2    │   age    │   INTEGER    │    1     │   None    │      0      │\n",
       "├────────┼──────────┼──────────────┼──────────┼───────────┼─────────────┤\n",
       "│   3    │  gender  │ VARCHAR(255) │    1     │ 'Unknown' │      0      │\n",
       "├────────┼──────────┼──────────────┼──────────┼───────────┼─────────────┤\n",
       "│   4    │ add_date │     DATE     │    0     │   None    │      0      │\n",
       "└────────┴──────────┴──────────────┴──────────┴───────────┴─────────────┘\n",
       "</pre>\n"
      ],
      "text/plain": [
       "\u001b[3m                          Show Fields of 'user'                          \u001b[0m\n",
       "┏━━━━━━━━┳━━━━━━━━━━┳━━━━━━━━━━━━━━┳━━━━━━━━━━┳━━━━━━━━━━━┳━━━━━━━━━━━━━┓\n",
       "┃\u001b[1m \u001b[0m\u001b[1mColumn\u001b[0m\u001b[1m \u001b[0m┃\u001b[1m \u001b[0m\u001b[1m Field  \u001b[0m\u001b[1m \u001b[0m┃\u001b[1m \u001b[0m\u001b[1m    Type    \u001b[0m\u001b[1m \u001b[0m┃\u001b[1m \u001b[0m\u001b[1mNot Null\u001b[0m\u001b[1m \u001b[0m┃\u001b[1m \u001b[0m\u001b[1m Default \u001b[0m\u001b[1m \u001b[0m┃\u001b[1m \u001b[0m\u001b[1mPrimary Key\u001b[0m\u001b[1m \u001b[0m┃\n",
       "┡━━━━━━━━╇━━━━━━━━━━╇━━━━━━━━━━━━━━╇━━━━━━━━━━╇━━━━━━━━━━━╇━━━━━━━━━━━━━┩\n",
       "│   0    │    id    │   INTEGER    │    1     │   None    │      1      │\n",
       "├────────┼──────────┼──────────────┼──────────┼───────────┼─────────────┤\n",
       "│   1    │   name   │ VARCHAR(255) │    1     │   None    │      0      │\n",
       "├────────┼──────────┼──────────────┼──────────┼───────────┼─────────────┤\n",
       "│   2    │   age    │   INTEGER    │    1     │   None    │      0      │\n",
       "├────────┼──────────┼──────────────┼──────────┼───────────┼─────────────┤\n",
       "│   3    │  gender  │ VARCHAR(255) │    1     │ 'Unknown' │      0      │\n",
       "├────────┼──────────┼──────────────┼──────────┼───────────┼─────────────┤\n",
       "│   4    │ add_date │     DATE     │    0     │   None    │      0      │\n",
       "└────────┴──────────┴──────────────┴──────────┴───────────┴─────────────┘\n"
      ]
     },
     "metadata": {},
     "output_type": "display_data"
    },
    {
     "data": {
      "text/plain": [
       "((0, 'id', 'INTEGER', 1, None, 1),\n",
       " (1, 'name', 'VARCHAR(255)', 1, None, 0),\n",
       " (2, 'age', 'INTEGER', 1, None, 0),\n",
       " (3, 'gender', 'VARCHAR(255)', 1, \"'Unknown'\", 0),\n",
       " (4, 'add_date', 'DATE', 0, None, 0))"
      ]
     },
     "execution_count": 22,
     "metadata": {},
     "output_type": "execute_result"
    }
   ],
   "source": [
    "db_api.get_fields(table_name=\"user\", show=True)"
   ]
  },
  {
   "cell_type": "markdown",
   "metadata": {},
   "source": [
    "### 2.5 Insert data\n",
    "\n",
    "You can insert data into the table by calling `insert_data()`.\n",
    "\n",
    "Here is an example as follows.\n",
    "\n",
    "#### Arguments\n",
    "\n",
    "| args | type | remark |\n",
    "| :--- | :--- | :----- |\n",
    "| `table_name` | Optional[str] | The name of the table. Defaults to None |\n",
    "| `data` | Optional[dict] | Data waiting to be inserted. Defaults to None |\n",
    "| `sql_command` | Optional[str] | SQL command. Defaults to None |\n",
    "\n",
    "We recommend you to use the combination of `table_name` and `data` to insert data if you are not familiar with SQL language.\n",
    "\n",
    "The `data` is a dictionary that specifies the correspondence of fields and values, in which the key of `data` is the field's name and the value of `data` is the inserting data of the corresponding field.\n",
    "\n",
    "However, if you are familiar with SQL language, you can also directly provice `sql_command` for more flexible usage.\n",
    "\n",
    "#### Returns\n",
    "\n",
    "It returns True if success, otherwise return False"
   ]
  },
  {
   "cell_type": "code",
   "execution_count": 23,
   "metadata": {},
   "outputs": [
    {
     "name": "stderr",
     "output_type": "stream",
     "text": [
      "\u001b[32m2024-10-30 19:28:21\u001b[0m\u001b[31m | \u001b[0m\u001b[33m0 day(s) 00:00:03\u001b[0m\u001b[31m | \u001b[0m\u001b[1mINFO\u001b[0m\u001b[31m | \u001b[0m\u001b[1minserting data...\u001b[0m\n",
      "\u001b[32m2024-10-30 19:28:21\u001b[0m\u001b[31m | \u001b[0m\u001b[33m0 day(s) 00:00:03\u001b[0m\u001b[31m | \u001b[0m\u001b[32m\u001b[1mSUCCESS\u001b[0m\u001b[31m | \u001b[0m\u001b[32m\u001b[1mdata inserted\u001b[0m\n",
      "\u001b[32m2024-10-30 19:28:21\u001b[0m\u001b[31m | \u001b[0m\u001b[33m0 day(s) 00:00:03\u001b[0m\u001b[31m | \u001b[0m\u001b[1mINFO\u001b[0m\u001b[31m | \u001b[0m\u001b[1minserting data...\u001b[0m\n",
      "\u001b[32m2024-10-30 19:28:21\u001b[0m\u001b[31m | \u001b[0m\u001b[33m0 day(s) 00:00:03\u001b[0m\u001b[31m | \u001b[0m\u001b[32m\u001b[1mSUCCESS\u001b[0m\u001b[31m | \u001b[0m\u001b[32m\u001b[1mdata inserted\u001b[0m\n",
      "\u001b[32m2024-10-30 19:28:21\u001b[0m\u001b[31m | \u001b[0m\u001b[33m0 day(s) 00:00:03\u001b[0m\u001b[31m | \u001b[0m\u001b[1mINFO\u001b[0m\u001b[31m | \u001b[0m\u001b[1minserting data...\u001b[0m\n",
      "\u001b[32m2024-10-30 19:28:21\u001b[0m\u001b[31m | \u001b[0m\u001b[33m0 day(s) 00:00:03\u001b[0m\u001b[31m | \u001b[0m\u001b[32m\u001b[1mSUCCESS\u001b[0m\u001b[31m | \u001b[0m\u001b[32m\u001b[1mdata inserted\u001b[0m\n",
      "\u001b[32m2024-10-30 19:28:21\u001b[0m\u001b[31m | \u001b[0m\u001b[33m0 day(s) 00:00:03\u001b[0m\u001b[31m | \u001b[0m\u001b[1mINFO\u001b[0m\u001b[31m | \u001b[0m\u001b[1minserting data...\u001b[0m\n",
      "\u001b[32m2024-10-30 19:28:21\u001b[0m\u001b[31m | \u001b[0m\u001b[33m0 day(s) 00:00:03\u001b[0m\u001b[31m | \u001b[0m\u001b[32m\u001b[1mSUCCESS\u001b[0m\u001b[31m | \u001b[0m\u001b[32m\u001b[1mdata inserted\u001b[0m\n"
     ]
    }
   ],
   "source": [
    "user_data = [dict(name=\"Weiming Chen\", age=27, gender=\"male\", add_date=datetime.now().strftime(\"%Y-%m-%d\")),\n",
    "             dict(name=\"John\", age=16, add_date=datetime.now().strftime(\"%Y-%m-%d\")),\n",
    "             dict(name=\"David\", age=45, add_date=datetime.now().strftime(\"%Y-%m-%d\")),\n",
    "             dict(name=\"Peter\", age=35)]\n",
    "\n",
    "for data in user_data:\n",
    "    db_api.insert_data(table_name=\"user\", data=data)"
   ]
  },
  {
   "cell_type": "markdown",
   "metadata": {},
   "source": [
    "### 2.6 Search data\n",
    "\n",
    "You can search data from the table by calling `search_data()`.\n",
    "\n",
    "Here are some examples as follows.\n",
    "\n",
    "#### Arguments\n",
    "\n",
    "| args | type | remark |\n",
    "| :--- | :--- | :----- |\n",
    "| `table_name` | Optional[str] | The name of the table. Defaults to None |\n",
    "| `fields` | Optional[Union[List[str], str]] | The fields wish to return. Defaults to None |\n",
    "| `condition` | Optional[str] | The searching condition. Defaults to None |\n",
    "| `list_all` | bool | Whether to return all data. Defaults to False |\n",
    "| `sql_command` | Optional[str] | SQL command. Defaults to None |\n",
    "| `show` | bool | Print the returns in the terminal. Defaults to False |\n",
    "\n",
    "We recommend to use the combination of `table_name`, `fields`, `condition` and `list_all` to search data if you are not familiar with SQL language.\n",
    "\n",
    "The `condition` arguments should be follow the syntax of SQL language if is not None. \n",
    "\n",
    "NOTE that if your condition parameter is a string, we highly recommend you to add \"BINARY\" keyword in your condition to avoid ambiguity.\n",
    "\n",
    "You can print the result in the terminal as a table by setting `show=True`. (Would not take effect when you provide `sql_command`)\n",
    "\n",
    "However, if you are familiar with SQL language, you can also directly provice `sql_command` for more flexible usage.\n",
    "\n",
    "#### Returns\n",
    "\n",
    "It returns data in tuple if success, otherwise return None."
   ]
  },
  {
   "cell_type": "code",
   "execution_count": 24,
   "metadata": {},
   "outputs": [
    {
     "name": "stderr",
     "output_type": "stream",
     "text": [
      "\u001b[32m2024-10-30 19:28:21\u001b[0m\u001b[31m | \u001b[0m\u001b[33m0 day(s) 00:00:03\u001b[0m\u001b[31m | \u001b[0m\u001b[1mINFO\u001b[0m\u001b[31m | \u001b[0m\u001b[1msearching data...\u001b[0m\n"
     ]
    },
    {
     "data": {
      "text/html": [
       "<pre style=\"white-space:pre;overflow-x:auto;line-height:normal;font-family:Menlo,'DejaVu Sans Mono',consolas,'Courier New',monospace\"><span style=\"font-style: italic\">  Show Data in  </span>\n",
       "<span style=\"font-style: italic\">     'user'     </span>\n",
       "┏━━━━━━━━━━━━━━┓\n",
       "┃<span style=\"font-weight: bold\">     name     </span>┃\n",
       "┡━━━━━━━━━━━━━━┩\n",
       "│ Weiming Chen │\n",
       "└──────────────┘\n",
       "</pre>\n"
      ],
      "text/plain": [
       "\u001b[3m  Show Data in  \u001b[0m\n",
       "\u001b[3m     'user'     \u001b[0m\n",
       "┏━━━━━━━━━━━━━━┓\n",
       "┃\u001b[1m \u001b[0m\u001b[1m    name    \u001b[0m\u001b[1m \u001b[0m┃\n",
       "┡━━━━━━━━━━━━━━┩\n",
       "│ Weiming Chen │\n",
       "└──────────────┘\n"
      ]
     },
     "metadata": {},
     "output_type": "display_data"
    },
    {
     "name": "stdout",
     "output_type": "stream",
     "text": [
      "(('Weiming Chen',),)\n"
     ]
    }
   ],
   "source": [
    "# Case 1: only return the field of \"name\", and the condition is searching the users with age range from 18 to 30\n",
    "data = db_api.search_data(table_name=\"user\", fields=\"name\", condition=\"age BETWEEN 18 AND 30\", show=True)\n",
    "print(data)"
   ]
  },
  {
   "cell_type": "code",
   "execution_count": 25,
   "metadata": {},
   "outputs": [
    {
     "name": "stderr",
     "output_type": "stream",
     "text": [
      "\u001b[32m2024-10-30 19:28:21\u001b[0m\u001b[31m | \u001b[0m\u001b[33m0 day(s) 00:00:03\u001b[0m\u001b[31m | \u001b[0m\u001b[1mINFO\u001b[0m\u001b[31m | \u001b[0m\u001b[1msearching data...\u001b[0m\n"
     ]
    },
    {
     "data": {
      "text/html": [
       "<pre style=\"white-space:pre;overflow-x:auto;line-height:normal;font-family:Menlo,'DejaVu Sans Mono',consolas,'Courier New',monospace\"><span style=\"font-style: italic\"> Show Data in </span>\n",
       "<span style=\"font-style: italic\">    'user'    </span>\n",
       "┏━━━━━━┳━━━━━┓\n",
       "┃<span style=\"font-weight: bold\"> name </span>┃<span style=\"font-weight: bold\"> age </span>┃\n",
       "┡━━━━━━╇━━━━━┩\n",
       "│ John │ 16  │\n",
       "└──────┴─────┘\n",
       "</pre>\n"
      ],
      "text/plain": [
       "\u001b[3m Show Data in \u001b[0m\n",
       "\u001b[3m    'user'    \u001b[0m\n",
       "┏━━━━━━┳━━━━━┓\n",
       "┃\u001b[1m \u001b[0m\u001b[1mname\u001b[0m\u001b[1m \u001b[0m┃\u001b[1m \u001b[0m\u001b[1mage\u001b[0m\u001b[1m \u001b[0m┃\n",
       "┡━━━━━━╇━━━━━┩\n",
       "│ John │ 16  │\n",
       "└──────┴─────┘\n"
      ]
     },
     "metadata": {},
     "output_type": "display_data"
    },
    {
     "name": "stdout",
     "output_type": "stream",
     "text": [
      "(('John', 16),)\n"
     ]
    }
   ],
   "source": [
    "# Case 2: return the fields of \"name\" and \"age\", and the condition is searching the users whose age is less than or equal to 18.\n",
    "data = db_api.search_data(table_name=\"user\", fields=[\"name\", \"age\"], condition=\"age<=18\", show=True)\n",
    "print(data)"
   ]
  },
  {
   "cell_type": "code",
   "execution_count": 26,
   "metadata": {},
   "outputs": [
    {
     "name": "stderr",
     "output_type": "stream",
     "text": [
      "\u001b[32m2024-10-30 19:28:21\u001b[0m\u001b[31m | \u001b[0m\u001b[33m0 day(s) 00:00:03\u001b[0m\u001b[31m | \u001b[0m\u001b[1mINFO\u001b[0m\u001b[31m | \u001b[0m\u001b[1msearching data...\u001b[0m\n"
     ]
    },
    {
     "data": {
      "text/html": [
       "<pre style=\"white-space:pre;overflow-x:auto;line-height:normal;font-family:Menlo,'DejaVu Sans Mono',consolas,'Courier New',monospace\"><span style=\"font-style: italic\">        Show Data in 'user'        </span>\n",
       "┏━━━━━━━━━━━━━━┳━━━━━┳━━━━━━━━━━━━┓\n",
       "┃<span style=\"font-weight: bold\">     name     </span>┃<span style=\"font-weight: bold\"> age </span>┃<span style=\"font-weight: bold\">  add_date  </span>┃\n",
       "┡━━━━━━━━━━━━━━╇━━━━━╇━━━━━━━━━━━━┩\n",
       "│ Weiming Chen │ 27  │ 2024-10-30 │\n",
       "├──────────────┼─────┼────────────┤\n",
       "│     John     │ 16  │ 2024-10-30 │\n",
       "├──────────────┼─────┼────────────┤\n",
       "│    David     │ 45  │ 2024-10-30 │\n",
       "├──────────────┼─────┼────────────┤\n",
       "│    Peter     │ 35  │    None    │\n",
       "└──────────────┴─────┴────────────┘\n",
       "</pre>\n"
      ],
      "text/plain": [
       "\u001b[3m        Show Data in 'user'        \u001b[0m\n",
       "┏━━━━━━━━━━━━━━┳━━━━━┳━━━━━━━━━━━━┓\n",
       "┃\u001b[1m \u001b[0m\u001b[1m    name    \u001b[0m\u001b[1m \u001b[0m┃\u001b[1m \u001b[0m\u001b[1mage\u001b[0m\u001b[1m \u001b[0m┃\u001b[1m \u001b[0m\u001b[1m add_date \u001b[0m\u001b[1m \u001b[0m┃\n",
       "┡━━━━━━━━━━━━━━╇━━━━━╇━━━━━━━━━━━━┩\n",
       "│ Weiming Chen │ 27  │ 2024-10-30 │\n",
       "├──────────────┼─────┼────────────┤\n",
       "│     John     │ 16  │ 2024-10-30 │\n",
       "├──────────────┼─────┼────────────┤\n",
       "│    David     │ 45  │ 2024-10-30 │\n",
       "├──────────────┼─────┼────────────┤\n",
       "│    Peter     │ 35  │    None    │\n",
       "└──────────────┴─────┴────────────┘\n"
      ]
     },
     "metadata": {},
     "output_type": "display_data"
    },
    {
     "name": "stdout",
     "output_type": "stream",
     "text": [
      "(('Weiming Chen', 27, '2024-10-30'), ('John', 16, '2024-10-30'), ('David', 45, '2024-10-30'), ('Peter', 35, None))\n"
     ]
    }
   ],
   "source": [
    "# Case 3: return the fields of \"name\", \"age\" and \"add_date\", and return all data\n",
    "data = db_api.search_data(table_name=\"user\", fields=[\"name\", \"age\", \"add_date\"], list_all=True, show=True)\n",
    "print(data)"
   ]
  },
  {
   "cell_type": "code",
   "execution_count": 27,
   "metadata": {},
   "outputs": [
    {
     "name": "stderr",
     "output_type": "stream",
     "text": [
      "\u001b[32m2024-10-30 19:28:21\u001b[0m\u001b[31m | \u001b[0m\u001b[33m0 day(s) 00:00:03\u001b[0m\u001b[31m | \u001b[0m\u001b[1mINFO\u001b[0m\u001b[31m | \u001b[0m\u001b[1msearching data...\u001b[0m\n",
      "\u001b[32m2024-10-30 19:28:21\u001b[0m\u001b[31m | \u001b[0m\u001b[33m0 day(s) 00:00:03\u001b[0m\u001b[31m | \u001b[0m\u001b[1mINFO\u001b[0m\u001b[31m | \u001b[0m\u001b[1mgetting fields from data table...\u001b[0m\n"
     ]
    },
    {
     "data": {
      "text/html": [
       "<pre style=\"white-space:pre;overflow-x:auto;line-height:normal;font-family:Menlo,'DejaVu Sans Mono',consolas,'Courier New',monospace\"><span style=\"font-style: italic\">               Show Data in 'user'                </span>\n",
       "┏━━━━┳━━━━━━━━━━━━━━┳━━━━━┳━━━━━━━━━┳━━━━━━━━━━━━┓\n",
       "┃<span style=\"font-weight: bold\"> id </span>┃<span style=\"font-weight: bold\">     name     </span>┃<span style=\"font-weight: bold\"> age </span>┃<span style=\"font-weight: bold\"> gender  </span>┃<span style=\"font-weight: bold\">  add_date  </span>┃\n",
       "┡━━━━╇━━━━━━━━━━━━━━╇━━━━━╇━━━━━━━━━╇━━━━━━━━━━━━┩\n",
       "│ 1  │ Weiming Chen │ 27  │  male   │ 2024-10-30 │\n",
       "├────┼──────────────┼─────┼─────────┼────────────┤\n",
       "│ 2  │     John     │ 16  │ Unknown │ 2024-10-30 │\n",
       "├────┼──────────────┼─────┼─────────┼────────────┤\n",
       "│ 3  │    David     │ 45  │ Unknown │ 2024-10-30 │\n",
       "├────┼──────────────┼─────┼─────────┼────────────┤\n",
       "│ 4  │    Peter     │ 35  │ Unknown │    None    │\n",
       "└────┴──────────────┴─────┴─────────┴────────────┘\n",
       "</pre>\n"
      ],
      "text/plain": [
       "\u001b[3m               Show Data in 'user'                \u001b[0m\n",
       "┏━━━━┳━━━━━━━━━━━━━━┳━━━━━┳━━━━━━━━━┳━━━━━━━━━━━━┓\n",
       "┃\u001b[1m \u001b[0m\u001b[1mid\u001b[0m\u001b[1m \u001b[0m┃\u001b[1m \u001b[0m\u001b[1m    name    \u001b[0m\u001b[1m \u001b[0m┃\u001b[1m \u001b[0m\u001b[1mage\u001b[0m\u001b[1m \u001b[0m┃\u001b[1m \u001b[0m\u001b[1mgender \u001b[0m\u001b[1m \u001b[0m┃\u001b[1m \u001b[0m\u001b[1m add_date \u001b[0m\u001b[1m \u001b[0m┃\n",
       "┡━━━━╇━━━━━━━━━━━━━━╇━━━━━╇━━━━━━━━━╇━━━━━━━━━━━━┩\n",
       "│ 1  │ Weiming Chen │ 27  │  male   │ 2024-10-30 │\n",
       "├────┼──────────────┼─────┼─────────┼────────────┤\n",
       "│ 2  │     John     │ 16  │ Unknown │ 2024-10-30 │\n",
       "├────┼──────────────┼─────┼─────────┼────────────┤\n",
       "│ 3  │    David     │ 45  │ Unknown │ 2024-10-30 │\n",
       "├────┼──────────────┼─────┼─────────┼────────────┤\n",
       "│ 4  │    Peter     │ 35  │ Unknown │    None    │\n",
       "└────┴──────────────┴─────┴─────────┴────────────┘\n"
      ]
     },
     "metadata": {},
     "output_type": "display_data"
    },
    {
     "name": "stdout",
     "output_type": "stream",
     "text": [
      "((1, 'Weiming Chen', 27, 'male', '2024-10-30'), (2, 'John', 16, 'Unknown', '2024-10-30'), (3, 'David', 45, 'Unknown', '2024-10-30'), (4, 'Peter', 35, 'Unknown', None))\n"
     ]
    }
   ],
   "source": [
    "# Case 4: return all fields and all data\n",
    "data = db_api.search_data(table_name=\"user\", list_all=True, show=True)\n",
    "print(data)"
   ]
  },
  {
   "cell_type": "markdown",
   "metadata": {},
   "source": [
    "### 2.7 Update data\n",
    "\n",
    "You can update data in the table by calling `update_data()`.\n",
    "\n",
    "Here is an examples as follows.\n",
    "\n",
    "#### Arguments\n",
    "\n",
    "| args | type | remark |\n",
    "| :--- | :--- | :----- |\n",
    "| `table_name` | Optional[str] | The name of the table. Defaults to None |\n",
    "| `data` | Optional[dict] | Data waiting to be updated. Defaults to None |\n",
    "| `condition` | Optional[str] | The searching condition. Defaults to None |\n",
    "| `sql_command` | Optional[str] | SQL command. Defaults to None |\n",
    "\n",
    "We recommend you to use the combination of `table_name`, `data` and `condition` to update data if you are not familiar with SQL language.\n",
    "\n",
    "The `data` is a dictionary that specifies the correspondence of fields and values, in which the key of `data` is the field's name and the value of `data` is the updating data of the corresponding field.\n",
    "\n",
    "The `condition` arguments should be follow the syntax of SQL language if is not None.\n",
    "\n",
    "NOTE that SQLite is sensitive with the case of letters, you do not need to specify the \"BINARY\" keyword as in MySQL. (Besides, SQLite does not support the \"BINARY\" keyword)\n",
    "\n",
    "However, if you are familiar with SQL language, you can also directly provice `sql_command` for more flexible usage.\n",
    "\n",
    "#### Returns\n",
    "\n",
    "It returns True if success, otherwise return False"
   ]
  },
  {
   "cell_type": "code",
   "execution_count": 28,
   "metadata": {},
   "outputs": [
    {
     "name": "stderr",
     "output_type": "stream",
     "text": [
      "\u001b[32m2024-10-30 19:28:21\u001b[0m\u001b[31m | \u001b[0m\u001b[33m0 day(s) 00:00:03\u001b[0m\u001b[31m | \u001b[0m\u001b[1mINFO\u001b[0m\u001b[31m | \u001b[0m\u001b[1mupdating data...\u001b[0m\n",
      "\u001b[32m2024-10-30 19:28:21\u001b[0m\u001b[31m | \u001b[0m\u001b[33m0 day(s) 00:00:03\u001b[0m\u001b[31m | \u001b[0m\u001b[32m\u001b[1mSUCCESS\u001b[0m\u001b[31m | \u001b[0m\u001b[32m\u001b[1mdata updated\u001b[0m\n",
      "\u001b[32m2024-10-30 19:28:21\u001b[0m\u001b[31m | \u001b[0m\u001b[33m0 day(s) 00:00:03\u001b[0m\u001b[31m | \u001b[0m\u001b[1mINFO\u001b[0m\u001b[31m | \u001b[0m\u001b[1msearching data...\u001b[0m\n",
      "\u001b[32m2024-10-30 19:28:21\u001b[0m\u001b[31m | \u001b[0m\u001b[33m0 day(s) 00:00:03\u001b[0m\u001b[31m | \u001b[0m\u001b[1mINFO\u001b[0m\u001b[31m | \u001b[0m\u001b[1mgetting fields from data table...\u001b[0m\n"
     ]
    },
    {
     "data": {
      "text/html": [
       "<pre style=\"white-space:pre;overflow-x:auto;line-height:normal;font-family:Menlo,'DejaVu Sans Mono',consolas,'Courier New',monospace\"><span style=\"font-style: italic\">               Show Data in 'user'               </span>\n",
       "┏━━━━┳━━━━━━━━━━━━━━┳━━━━━┳━━━━━━━━┳━━━━━━━━━━━━┓\n",
       "┃<span style=\"font-weight: bold\"> id </span>┃<span style=\"font-weight: bold\">     name     </span>┃<span style=\"font-weight: bold\"> age </span>┃<span style=\"font-weight: bold\"> gender </span>┃<span style=\"font-weight: bold\">  add_date  </span>┃\n",
       "┡━━━━╇━━━━━━━━━━━━━━╇━━━━━╇━━━━━━━━╇━━━━━━━━━━━━┩\n",
       "│ 1  │ Weiming Chen │ 18  │  male  │ 2024-10-30 │\n",
       "└────┴──────────────┴─────┴────────┴────────────┘\n",
       "</pre>\n"
      ],
      "text/plain": [
       "\u001b[3m               Show Data in 'user'               \u001b[0m\n",
       "┏━━━━┳━━━━━━━━━━━━━━┳━━━━━┳━━━━━━━━┳━━━━━━━━━━━━┓\n",
       "┃\u001b[1m \u001b[0m\u001b[1mid\u001b[0m\u001b[1m \u001b[0m┃\u001b[1m \u001b[0m\u001b[1m    name    \u001b[0m\u001b[1m \u001b[0m┃\u001b[1m \u001b[0m\u001b[1mage\u001b[0m\u001b[1m \u001b[0m┃\u001b[1m \u001b[0m\u001b[1mgender\u001b[0m\u001b[1m \u001b[0m┃\u001b[1m \u001b[0m\u001b[1m add_date \u001b[0m\u001b[1m \u001b[0m┃\n",
       "┡━━━━╇━━━━━━━━━━━━━━╇━━━━━╇━━━━━━━━╇━━━━━━━━━━━━┩\n",
       "│ 1  │ Weiming Chen │ 18  │  male  │ 2024-10-30 │\n",
       "└────┴──────────────┴─────┴────────┴────────────┘\n"
      ]
     },
     "metadata": {},
     "output_type": "display_data"
    },
    {
     "data": {
      "text/plain": [
       "((1, 'Weiming Chen', 18, 'male', '2024-10-30'),)"
      ]
     },
     "execution_count": 28,
     "metadata": {},
     "output_type": "execute_result"
    }
   ],
   "source": [
    "db_api.update_data(table_name=\"user\", data=dict(age=18), condition=\"name='Weiming Chen'\")\n",
    "\n",
    "# show data\n",
    "db_api.search_data(table_name=\"user\", condition=\"name='Weiming Chen'\", show=True)"
   ]
  },
  {
   "cell_type": "code",
   "execution_count": 29,
   "metadata": {},
   "outputs": [
    {
     "name": "stderr",
     "output_type": "stream",
     "text": [
      "\u001b[32m2024-10-30 19:28:21\u001b[0m\u001b[31m | \u001b[0m\u001b[33m0 day(s) 00:00:03\u001b[0m\u001b[31m | \u001b[0m\u001b[1mINFO\u001b[0m\u001b[31m | \u001b[0m\u001b[1minserting data...\u001b[0m\n",
      "\u001b[32m2024-10-30 19:28:21\u001b[0m\u001b[31m | \u001b[0m\u001b[33m0 day(s) 00:00:03\u001b[0m\u001b[31m | \u001b[0m\u001b[32m\u001b[1mSUCCESS\u001b[0m\u001b[31m | \u001b[0m\u001b[32m\u001b[1mdata inserted\u001b[0m\n",
      "\u001b[32m2024-10-30 19:28:21\u001b[0m\u001b[31m | \u001b[0m\u001b[33m0 day(s) 00:00:03\u001b[0m\u001b[31m | \u001b[0m\u001b[1mINFO\u001b[0m\u001b[31m | \u001b[0m\u001b[1msearching data...\u001b[0m\n",
      "\u001b[32m2024-10-30 19:28:21\u001b[0m\u001b[31m | \u001b[0m\u001b[33m0 day(s) 00:00:03\u001b[0m\u001b[31m | \u001b[0m\u001b[1mINFO\u001b[0m\u001b[31m | \u001b[0m\u001b[1mgetting fields from data table...\u001b[0m\n"
     ]
    },
    {
     "data": {
      "text/html": [
       "<pre style=\"white-space:pre;overflow-x:auto;line-height:normal;font-family:Menlo,'DejaVu Sans Mono',consolas,'Courier New',monospace\"><span style=\"font-style: italic\">               Show Data in 'user'                </span>\n",
       "┏━━━━┳━━━━━━━━━━━━━━┳━━━━━┳━━━━━━━━━┳━━━━━━━━━━━━┓\n",
       "┃<span style=\"font-weight: bold\"> id </span>┃<span style=\"font-weight: bold\">     name     </span>┃<span style=\"font-weight: bold\"> age </span>┃<span style=\"font-weight: bold\"> gender  </span>┃<span style=\"font-weight: bold\">  add_date  </span>┃\n",
       "┡━━━━╇━━━━━━━━━━━━━━╇━━━━━╇━━━━━━━━━╇━━━━━━━━━━━━┩\n",
       "│ 1  │ Weiming Chen │ 18  │  male   │ 2024-10-30 │\n",
       "├────┼──────────────┼─────┼─────────┼────────────┤\n",
       "│ 2  │     John     │ 16  │ Unknown │ 2024-10-30 │\n",
       "├────┼──────────────┼─────┼─────────┼────────────┤\n",
       "│ 3  │    David     │ 45  │ Unknown │ 2024-10-30 │\n",
       "├────┼──────────────┼─────┼─────────┼────────────┤\n",
       "│ 4  │    Peter     │ 35  │ Unknown │    None    │\n",
       "├────┼──────────────┼─────┼─────────┼────────────┤\n",
       "│ 5  │ weiming chen │ 27  │  male   │    None    │\n",
       "└────┴──────────────┴─────┴─────────┴────────────┘\n",
       "</pre>\n"
      ],
      "text/plain": [
       "\u001b[3m               Show Data in 'user'                \u001b[0m\n",
       "┏━━━━┳━━━━━━━━━━━━━━┳━━━━━┳━━━━━━━━━┳━━━━━━━━━━━━┓\n",
       "┃\u001b[1m \u001b[0m\u001b[1mid\u001b[0m\u001b[1m \u001b[0m┃\u001b[1m \u001b[0m\u001b[1m    name    \u001b[0m\u001b[1m \u001b[0m┃\u001b[1m \u001b[0m\u001b[1mage\u001b[0m\u001b[1m \u001b[0m┃\u001b[1m \u001b[0m\u001b[1mgender \u001b[0m\u001b[1m \u001b[0m┃\u001b[1m \u001b[0m\u001b[1m add_date \u001b[0m\u001b[1m \u001b[0m┃\n",
       "┡━━━━╇━━━━━━━━━━━━━━╇━━━━━╇━━━━━━━━━╇━━━━━━━━━━━━┩\n",
       "│ 1  │ Weiming Chen │ 18  │  male   │ 2024-10-30 │\n",
       "├────┼──────────────┼─────┼─────────┼────────────┤\n",
       "│ 2  │     John     │ 16  │ Unknown │ 2024-10-30 │\n",
       "├────┼──────────────┼─────┼─────────┼────────────┤\n",
       "│ 3  │    David     │ 45  │ Unknown │ 2024-10-30 │\n",
       "├────┼──────────────┼─────┼─────────┼────────────┤\n",
       "│ 4  │    Peter     │ 35  │ Unknown │    None    │\n",
       "├────┼──────────────┼─────┼─────────┼────────────┤\n",
       "│ 5  │ weiming chen │ 27  │  male   │    None    │\n",
       "└────┴──────────────┴─────┴─────────┴────────────┘\n"
      ]
     },
     "metadata": {},
     "output_type": "display_data"
    },
    {
     "name": "stderr",
     "output_type": "stream",
     "text": [
      "\u001b[32m2024-10-30 19:28:21\u001b[0m\u001b[31m | \u001b[0m\u001b[33m0 day(s) 00:00:03\u001b[0m\u001b[31m | \u001b[0m\u001b[1mINFO\u001b[0m\u001b[31m | \u001b[0m\u001b[1mupdating data...\u001b[0m\n",
      "\u001b[32m2024-10-30 19:28:21\u001b[0m\u001b[31m | \u001b[0m\u001b[33m0 day(s) 00:00:03\u001b[0m\u001b[31m | \u001b[0m\u001b[32m\u001b[1mSUCCESS\u001b[0m\u001b[31m | \u001b[0m\u001b[32m\u001b[1mdata updated\u001b[0m\n",
      "\u001b[32m2024-10-30 19:28:21\u001b[0m\u001b[31m | \u001b[0m\u001b[33m0 day(s) 00:00:03\u001b[0m\u001b[31m | \u001b[0m\u001b[1mINFO\u001b[0m\u001b[31m | \u001b[0m\u001b[1msearching data...\u001b[0m\n",
      "\u001b[32m2024-10-30 19:28:21\u001b[0m\u001b[31m | \u001b[0m\u001b[33m0 day(s) 00:00:03\u001b[0m\u001b[31m | \u001b[0m\u001b[1mINFO\u001b[0m\u001b[31m | \u001b[0m\u001b[1mgetting fields from data table...\u001b[0m\n"
     ]
    },
    {
     "data": {
      "text/html": [
       "<pre style=\"white-space:pre;overflow-x:auto;line-height:normal;font-family:Menlo,'DejaVu Sans Mono',consolas,'Courier New',monospace\"><span style=\"font-style: italic\">               Show Data in 'user'                </span>\n",
       "┏━━━━┳━━━━━━━━━━━━━━┳━━━━━┳━━━━━━━━━┳━━━━━━━━━━━━┓\n",
       "┃<span style=\"font-weight: bold\"> id </span>┃<span style=\"font-weight: bold\">     name     </span>┃<span style=\"font-weight: bold\"> age </span>┃<span style=\"font-weight: bold\"> gender  </span>┃<span style=\"font-weight: bold\">  add_date  </span>┃\n",
       "┡━━━━╇━━━━━━━━━━━━━━╇━━━━━╇━━━━━━━━━╇━━━━━━━━━━━━┩\n",
       "│ 1  │ Weiming Chen │ 20  │  male   │ 2024-10-30 │\n",
       "├────┼──────────────┼─────┼─────────┼────────────┤\n",
       "│ 2  │     John     │ 16  │ Unknown │ 2024-10-30 │\n",
       "├────┼──────────────┼─────┼─────────┼────────────┤\n",
       "│ 3  │    David     │ 45  │ Unknown │ 2024-10-30 │\n",
       "├────┼──────────────┼─────┼─────────┼────────────┤\n",
       "│ 4  │    Peter     │ 35  │ Unknown │    None    │\n",
       "├────┼──────────────┼─────┼─────────┼────────────┤\n",
       "│ 5  │ weiming chen │ 27  │  male   │    None    │\n",
       "└────┴──────────────┴─────┴─────────┴────────────┘\n",
       "</pre>\n"
      ],
      "text/plain": [
       "\u001b[3m               Show Data in 'user'                \u001b[0m\n",
       "┏━━━━┳━━━━━━━━━━━━━━┳━━━━━┳━━━━━━━━━┳━━━━━━━━━━━━┓\n",
       "┃\u001b[1m \u001b[0m\u001b[1mid\u001b[0m\u001b[1m \u001b[0m┃\u001b[1m \u001b[0m\u001b[1m    name    \u001b[0m\u001b[1m \u001b[0m┃\u001b[1m \u001b[0m\u001b[1mage\u001b[0m\u001b[1m \u001b[0m┃\u001b[1m \u001b[0m\u001b[1mgender \u001b[0m\u001b[1m \u001b[0m┃\u001b[1m \u001b[0m\u001b[1m add_date \u001b[0m\u001b[1m \u001b[0m┃\n",
       "┡━━━━╇━━━━━━━━━━━━━━╇━━━━━╇━━━━━━━━━╇━━━━━━━━━━━━┩\n",
       "│ 1  │ Weiming Chen │ 20  │  male   │ 2024-10-30 │\n",
       "├────┼──────────────┼─────┼─────────┼────────────┤\n",
       "│ 2  │     John     │ 16  │ Unknown │ 2024-10-30 │\n",
       "├────┼──────────────┼─────┼─────────┼────────────┤\n",
       "│ 3  │    David     │ 45  │ Unknown │ 2024-10-30 │\n",
       "├────┼──────────────┼─────┼─────────┼────────────┤\n",
       "│ 4  │    Peter     │ 35  │ Unknown │    None    │\n",
       "├────┼──────────────┼─────┼─────────┼────────────┤\n",
       "│ 5  │ weiming chen │ 27  │  male   │    None    │\n",
       "└────┴──────────────┴─────┴─────────┴────────────┘\n"
      ]
     },
     "metadata": {},
     "output_type": "display_data"
    },
    {
     "name": "stdout",
     "output_type": "stream",
     "text": [
      "SQLite is sensitive with the case of letters, only the age of 'Weiming Chen' is changed to 20\n"
     ]
    }
   ],
   "source": [
    "db_api.insert_data(table_name=\"user\", data=dict(name=\"weiming chen\", age=27, gender=\"male\"))\n",
    "db_api.search_data(table_name=\"user\", list_all=True, show=True)\n",
    "\n",
    "# SQLite is sensitive with the case of letters\n",
    "db_api.update_data(table_name=\"user\", data=dict(age=20), condition=\"name='Weiming Chen'\")\n",
    "db_api.search_data(table_name=\"user\", list_all=True, show=True)\n",
    "print(\"SQLite is sensitive with the case of letters, only the age of 'Weiming Chen' is changed to 20\")"
   ]
  },
  {
   "cell_type": "markdown",
   "metadata": {},
   "source": [
    "### 2.8 Delete data\n",
    "\n",
    "You can delete data from the table by calling `delete_data()`.\n",
    "\n",
    "Here is an examples as follows.\n",
    "\n",
    "#### Arguments\n",
    "\n",
    "| args | type | remark |\n",
    "| :--- | :--- | :----- |\n",
    "| `table_name` | Optional[str] | The name of the table. Defaults to None |\n",
    "| `condition` | Optional[str] | The searching condition. Defaults to None |\n",
    "| `sql_command` | Optional[str] | SQL command. Defaults to None |\n",
    "\n",
    "We recommend you to use the combination of `table_name` and `condition` to delete data if you are not familiar with SQL language.\n",
    "\n",
    "The `condition` arguments should be follow the syntax of SQL language if is not None.\n",
    "\n",
    "NOTE that if your condition parameter is a string, we highly recommend you to add \"BINARY\" keyword in your condition to avoid ambiguity.\n",
    "\n",
    "However, if you are familiar with SQL language, you can also directly provice `sql_command` for more flexible usage.\n",
    "\n",
    "#### Returns\n",
    "\n",
    "It returns True if success, otherwise return False"
   ]
  },
  {
   "cell_type": "code",
   "execution_count": 30,
   "metadata": {},
   "outputs": [
    {
     "name": "stderr",
     "output_type": "stream",
     "text": [
      "\u001b[32m2024-10-30 19:28:21\u001b[0m\u001b[31m | \u001b[0m\u001b[33m0 day(s) 00:00:03\u001b[0m\u001b[31m | \u001b[0m\u001b[1mINFO\u001b[0m\u001b[31m | \u001b[0m\u001b[1mdeleting data...\u001b[0m\n",
      "\u001b[32m2024-10-30 19:28:21\u001b[0m\u001b[31m | \u001b[0m\u001b[33m0 day(s) 00:00:03\u001b[0m\u001b[31m | \u001b[0m\u001b[32m\u001b[1mSUCCESS\u001b[0m\u001b[31m | \u001b[0m\u001b[32m\u001b[1mdata deleted\u001b[0m\n",
      "\u001b[32m2024-10-30 19:28:21\u001b[0m\u001b[31m | \u001b[0m\u001b[33m0 day(s) 00:00:03\u001b[0m\u001b[31m | \u001b[0m\u001b[1mINFO\u001b[0m\u001b[31m | \u001b[0m\u001b[1msearching data...\u001b[0m\n",
      "\u001b[32m2024-10-30 19:28:21\u001b[0m\u001b[31m | \u001b[0m\u001b[33m0 day(s) 00:00:03\u001b[0m\u001b[31m | \u001b[0m\u001b[1mINFO\u001b[0m\u001b[31m | \u001b[0m\u001b[1mgetting fields from data table...\u001b[0m\n"
     ]
    },
    {
     "data": {
      "text/html": [
       "<pre style=\"white-space:pre;overflow-x:auto;line-height:normal;font-family:Menlo,'DejaVu Sans Mono',consolas,'Courier New',monospace\"><span style=\"font-style: italic\">               Show Data in 'user'                </span>\n",
       "┏━━━━┳━━━━━━━━━━━━━━┳━━━━━┳━━━━━━━━━┳━━━━━━━━━━━━┓\n",
       "┃<span style=\"font-weight: bold\"> id </span>┃<span style=\"font-weight: bold\">     name     </span>┃<span style=\"font-weight: bold\"> age </span>┃<span style=\"font-weight: bold\"> gender  </span>┃<span style=\"font-weight: bold\">  add_date  </span>┃\n",
       "┡━━━━╇━━━━━━━━━━━━━━╇━━━━━╇━━━━━━━━━╇━━━━━━━━━━━━┩\n",
       "│ 1  │ Weiming Chen │ 20  │  male   │ 2024-10-30 │\n",
       "├────┼──────────────┼─────┼─────────┼────────────┤\n",
       "│ 2  │     John     │ 16  │ Unknown │ 2024-10-30 │\n",
       "├────┼──────────────┼─────┼─────────┼────────────┤\n",
       "│ 5  │ weiming chen │ 27  │  male   │    None    │\n",
       "└────┴──────────────┴─────┴─────────┴────────────┘\n",
       "</pre>\n"
      ],
      "text/plain": [
       "\u001b[3m               Show Data in 'user'                \u001b[0m\n",
       "┏━━━━┳━━━━━━━━━━━━━━┳━━━━━┳━━━━━━━━━┳━━━━━━━━━━━━┓\n",
       "┃\u001b[1m \u001b[0m\u001b[1mid\u001b[0m\u001b[1m \u001b[0m┃\u001b[1m \u001b[0m\u001b[1m    name    \u001b[0m\u001b[1m \u001b[0m┃\u001b[1m \u001b[0m\u001b[1mage\u001b[0m\u001b[1m \u001b[0m┃\u001b[1m \u001b[0m\u001b[1mgender \u001b[0m\u001b[1m \u001b[0m┃\u001b[1m \u001b[0m\u001b[1m add_date \u001b[0m\u001b[1m \u001b[0m┃\n",
       "┡━━━━╇━━━━━━━━━━━━━━╇━━━━━╇━━━━━━━━━╇━━━━━━━━━━━━┩\n",
       "│ 1  │ Weiming Chen │ 20  │  male   │ 2024-10-30 │\n",
       "├────┼──────────────┼─────┼─────────┼────────────┤\n",
       "│ 2  │     John     │ 16  │ Unknown │ 2024-10-30 │\n",
       "├────┼──────────────┼─────┼─────────┼────────────┤\n",
       "│ 5  │ weiming chen │ 27  │  male   │    None    │\n",
       "└────┴──────────────┴─────┴─────────┴────────────┘\n"
      ]
     },
     "metadata": {},
     "output_type": "display_data"
    },
    {
     "data": {
      "text/plain": [
       "((1, 'Weiming Chen', 20, 'male', '2024-10-30'),\n",
       " (2, 'John', 16, 'Unknown', '2024-10-30'),\n",
       " (5, 'weiming chen', 27, 'male', None))"
      ]
     },
     "execution_count": 30,
     "metadata": {},
     "output_type": "execute_result"
    }
   ],
   "source": [
    "db_api.delete_data(table_name=\"user\", condition=\"age>30\")\n",
    "\n",
    "# show data\n",
    "db_api.search_data(table_name=\"user\", list_all=True, show=True)"
   ]
  },
  {
   "cell_type": "markdown",
   "metadata": {},
   "source": [
    "### 2.9 Delete data table\n",
    "\n",
    "You can delete the entire data table by calling `delete_table()`\n",
    "\n",
    "Here is an examples as follows.\n",
    "\n",
    "#### Arguments\n",
    "\n",
    "| args | type | remark |\n",
    "| :--- | :--- | :----- |\n",
    "| `table_name` | Optional[str] | The name of the table. Defaults to None |\n",
    "| `sql_command` | Optional[str] | SQL command. Defaults to None |\n",
    "| `not_exist_ok` | bool | Delete table if it not exists. Default to True |\n",
    "\n",
    "We recommend you to specify `table_name` to get fields if you are not familiar with SQL language.\n",
    "\n",
    "However, if you are familiar with SQL language, you can also directly provice `sql_command` for more flexible usage.\n",
    "\n",
    "We defaults to set `not_exist_ok=True` to avoid raising the error caused by deleting an non-existing data table. (Only taking effect when `table_name` is specified)\n",
    "\n",
    "#### Returns\n",
    "\n",
    "It returns True if success, otherwise return False"
   ]
  },
  {
   "cell_type": "code",
   "execution_count": 31,
   "metadata": {},
   "outputs": [
    {
     "name": "stderr",
     "output_type": "stream",
     "text": [
      "\u001b[32m2024-10-30 19:28:21\u001b[0m\u001b[31m | \u001b[0m\u001b[33m0 day(s) 00:00:03\u001b[0m\u001b[31m | \u001b[0m\u001b[1mINFO\u001b[0m\u001b[31m | \u001b[0m\u001b[1mdeleting data table...\u001b[0m\n",
      "\u001b[32m2024-10-30 19:28:21\u001b[0m\u001b[31m | \u001b[0m\u001b[33m0 day(s) 00:00:03\u001b[0m\u001b[31m | \u001b[0m\u001b[1mINFO\u001b[0m\u001b[31m | \u001b[0m\u001b[1mgetting tables from database...\u001b[0m\n",
      "\u001b[32m2024-10-30 19:28:21\u001b[0m\u001b[31m | \u001b[0m\u001b[33m0 day(s) 00:00:03\u001b[0m\u001b[31m | \u001b[0m\u001b[32m\u001b[1mSUCCESS\u001b[0m\u001b[31m | \u001b[0m\u001b[32m\u001b[1mtable deleted\u001b[0m\n",
      "\u001b[32m2024-10-30 19:28:21\u001b[0m\u001b[31m | \u001b[0m\u001b[33m0 day(s) 00:00:03\u001b[0m\u001b[31m | \u001b[0m\u001b[1mINFO\u001b[0m\u001b[31m | \u001b[0m\u001b[1mgetting tables from database...\u001b[0m\n"
     ]
    },
    {
     "data": {
      "text/html": [
       "<pre style=\"white-space:pre;overflow-x:auto;line-height:normal;font-family:Menlo,'DejaVu Sans Mono',consolas,'Courier New',monospace\"><span style=\"font-style: italic\">Show Data </span>\n",
       "<span style=\"font-style: italic\">  Tables  </span>\n",
       "┏━━━━━━━━┓\n",
       "┃<span style=\"font-weight: bold\"> Tables </span>┃\n",
       "┡━━━━━━━━┩\n",
       "└────────┘\n",
       "</pre>\n"
      ],
      "text/plain": [
       "\u001b[3mShow Data \u001b[0m\n",
       "\u001b[3m  Tables  \u001b[0m\n",
       "┏━━━━━━━━┓\n",
       "┃\u001b[1m \u001b[0m\u001b[1mTables\u001b[0m\u001b[1m \u001b[0m┃\n",
       "┡━━━━━━━━┩\n",
       "└────────┘\n"
      ]
     },
     "metadata": {},
     "output_type": "display_data"
    },
    {
     "data": {
      "text/plain": [
       "()"
      ]
     },
     "execution_count": 31,
     "metadata": {},
     "output_type": "execute_result"
    }
   ],
   "source": [
    "db_api.delete_table(table_name=\"user\")\n",
    "\n",
    "# show table\n",
    "db_api.get_tables(show=True)"
   ]
  },
  {
   "cell_type": "markdown",
   "metadata": {},
   "source": [
    "### 2.10 Close connection\n",
    "\n",
    "After using the database, don't forget to close the connection by calling `close()`."
   ]
  },
  {
   "cell_type": "code",
   "execution_count": 32,
   "metadata": {},
   "outputs": [
    {
     "name": "stderr",
     "output_type": "stream",
     "text": [
      "\u001b[32m2024-10-30 19:28:21\u001b[0m\u001b[31m | \u001b[0m\u001b[33m0 day(s) 00:00:04\u001b[0m\u001b[31m | \u001b[0m\u001b[1mINFO\u001b[0m\u001b[31m | \u001b[0m\u001b[1mdatabase connection closed\u001b[0m\n"
     ]
    }
   ],
   "source": [
    "db_api.close()"
   ]
  }
 ],
 "metadata": {
  "kernelspec": {
   "display_name": "mlcbase_dev",
   "language": "python",
   "name": "python3"
  },
  "language_info": {
   "codemirror_mode": {
    "name": "ipython",
    "version": 3
   },
   "file_extension": ".py",
   "mimetype": "text/x-python",
   "name": "python",
   "nbconvert_exporter": "python",
   "pygments_lexer": "ipython3",
   "version": "3.13.0"
  }
 },
 "nbformat": 4,
 "nbformat_minor": 2
}
