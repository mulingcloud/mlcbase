{
 "cells": [
  {
   "cell_type": "markdown",
   "metadata": {},
   "source": [
    "# Tutorial for Version Features in MLCBase\n",
    "\n",
    "[![PyPI](https://img.shields.io/pypi/v/mlcbase)](https://pypi.org/project/mlcbase/) &nbsp;\n",
    "[![license](https://img.shields.io/github/license/wmchen/mlcbase.svg)](https://www.apache.org/licenses/LICENSE-2.0)\n",
    "\n",
    "Author: [Weiming Chen](https://weimingchen.net) and [Yuanshuang Sun](https://www.mulingcloud.com/author/yuanshuang-sun/)"
   ]
  },
  {
   "cell_type": "markdown",
   "metadata": {},
   "source": [
    "## Introduction\n",
    "\n",
    "The version pattern of MuLingCloud modules and applications is: `{epoch}.{major}.{minor}.{state}.{date}`, where\n",
    "\n",
    "- epoch (required): An epoch version will be released when a new framework is coming.\n",
    "- major (required): A major version will be released when there is a major update.\n",
    "- minor (required): A minor version will be released when there is a minor update, such as fixing bugs or adding some simple features.\n",
    "- state (optional): Representing the state of the module/application. Support values:\n",
    "  - `dev`: development version.\n",
    "  - `alpha`: alpha version.\n",
    "  - `beta`: beta version.\n",
    "  - `rc{num}`: release candidate version, where the rc number is optional.\n",
    "  - `release`: release version.\n",
    "- date (optional): The date version. The pattern of data version is `YYYYMM`"
   ]
  },
  {
   "cell_type": "code",
   "execution_count": 1,
   "metadata": {},
   "outputs": [
    {
     "name": "stdout",
     "output_type": "stream",
     "text": [
      "\n",
      "👋 \u001b[34mWelcome to use \u001b[31mMuLingCloud\u001b[34m. We aim to let everything easier.\u001b[34m\n",
      "\n",
      "📍 \u001b[33mmlcbase (1.2.0.dev.202405) imported\u001b[39m\n",
      "\n"
     ]
    }
   ],
   "source": [
    "import sys\n",
    "sys.path.append(\"../src\")\n",
    "from mlcbase import Version"
   ]
  },
  {
   "cell_type": "code",
   "execution_count": 2,
   "metadata": {},
   "outputs": [],
   "source": [
    "v1 = Version(\"1.1.0.rc1.202404\")\n",
    "v2 = Version(\"1.2.0.dev\")"
   ]
  },
  {
   "cell_type": "markdown",
   "metadata": {},
   "source": [
    "You can get properties of version by calling their names."
   ]
  },
  {
   "cell_type": "code",
   "execution_count": 3,
   "metadata": {},
   "outputs": [
    {
     "name": "stdout",
     "output_type": "stream",
     "text": [
      "1\n",
      "1\n",
      "0\n",
      "rc1\n",
      "202404\n"
     ]
    }
   ],
   "source": [
    "print(v1.epoch)\n",
    "print(v1.major)\n",
    "print(v1.minor)\n",
    "print(v1.state)\n",
    "print(v1.date)"
   ]
  },
  {
   "cell_type": "code",
   "execution_count": 4,
   "metadata": {},
   "outputs": [
    {
     "name": "stdout",
     "output_type": "stream",
     "text": [
      "1\n",
      "2\n",
      "0\n",
      "dev\n",
      "None\n"
     ]
    }
   ],
   "source": [
    "print(v2.epoch)\n",
    "print(v2.major)\n",
    "print(v2.minor)\n",
    "print(v2.state)\n",
    "print(v2.date)"
   ]
  },
  {
   "cell_type": "markdown",
   "metadata": {},
   "source": [
    "You can compare the order of version by using comparision operators i.e. `==`, `!=`, `<`, `<=`, `>`, `>=`."
   ]
  },
  {
   "cell_type": "code",
   "execution_count": 5,
   "metadata": {},
   "outputs": [
    {
     "data": {
      "text/plain": [
       "False"
      ]
     },
     "execution_count": 5,
     "metadata": {},
     "output_type": "execute_result"
    }
   ],
   "source": [
    "v1 == v2"
   ]
  },
  {
   "cell_type": "code",
   "execution_count": 6,
   "metadata": {},
   "outputs": [
    {
     "data": {
      "text/plain": [
       "True"
      ]
     },
     "execution_count": 6,
     "metadata": {},
     "output_type": "execute_result"
    }
   ],
   "source": [
    "v1 != v2"
   ]
  },
  {
   "cell_type": "code",
   "execution_count": 7,
   "metadata": {},
   "outputs": [
    {
     "data": {
      "text/plain": [
       "True"
      ]
     },
     "execution_count": 7,
     "metadata": {},
     "output_type": "execute_result"
    }
   ],
   "source": [
    "v1 < v2"
   ]
  },
  {
   "cell_type": "code",
   "execution_count": 8,
   "metadata": {},
   "outputs": [
    {
     "data": {
      "text/plain": [
       "True"
      ]
     },
     "execution_count": 8,
     "metadata": {},
     "output_type": "execute_result"
    }
   ],
   "source": [
    "v1 <= v2"
   ]
  },
  {
   "cell_type": "code",
   "execution_count": 9,
   "metadata": {},
   "outputs": [
    {
     "data": {
      "text/plain": [
       "False"
      ]
     },
     "execution_count": 9,
     "metadata": {},
     "output_type": "execute_result"
    }
   ],
   "source": [
    "v1 > v2"
   ]
  },
  {
   "cell_type": "code",
   "execution_count": 10,
   "metadata": {},
   "outputs": [
    {
     "data": {
      "text/plain": [
       "False"
      ]
     },
     "execution_count": 10,
     "metadata": {},
     "output_type": "execute_result"
    }
   ],
   "source": [
    "v1 >= v2"
   ]
  }
 ],
 "metadata": {
  "kernelspec": {
   "display_name": "mlcbase_py38",
   "language": "python",
   "name": "python3"
  },
  "language_info": {
   "codemirror_mode": {
    "name": "ipython",
    "version": 3
   },
   "file_extension": ".py",
   "mimetype": "text/x-python",
   "name": "python",
   "nbconvert_exporter": "python",
   "pygments_lexer": "ipython3",
   "version": "3.8.19"
  }
 },
 "nbformat": 4,
 "nbformat_minor": 2
}
