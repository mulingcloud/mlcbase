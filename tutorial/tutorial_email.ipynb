{
 "cells": [
  {
   "cell_type": "markdown",
   "metadata": {},
   "source": [
    "# Tutorial for Email Features in MLCBase\n",
    "\n",
    "[![PyPI](https://img.shields.io/pypi/v/mlcbase)](https://pypi.org/project/mlcbase/) &nbsp;\n",
    "[![license](https://img.shields.io/github/license/wmchen/mlcbase.svg)](https://www.apache.org/licenses/LICENSE-2.0)\n",
    "\n",
    "Author: [Weiming Chen](https://weimingchen.net) and [Yuanshuang Sun](https://www.mulingcloud.com/author/yuanshuang-sun/)"
   ]
  },
  {
   "cell_type": "markdown",
   "metadata": {},
   "source": [
    "## Introduction\n",
    "\n",
    "We offer a simple API to send email. Currently only supports SMTP (with SSL) server."
   ]
  },
  {
   "cell_type": "code",
   "execution_count": 1,
   "metadata": {},
   "outputs": [
    {
     "name": "stdout",
     "output_type": "stream",
     "text": [
      "\n",
      "👋 \u001b[34mWelcome to use \u001b[31mMuLingCloud\u001b[34m. We aim to let everything easier.\u001b[34m\n",
      "\n",
      "📍 \u001b[33mmlcbase (1.2.0.dev.202405) imported\u001b[39m\n",
      "\n"
     ]
    }
   ],
   "source": [
    "import sys\n",
    "sys.path.append(\"../src\")\n",
    "from mlcbase import SMTPAPI"
   ]
  },
  {
   "cell_type": "code",
   "execution_count": 2,
   "metadata": {},
   "outputs": [],
   "source": [
    "host = \"\"      # change to the host of SMTP server\n",
    "port = 465     # change to the port number of SMTP server, should be int\n",
    "name = \"\"      # change to the name of the sender\n",
    "address = \"\"   # change to the email address of the sender\n",
    "password = \"\"  # change to the password or the authorize code of the email"
   ]
  },
  {
   "cell_type": "markdown",
   "metadata": {},
   "source": [
    "You can establish an SMTP connection by instantiating `SMTPAPI()`.\n",
    "\n",
    "### Arguments\n",
    "\n",
    "| args | type | remark |\n",
    "| :--- | :--- | :----- |\n",
    "| `host` | str | The host of the SMTP server |\n",
    "| `port` | int | The port number of the SMTP server |\n",
    "| `name` | str | The name of the sender |\n",
    "| `address` | str | The email address of the sender |\n",
    "| `password` | str | The password or the authorize code of the email |\n",
    "| `timeout` | int | The timeout for the connection in second. Defaults to 30 |\n",
    "| `chunk_size` | int | Large attachment chunk size. Defaults to 30 (MB) |\n",
    "| `use_ssl` | bool | Whether to use SSL. Defaults to True |\n",
    "| `work_dir` | Optional[PathLikeType] | The working directory. If not None, will save the log file to \"work_dir/log/\". Defaults to None |\n",
    "| `logger` | Optional[Logger] | Defaults to None |\n",
    "| `quiet` | bool | Whether to set the logger as quiet mode. Defaults to False |\n",
    "\n",
    "If the attachment is larger than the `chunk_size`, the large attachment will upload to the remote sever rather than attaching to the email message."
   ]
  },
  {
   "cell_type": "code",
   "execution_count": 4,
   "metadata": {},
   "outputs": [
    {
     "name": "stderr",
     "output_type": "stream",
     "text": [
      "\u001b[32m2024-05-06 20:45:59\u001b[0m\u001b[31m | \u001b[0m\u001b[33m0 day(s) 00:00:00\u001b[0m\u001b[31m | \u001b[0m\u001b[1mINFO\u001b[0m\u001b[31m | \u001b[0m\u001b[1mconnecting to email server...\u001b[0m\n",
      "\u001b[32m2024-05-06 20:45:59\u001b[0m\u001b[31m | \u001b[0m\u001b[33m0 day(s) 00:00:00\u001b[0m\u001b[31m | \u001b[0m\u001b[32m\u001b[1mSUCCESS\u001b[0m\u001b[31m | \u001b[0m\u001b[32m\u001b[1memail server connected\u001b[0m\n"
     ]
    }
   ],
   "source": [
    "smtp_api = SMTPAPI(host, port, name, address, password)"
   ]
  },
  {
   "cell_type": "markdown",
   "metadata": {},
   "source": [
    "You can send an email by calling `send_email()`.\n",
    "\n",
    "### Arguments\n",
    "\n",
    "| args | type | remark |\n",
    "| :--- | :--- | :----- |\n",
    "| `receiver_name` | Union[str, List[str]] | The name of receiver(s) |\n",
    "| `receiver_email` | Union[str, List[str]] | The email address of receiver(s) |\n",
    "| `subject` | str | The subject of the email |\n",
    "| `content` | str | The content of the email |\n",
    "| `signature` | Optional[str] | The signature of the email, which will be added at the end of the content. Defaults to None |\n",
    "| `attachment` | Optional[Union[PathLikeType, List[PathLikeType]]] | The local path of attachment(s). Defaults to None |\n",
    "| `remote_server_config` | Optional[dict] | The timeout for the connection in second. Defaults to None |\n",
    "| `encoding` | str | The encoding method. Defaults to \"utf-8\" |\n",
    "\n",
    "You can send an email to multiple receivers, all you need is to offer a list of `receiver_name` and `receiver_email`.\n",
    "\n",
    "The `content` can be plain text or text in HTML format. We recommend to use HTML format in the email content to let your email more pretty.\n",
    "\n",
    "You can also have multiple attachments in the email, all you need is to offer a list of `attachment`.\n",
    "\n",
    "The attachment which is smaller than the `chunk_size` will be attached to the email message directly.\n",
    "\n",
    "If you have a attachment that is larger than the `chunk_size`, you must offer the `remote_server_config` to upload the large attachment to the remote server through [SFTP](./tutorial_remote_connection.ipynb).\n",
    "\n",
    "The format of `remote_server_config` is as follows.\n",
    "\n",
    "```python\n",
    "remote_server_config = dict(\n",
    "    host=\"\",                # the host address of the remote server\n",
    "    port=22,                # the port number of the remote server\n",
    "    user=\"\",                # the username of the remote server\n",
    "    password=\"\",            # the password of the remote server\n",
    "    save_director=\"\",       # the saving directory of the file in the remote server\n",
    "    remote_platform=\"\",     # the OS type of the remote server. Options including \"windows\", \"linux\"\n",
    "    url=\"\"                  # the download base URL of the attachment. Maybe you need to create an HTTP API on the remote server in advance.\n",
    "    callback=callback_func  # (optional) the callback function to show the progress of the transmission\n",
    ")\n",
    "```\n",
    "Suppose you upload the attachment (named \"large_attach.zip\") to the remote server (suppose the base download url is https://yourremoteserver.net), we will send the download URL to the receiver in the email message with https://yourremoteserver.net/large_attach.zip.\n",
    "\n",
    "### Return\n",
    "\n",
    "It returns True if the email is sent successfully, otherwise returns False"
   ]
  },
  {
   "cell_type": "code",
   "execution_count": 5,
   "metadata": {},
   "outputs": [],
   "source": [
    "receiver_name = \"Weiming Chen\"                     # change to the name of the receiver\n",
    "receiver_email = \"chenwm2023@mail.sustech.edu.cn\"  # change to the email address of the receiver\n",
    "subject = \"Hello email\"                            # change to the subject of the email\n",
    "content = \"\"\"<div style=\"font-family: Microsoft YaHei; font-size: 14px;\">\n",
    "                This is a hello email sending through <span style=\"font-weight: bold;\">mlcbase</span>.\n",
    "             </div>\"\"\"                             # change to the content of the email"
   ]
  },
  {
   "cell_type": "markdown",
   "metadata": {},
   "source": [
    "Sometimes, you need to add signature to the content of the email, we offer a looking good signature example as follows."
   ]
  },
  {
   "cell_type": "code",
   "execution_count": 6,
   "metadata": {},
   "outputs": [],
   "source": [
    "signature = \"\"\"<div style=\"font-family: Microsoft YaHei; font-size: 14px;\">Thanks for using MuLingCloud</div>\n",
    "               <div style=\"margin-top: 10px;margin-bottom: 10px;\">----</div>\n",
    "               <div style=\"margin-bottom: 10px;\">\n",
    "                    <a href=\"https://github.com/wmchen/mlcbase\"><img src=\"https://img.shields.io/badge/github_repository-888888?logo=github&logoColor=black\" /></a>\n",
    "                    <a href=\"https://gitlab.com/wm-chen/mlcbase\"><img src=\"https://img.shields.io/badge/gitlab_repository-888888?logo=gitlab\" /></a>\n",
    "                    <a href=\"https://gitee.com/wm-chen/mlcbase\"><img src=\"https://img.shields.io/badge/gitee_repository-888888?logo=gitee&logoColor=C71D23\" /></a>\n",
    "               </div>\n",
    "               <div style=\"font-family: Microsoft YaHei; font-size: 16px; font-weight: bold;margin-bottom: 10px\">MuLingCloud</div>\n",
    "               <div style=\"font-family: Microsoft YaHei; font-size: 14px; margin-bottom: 5px;\">\n",
    "                    <span style=\"font-weight: bold;\">Email:</span> <a href=\"mailto:mulingcloud@yeah.net\">mulingcloud@yeah.net</a>, \n",
    "                    <a href=\"mailto:mulingcloud@163.com\">mulingcloud@163.com</a>\n",
    "               </div>\n",
    "               <div style=\"font-family: Microsoft YaHei; font-size: 14px; margin-bottom: 20px;\">\n",
    "                    <span style=\"font-weight: bold;\">Office Time:</span> Asia/Shanghai, 9:00-18:00, Mon.-Fri.\n",
    "               </div>\n",
    "               <a href=\"https://www.mulingcloud.com\" style=\"text-decoration: none;\">\n",
    "                    <img src=\"https://lychee.weimingchen.net:1130/uploads/original/ab/f5/9b1e4627612dbd70aa62a1ae5370.png\" height=\"50px\">\n",
    "               </a>\"\"\""
   ]
  },
  {
   "cell_type": "code",
   "execution_count": 7,
   "metadata": {},
   "outputs": [
    {
     "name": "stderr",
     "output_type": "stream",
     "text": [
      "\u001b[32m2024-05-06 20:46:00\u001b[0m\u001b[31m | \u001b[0m\u001b[33m0 day(s) 00:00:00\u001b[0m\u001b[31m | \u001b[0m\u001b[1mINFO\u001b[0m\u001b[31m | \u001b[0m\u001b[1msending email to Weiming Chen (chenwm2023@mail.sustech.edu.cn)...\u001b[0m\n",
      "\u001b[32m2024-05-06 20:46:07\u001b[0m\u001b[31m | \u001b[0m\u001b[33m0 day(s) 00:00:07\u001b[0m\u001b[31m | \u001b[0m\u001b[32m\u001b[1mSUCCESS\u001b[0m\u001b[31m | \u001b[0m\u001b[32m\u001b[1memail sent to Weiming Chen (chenwm2023@mail.sustech.edu.cn)\u001b[0m\n"
     ]
    },
    {
     "data": {
      "text/plain": [
       "True"
      ]
     },
     "execution_count": 7,
     "metadata": {},
     "output_type": "execute_result"
    }
   ],
   "source": [
    "smtp_api.send_email(receiver_name, receiver_email, subject, content, signature, attachment=\"./examples/YOLOv9.pdf\")"
   ]
  },
  {
   "cell_type": "markdown",
   "metadata": {},
   "source": [
    "Don't forget to close the connection after using."
   ]
  },
  {
   "cell_type": "code",
   "execution_count": 8,
   "metadata": {},
   "outputs": [
    {
     "name": "stderr",
     "output_type": "stream",
     "text": [
      "\u001b[32m2024-05-06 20:46:07\u001b[0m\u001b[31m | \u001b[0m\u001b[33m0 day(s) 00:00:07\u001b[0m\u001b[31m | \u001b[0m\u001b[1mINFO\u001b[0m\u001b[31m | \u001b[0m\u001b[1memail server connection closed\u001b[0m\n"
     ]
    }
   ],
   "source": [
    "smtp_api.close()"
   ]
  }
 ],
 "metadata": {
  "kernelspec": {
   "display_name": "mlc_base_py310",
   "language": "python",
   "name": "python3"
  },
  "language_info": {
   "codemirror_mode": {
    "name": "ipython",
    "version": 3
   },
   "file_extension": ".py",
   "mimetype": "text/x-python",
   "name": "python",
   "nbconvert_exporter": "python",
   "pygments_lexer": "ipython3",
   "version": "3.10.13"
  }
 },
 "nbformat": 4,
 "nbformat_minor": 2
}
