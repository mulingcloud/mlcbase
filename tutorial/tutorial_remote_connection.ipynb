{
 "cells": [
  {
   "cell_type": "markdown",
   "metadata": {},
   "source": [
    "# Tutorial for Remote Connection Features in MLCBase\n",
    "\n",
    "[![PyPI](https://img.shields.io/pypi/v/mlcbase)](https://pypi.org/project/mlcbase/) &nbsp;\n",
    "[![license](https://img.shields.io/github/license/wmchen/mlcbase.svg)](https://www.apache.org/licenses/LICENSE-2.0)\n",
    "\n",
    "Author: [Weiming Chen](https://weimingchen.net) and [Yuanshuang Sun](https://www.mulingcloud.com/author/yuanshuang-sun/)"
   ]
  },
  {
   "cell_type": "markdown",
   "metadata": {},
   "source": [
    "## Introduction\n",
    "\n",
    "We support SSH and SFTP for remote connection.\n",
    "\n",
    "Supported remote platform:\n",
    "- Linux\n",
    "- Windows"
   ]
  },
  {
   "cell_type": "code",
   "execution_count": 1,
   "metadata": {},
   "outputs": [
    {
     "name": "stdout",
     "output_type": "stream",
     "text": [
      "\n",
      "👋 \u001b[34mWelcome to use \u001b[31mMuLingCloud\u001b[34m. We aim to let everything easier.\u001b[34m\n",
      "\n",
      "📍 \u001b[33mmlcbase (1.2.0.dev.202405) imported\u001b[39m\n",
      "\n"
     ]
    }
   ],
   "source": [
    "import sys\n",
    "sys.path.append(\"../src\")\n",
    "from mlcbase import SSH, SFTP"
   ]
  },
  {
   "cell_type": "code",
   "execution_count": 2,
   "metadata": {},
   "outputs": [],
   "source": [
    "host = \"\"      # change to the host of your remote sever\n",
    "port = 22      # change to the port number of your remote sever\n",
    "user = \"\"      # change to the username of your remote sever\n",
    "password = \"\"  # change to the password of your remote sever"
   ]
  },
  {
   "cell_type": "markdown",
   "metadata": {},
   "source": [
    "## 1. SSH\n",
    "\n",
    "You can establish an SSH connection by instantiating `SSH()`.\n",
    "\n",
    "### Arguments\n",
    "\n",
    "| args | type | remark |\n",
    "| :--- | :--- | :----- |\n",
    "| `host` | str | The host of the remote server |\n",
    "| `port` | int | The port number of the remote server |\n",
    "| `user` | str | The user name used to login the remote server |\n",
    "| `password` | str | The login password |\n",
    "| `timeout` | int | The timeout for the connection in second. Defaults to 30 |\n",
    "| `work_dir` | Optional[PathLikeType] | The working directory. If not None, will save the log file to \"work_dir/log/\". Defaults to None |\n",
    "| `logger` | Optional[Logger] | Defaults to None |\n",
    "| `quiet` | bool | Whether to set the logger as quiet mode. Defaults to False |"
   ]
  },
  {
   "cell_type": "code",
   "execution_count": 4,
   "metadata": {},
   "outputs": [
    {
     "name": "stderr",
     "output_type": "stream",
     "text": [
      "\u001b[32m2024-05-06 19:54:07\u001b[0m\u001b[31m | \u001b[0m\u001b[33m0 day(s) 00:00:00\u001b[0m\u001b[31m | \u001b[0m\u001b[1mINFO\u001b[0m\u001b[31m | \u001b[0m\u001b[1mssh connecting to remote server...\u001b[0m\n",
      "\u001b[32m2024-05-06 19:54:08\u001b[0m\u001b[31m | \u001b[0m\u001b[33m0 day(s) 00:00:00\u001b[0m\u001b[31m | \u001b[0m\u001b[32m\u001b[1mSUCCESS\u001b[0m\u001b[31m | \u001b[0m\u001b[32m\u001b[1mssh connected to remote server.\u001b[0m\n"
     ]
    }
   ],
   "source": [
    "ssh_api = SSH(host, port, user, password)"
   ]
  },
  {
   "cell_type": "markdown",
   "metadata": {},
   "source": [
    "You can send command to the remote server by calling `execute()`.\n",
    "\n",
    "### Arguments\n",
    "\n",
    "| args | type | remark |\n",
    "| :--- | :--- | :----- |\n",
    "| `command` | str | The command that you want to execute on the remote server |\n",
    "| `return_str` | bool | Whether to return the `std_out` and `std_error` in `str`. Defaults to True |\n",
    "| `encoding` | str | The encoding method. Defaults to \"utf-8\" |\n",
    "\n",
    "### Return\n",
    "\n",
    "It returns the `std_out` and `std_error` in `str` if `return_str` is True. Otherwise, it returns the `std_out` and `std_error` objects."
   ]
  },
  {
   "cell_type": "code",
   "execution_count": 5,
   "metadata": {},
   "outputs": [],
   "source": [
    "stdout, stderr = ssh_api.execute(\"mkdir testdir/\")\n",
    "if stdout:\n",
    "    print(stdout)\n",
    "if stderr:\n",
    "    print(stderr)"
   ]
  },
  {
   "cell_type": "code",
   "execution_count": 6,
   "metadata": {},
   "outputs": [
    {
     "name": "stdout",
     "output_type": "stream",
     "text": [
      ".\n",
      "..\n",
      ".bash_logout\n",
      ".bashrc\n",
      ".cache\n",
      "examples.desktop\n",
      ".profile\n",
      "testdir\n",
      "\n"
     ]
    }
   ],
   "source": [
    "stdout, stderr = ssh_api.execute(\"ls -a\")\n",
    "if stdout:\n",
    "    print(stdout)\n",
    "if stderr:\n",
    "    print(stderr)"
   ]
  },
  {
   "cell_type": "markdown",
   "metadata": {},
   "source": [
    "After using the ssh connection, don't forget to close the connection by calling `close()`."
   ]
  },
  {
   "cell_type": "code",
   "execution_count": 7,
   "metadata": {},
   "outputs": [
    {
     "name": "stderr",
     "output_type": "stream",
     "text": [
      "\u001b[32m2024-05-06 19:54:08\u001b[0m\u001b[31m | \u001b[0m\u001b[33m0 day(s) 00:00:01\u001b[0m\u001b[31m | \u001b[0m\u001b[1mINFO\u001b[0m\u001b[31m | \u001b[0m\u001b[1mssh connection closed\u001b[0m\n"
     ]
    }
   ],
   "source": [
    "ssh_api.close()"
   ]
  },
  {
   "cell_type": "markdown",
   "metadata": {},
   "source": [
    "## 2. SFTP\n",
    "\n",
    "You can establish an SFTP connection by instantiating `SFTP()`.\n",
    "\n",
    "### Arguments\n",
    "\n",
    "| args | type | remark |\n",
    "| :--- | :--- | :----- |\n",
    "| `host` | str | The host of the remote server |\n",
    "| `port` | int | The port number of the remote server |\n",
    "| `user` | str | The user name used to login the remote server |\n",
    "| `password` | str | The login password |\n",
    "| `timeout` | int | The timeout for the connection in second. Defaults to 30 |\n",
    "| `work_dir` | Optional[PathLikeType] | The working directory. If not None, will save the log file to \"work_dir/log/\". Defaults to None |\n",
    "| `logger` | Optional[Logger] | Defaults to None |\n",
    "| `quiet` | bool | Whether to set the logger as quiet mode. Defaults to False |"
   ]
  },
  {
   "cell_type": "code",
   "execution_count": 8,
   "metadata": {},
   "outputs": [
    {
     "name": "stderr",
     "output_type": "stream",
     "text": [
      "\u001b[32m2024-05-06 19:54:08\u001b[0m\u001b[31m | \u001b[0m\u001b[33m0 day(s) 00:00:00\u001b[0m\u001b[31m | \u001b[0m\u001b[1mINFO\u001b[0m\u001b[31m | \u001b[0m\u001b[1msftp connecting to remote server...\u001b[0m\n",
      "\u001b[32m2024-05-06 19:54:09\u001b[0m\u001b[31m | \u001b[0m\u001b[33m0 day(s) 00:00:00\u001b[0m\u001b[31m | \u001b[0m\u001b[32m\u001b[1mSUCCESS\u001b[0m\u001b[31m | \u001b[0m\u001b[32m\u001b[1msftp connected to remote server.\u001b[0m\n"
     ]
    }
   ],
   "source": [
    "sftp_api = SFTP(host, port, user, password)"
   ]
  },
  {
   "cell_type": "markdown",
   "metadata": {},
   "source": [
    "### 2.1 Upload a file\n",
    "\n",
    "You can upload a file to the remote server by calling `upload_file()`.\n",
    "\n",
    "#### Arguments\n",
    "\n",
    "| args | type | remark |\n",
    "| :--- | :--- | :----- |\n",
    "| `local_path` | PathLikeType | The local path of the file |\n",
    "| `remote_path` | PathLikeType | The destination path on the remote server of the file |\n",
    "| `remote_platform` | str | The type of the remote server. Current options including \"linux\" and \"windows\" |\n",
    "| `callback` | Optional[Callable] | The callback function that used to visualize the progress of the transmission. Defaults to None |\n",
    "\n",
    "#### Return\n",
    "\n",
    "It returns True if success, otherwise returns False"
   ]
  },
  {
   "cell_type": "code",
   "execution_count": 9,
   "metadata": {},
   "outputs": [
    {
     "name": "stderr",
     "output_type": "stream",
     "text": [
      "\u001b[32m2024-05-06 19:54:09\u001b[0m\u001b[31m | \u001b[0m\u001b[33m0 day(s) 00:00:00\u001b[0m\u001b[31m | \u001b[0m\u001b[1mINFO\u001b[0m\u001b[31m | \u001b[0m\u001b[1muploading file: [LOCAL] ./examples/jsonfile.json -> [REMOTE] /home/testuser/testdir/jsonfile.json\u001b[0m\n",
      "\u001b[32m2024-05-06 19:54:09\u001b[0m\u001b[31m | \u001b[0m\u001b[33m0 day(s) 00:00:00\u001b[0m\u001b[31m | \u001b[0m\u001b[32m\u001b[1mSUCCESS\u001b[0m\u001b[31m | \u001b[0m\u001b[32m\u001b[1mfile uploaded\u001b[0m\n"
     ]
    },
    {
     "data": {
      "text/plain": [
       "True"
      ]
     },
     "execution_count": 9,
     "metadata": {},
     "output_type": "execute_result"
    }
   ],
   "source": [
    "sftp_api.upload_file(local_path=\"./examples/jsonfile.json\",\n",
    "                     remote_path=\"/home/testuser/testdir/jsonfile.json\",\n",
    "                     remote_platform=\"linux\")"
   ]
  },
  {
   "cell_type": "markdown",
   "metadata": {},
   "source": [
    "You can define a callback function to visualize the progress of the transmission."
   ]
  },
  {
   "cell_type": "code",
   "execution_count": 10,
   "metadata": {},
   "outputs": [],
   "source": [
    "def show_progress(current, total):\n",
    "    sys.stdout.write(f\"Progress: {current}/{total} ({current/total*100:.2f}%)\\r\")\n",
    "    sys.stdout.flush()\n",
    "    if current == total:\n",
    "        print(f\"Progress: {current}/{total} ({current/total*100:.2f}%)\")"
   ]
  },
  {
   "cell_type": "code",
   "execution_count": 11,
   "metadata": {},
   "outputs": [
    {
     "name": "stderr",
     "output_type": "stream",
     "text": [
      "\u001b[32m2024-05-06 19:54:09\u001b[0m\u001b[31m | \u001b[0m\u001b[33m0 day(s) 00:00:00\u001b[0m\u001b[31m | \u001b[0m\u001b[1mINFO\u001b[0m\u001b[31m | \u001b[0m\u001b[1muploading file: [LOCAL] ./examples/YOLOv9.pdf -> [REMOTE] /home/testuser/testdir/YOLOv9.pdf\u001b[0m\n"
     ]
    },
    {
     "name": "stdout",
     "output_type": "stream",
     "text": [
      "Progress: 4968643/4968643 (100.00%)\n"
     ]
    },
    {
     "name": "stderr",
     "output_type": "stream",
     "text": [
      "\u001b[32m2024-05-06 19:54:13\u001b[0m\u001b[31m | \u001b[0m\u001b[33m0 day(s) 00:00:04\u001b[0m\u001b[31m | \u001b[0m\u001b[32m\u001b[1mSUCCESS\u001b[0m\u001b[31m | \u001b[0m\u001b[32m\u001b[1mfile uploaded\u001b[0m\n"
     ]
    },
    {
     "data": {
      "text/plain": [
       "True"
      ]
     },
     "execution_count": 11,
     "metadata": {},
     "output_type": "execute_result"
    }
   ],
   "source": [
    "sftp_api.upload_file(local_path=\"./examples/YOLOv9.pdf\",\n",
    "                     remote_path=\"/home/testuser/testdir/YOLOv9.pdf\",\n",
    "                     remote_platform=\"linux\",\n",
    "                     callback=show_progress)"
   ]
  },
  {
   "cell_type": "markdown",
   "metadata": {},
   "source": [
    "### 2.2 Download a file\n",
    "\n",
    "You can download a file from the remote server by calling `download_file()`.\n",
    "\n",
    "#### Arguments\n",
    "\n",
    "| args | type | remark |\n",
    "| :--- | :--- | :----- |\n",
    "| `remote_path` | PathLikeType | The remote path of the file |\n",
    "| `local_path` | PathLikeType | The destination path on the local device of the file |\n",
    "| `remote_platform` | str | The type of the remote server. Current options including \"linux\" and \"windows\" |\n",
    "| `callback` | Optional[Callable] | The callback function that used to visualize the progress of the transmission. Defaults to None |\n",
    "\n",
    "#### Return\n",
    "\n",
    "It returns True if success, otherwise returns False"
   ]
  },
  {
   "cell_type": "code",
   "execution_count": 12,
   "metadata": {},
   "outputs": [
    {
     "name": "stderr",
     "output_type": "stream",
     "text": [
      "\u001b[32m2024-05-06 19:54:13\u001b[0m\u001b[31m | \u001b[0m\u001b[33m0 day(s) 00:00:04\u001b[0m\u001b[31m | \u001b[0m\u001b[1mINFO\u001b[0m\u001b[31m | \u001b[0m\u001b[1mdownloading file: [REMOTE] /home/testuser/testdir/jsonfile.json -> [LOCAL] ./examples/jsonfile.remote_download.json\u001b[0m\n",
      "\u001b[32m2024-05-06 19:54:13\u001b[0m\u001b[31m | \u001b[0m\u001b[33m0 day(s) 00:00:04\u001b[0m\u001b[31m | \u001b[0m\u001b[32m\u001b[1mSUCCESS\u001b[0m\u001b[31m | \u001b[0m\u001b[32m\u001b[1mfile downloaded\u001b[0m\n"
     ]
    },
    {
     "data": {
      "text/plain": [
       "True"
      ]
     },
     "execution_count": 12,
     "metadata": {},
     "output_type": "execute_result"
    }
   ],
   "source": [
    "sftp_api.download_file(remote_path=\"/home/testuser/testdir/jsonfile.json\",\n",
    "                       local_path=\"./examples/jsonfile.remote_download.json\",\n",
    "                       remote_platform=\"linux\")"
   ]
  },
  {
   "cell_type": "markdown",
   "metadata": {},
   "source": [
    "### 2.3 Upload a directory\n",
    "\n",
    "You can upload a directory to the remote server by calling `upload_dir()`.\n",
    "\n",
    "#### Arguments\n",
    "\n",
    "| args | type | remark |\n",
    "| :--- | :--- | :----- |\n",
    "| `local_path` | PathLikeType | The local path of the directory |\n",
    "| `remote_path` | PathLikeType | The destination path on the remote server of the directory |\n",
    "| `remote_platform` | str | The type of the remote server. Current options including \"linux\" and \"windows\" |\n",
    "| `callback` | Optional[Callable] | The callback function that used to visualize the progress of the process. Defaults to None |\n",
    "\n",
    "#### Return\n",
    "\n",
    "It returns True if success, otherwise returns False"
   ]
  },
  {
   "cell_type": "code",
   "execution_count": 13,
   "metadata": {},
   "outputs": [
    {
     "name": "stderr",
     "output_type": "stream",
     "text": [
      "\u001b[32m2024-05-06 19:54:13\u001b[0m\u001b[31m | \u001b[0m\u001b[33m0 day(s) 00:00:05\u001b[0m\u001b[31m | \u001b[0m\u001b[1mINFO\u001b[0m\u001b[31m | \u001b[0m\u001b[1muploading directory: [LOCAL] ./examples/example_dir -> [REMOTE] /home/testuser/testdir/example_dir\u001b[0m\n",
      "\u001b[32m2024-05-06 19:54:13\u001b[0m\u001b[31m | \u001b[0m\u001b[33m0 day(s) 00:00:05\u001b[0m\u001b[31m | \u001b[0m\u001b[1mINFO\u001b[0m\u001b[31m | \u001b[0m\u001b[1mcreating remote directory: /home/testuser/testdir/example_dir\u001b[0m\n",
      "\u001b[32m2024-05-06 19:54:13\u001b[0m\u001b[31m | \u001b[0m\u001b[33m0 day(s) 00:00:05\u001b[0m\u001b[31m | \u001b[0m\u001b[32m\u001b[1mSUCCESS\u001b[0m\u001b[31m | \u001b[0m\u001b[32m\u001b[1mdirectory created\u001b[0m\n",
      "\u001b[32m2024-05-06 19:54:13\u001b[0m\u001b[31m | \u001b[0m\u001b[33m0 day(s) 00:00:05\u001b[0m\u001b[31m | \u001b[0m\u001b[1mINFO\u001b[0m\u001b[31m | \u001b[0m\u001b[1muploading file: [LOCAL] ./examples/example_dir\\jsonfile.json -> [REMOTE] /home/testuser/testdir/example_dir/jsonfile.json\u001b[0m\n",
      "\u001b[32m2024-05-06 19:54:13\u001b[0m\u001b[31m | \u001b[0m\u001b[33m0 day(s) 00:00:05\u001b[0m\u001b[31m | \u001b[0m\u001b[32m\u001b[1mSUCCESS\u001b[0m\u001b[31m | \u001b[0m\u001b[32m\u001b[1mfile uploaded\u001b[0m\n",
      "\u001b[32m2024-05-06 19:54:13\u001b[0m\u001b[31m | \u001b[0m\u001b[33m0 day(s) 00:00:05\u001b[0m\u001b[31m | \u001b[0m\u001b[1mINFO\u001b[0m\u001b[31m | \u001b[0m\u001b[1muploading file: [LOCAL] ./examples/example_dir\\xmlfile.xml -> [REMOTE] /home/testuser/testdir/example_dir/xmlfile.xml\u001b[0m\n",
      "\u001b[32m2024-05-06 19:54:14\u001b[0m\u001b[31m | \u001b[0m\u001b[33m0 day(s) 00:00:05\u001b[0m\u001b[31m | \u001b[0m\u001b[32m\u001b[1mSUCCESS\u001b[0m\u001b[31m | \u001b[0m\u001b[32m\u001b[1mfile uploaded\u001b[0m\n",
      "\u001b[32m2024-05-06 19:54:14\u001b[0m\u001b[31m | \u001b[0m\u001b[33m0 day(s) 00:00:05\u001b[0m\u001b[31m | \u001b[0m\u001b[1mINFO\u001b[0m\u001b[31m | \u001b[0m\u001b[1muploading file: [LOCAL] ./examples/example_dir\\yamlfile.yaml -> [REMOTE] /home/testuser/testdir/example_dir/yamlfile.yaml\u001b[0m\n",
      "\u001b[32m2024-05-06 19:54:14\u001b[0m\u001b[31m | \u001b[0m\u001b[33m0 day(s) 00:00:05\u001b[0m\u001b[31m | \u001b[0m\u001b[32m\u001b[1mSUCCESS\u001b[0m\u001b[31m | \u001b[0m\u001b[32m\u001b[1mfile uploaded\u001b[0m\n",
      "\u001b[32m2024-05-06 19:54:14\u001b[0m\u001b[31m | \u001b[0m\u001b[33m0 day(s) 00:00:05\u001b[0m\u001b[31m | \u001b[0m\u001b[32m\u001b[1mSUCCESS\u001b[0m\u001b[31m | \u001b[0m\u001b[32m\u001b[1mdirectory uploaded\u001b[0m\n"
     ]
    },
    {
     "data": {
      "text/plain": [
       "True"
      ]
     },
     "execution_count": 13,
     "metadata": {},
     "output_type": "execute_result"
    }
   ],
   "source": [
    "sftp_api.upload_dir(local_path=\"./examples/example_dir\",\n",
    "                    remote_path=\"/home/testuser/testdir/example_dir\",\n",
    "                    remote_platform=\"linux\")"
   ]
  },
  {
   "cell_type": "markdown",
   "metadata": {},
   "source": [
    "Using the a callback function to show the progress of the transmission is also available for uploading and downloading a directory."
   ]
  },
  {
   "cell_type": "markdown",
   "metadata": {},
   "source": [
    "### 2.4 Download a directory\n",
    "\n",
    "You can download a directory from the remote server by calling `download_dir()`.\n",
    "\n",
    "#### Arguments\n",
    "\n",
    "| args | type | remark |\n",
    "| :--- | :--- | :----- |\n",
    "| `remote_path` | PathLikeType | The remote path of the directory |\n",
    "| `local_path` | PathLikeType | The destination path on the local device of the directory |\n",
    "| `remote_platform` | str | The type of the remote server. Current options including \"linux\" and \"windows\" |\n",
    "| `callback` | Optional[Callable] | The callback function that used to visualize the progress of the transmission. Defaults to None |\n",
    "\n",
    "#### Return\n",
    "\n",
    "It returns True if success, otherwise returns False"
   ]
  },
  {
   "cell_type": "code",
   "execution_count": 14,
   "metadata": {},
   "outputs": [
    {
     "name": "stderr",
     "output_type": "stream",
     "text": [
      "\u001b[32m2024-05-06 19:54:14\u001b[0m\u001b[31m | \u001b[0m\u001b[33m0 day(s) 00:00:05\u001b[0m\u001b[31m | \u001b[0m\u001b[1mINFO\u001b[0m\u001b[31m | \u001b[0m\u001b[1mdownloading directory: [REMOTE] /home/testuser/testdir/example_dir -> [LOCAL] ./examples/example_dir.remote_download\u001b[0m\n",
      "\u001b[32m2024-05-06 19:54:14\u001b[0m\u001b[31m | \u001b[0m\u001b[33m0 day(s) 00:00:05\u001b[0m\u001b[31m | \u001b[0m\u001b[1mINFO\u001b[0m\u001b[31m | \u001b[0m\u001b[1m./examples/example_dir.remote_download already exists, skip creating\u001b[0m\n",
      "\u001b[32m2024-05-06 19:54:14\u001b[0m\u001b[31m | \u001b[0m\u001b[33m0 day(s) 00:00:06\u001b[0m\u001b[31m | \u001b[0m\u001b[1mINFO\u001b[0m\u001b[31m | \u001b[0m\u001b[1mdownloading file: [REMOTE] /home/testuser/testdir/example_dir/jsonfile.json -> [LOCAL] ./examples/example_dir.remote_download\\jsonfile.json\u001b[0m\n",
      "\u001b[32m2024-05-06 19:54:15\u001b[0m\u001b[31m | \u001b[0m\u001b[33m0 day(s) 00:00:06\u001b[0m\u001b[31m | \u001b[0m\u001b[32m\u001b[1mSUCCESS\u001b[0m\u001b[31m | \u001b[0m\u001b[32m\u001b[1mfile downloaded\u001b[0m\n",
      "\u001b[32m2024-05-06 19:54:15\u001b[0m\u001b[31m | \u001b[0m\u001b[33m0 day(s) 00:00:06\u001b[0m\u001b[31m | \u001b[0m\u001b[1mINFO\u001b[0m\u001b[31m | \u001b[0m\u001b[1mdownloading file: [REMOTE] /home/testuser/testdir/example_dir/xmlfile.xml -> [LOCAL] ./examples/example_dir.remote_download\\xmlfile.xml\u001b[0m\n",
      "\u001b[32m2024-05-06 19:54:15\u001b[0m\u001b[31m | \u001b[0m\u001b[33m0 day(s) 00:00:06\u001b[0m\u001b[31m | \u001b[0m\u001b[32m\u001b[1mSUCCESS\u001b[0m\u001b[31m | \u001b[0m\u001b[32m\u001b[1mfile downloaded\u001b[0m\n",
      "\u001b[32m2024-05-06 19:54:15\u001b[0m\u001b[31m | \u001b[0m\u001b[33m0 day(s) 00:00:06\u001b[0m\u001b[31m | \u001b[0m\u001b[1mINFO\u001b[0m\u001b[31m | \u001b[0m\u001b[1mdownloading file: [REMOTE] /home/testuser/testdir/example_dir/yamlfile.yaml -> [LOCAL] ./examples/example_dir.remote_download\\yamlfile.yaml\u001b[0m\n",
      "\u001b[32m2024-05-06 19:54:15\u001b[0m\u001b[31m | \u001b[0m\u001b[33m0 day(s) 00:00:07\u001b[0m\u001b[31m | \u001b[0m\u001b[32m\u001b[1mSUCCESS\u001b[0m\u001b[31m | \u001b[0m\u001b[32m\u001b[1mfile downloaded\u001b[0m\n",
      "\u001b[32m2024-05-06 19:54:15\u001b[0m\u001b[31m | \u001b[0m\u001b[33m0 day(s) 00:00:07\u001b[0m\u001b[31m | \u001b[0m\u001b[32m\u001b[1mSUCCESS\u001b[0m\u001b[31m | \u001b[0m\u001b[32m\u001b[1mdirectory downloaded\u001b[0m\n"
     ]
    },
    {
     "data": {
      "text/plain": [
       "True"
      ]
     },
     "execution_count": 14,
     "metadata": {},
     "output_type": "execute_result"
    }
   ],
   "source": [
    "sftp_api.download_dir(remote_path=\"/home/testuser/testdir/example_dir\",\n",
    "                      local_path=\"./examples/example_dir.remote_download\",\n",
    "                      remote_platform=\"linux\")"
   ]
  },
  {
   "cell_type": "markdown",
   "metadata": {},
   "source": [
    "Using the a callback function to show the progress of the transmission is also available for uploading and downloading a directory."
   ]
  },
  {
   "cell_type": "markdown",
   "metadata": {},
   "source": [
    "### 2.5 Other remote file operations\n",
    "\n",
    "Supported methods:\n",
    "- `remote_exists()`: check if a remote path exists\n",
    "- `remote_is_file()`: check if a remote path is a file\n",
    "- `remote_is_dir()`: check if a remote path is a directory\n",
    "- `remote_mkdir()`: make a directory on the remote server\n",
    "- `remote_listdir()`: list a remote directory"
   ]
  },
  {
   "cell_type": "markdown",
   "metadata": {},
   "source": [
    "You can check if a remote path exists by calling `remote_exists()`."
   ]
  },
  {
   "cell_type": "code",
   "execution_count": 15,
   "metadata": {},
   "outputs": [
    {
     "data": {
      "text/plain": [
       "True"
      ]
     },
     "execution_count": 15,
     "metadata": {},
     "output_type": "execute_result"
    }
   ],
   "source": [
    "sftp_api.remote_exists(remote_path=\"/home/testuser/testdir/jsonfile.json\", remote_platform=\"linux\")"
   ]
  },
  {
   "cell_type": "markdown",
   "metadata": {},
   "source": [
    "You can check if a remote path is a file by calling `remote_is_file()` or if is a directory by calling `remote_is_dir()`."
   ]
  },
  {
   "cell_type": "code",
   "execution_count": 16,
   "metadata": {},
   "outputs": [
    {
     "data": {
      "text/plain": [
       "True"
      ]
     },
     "execution_count": 16,
     "metadata": {},
     "output_type": "execute_result"
    }
   ],
   "source": [
    "sftp_api.remote_is_file(remote_path=\"/home/testuser/testdir/jsonfile.json\", remote_platform=\"linux\")"
   ]
  },
  {
   "cell_type": "code",
   "execution_count": 17,
   "metadata": {},
   "outputs": [
    {
     "data": {
      "text/plain": [
       "True"
      ]
     },
     "execution_count": 17,
     "metadata": {},
     "output_type": "execute_result"
    }
   ],
   "source": [
    "sftp_api.remote_is_dir(remote_path=\"/home/testuser/testdir/example_dir\", remote_platform=\"linux\")"
   ]
  },
  {
   "cell_type": "markdown",
   "metadata": {},
   "source": [
    "You can make a remote directory by calling `remote_mkdir()`."
   ]
  },
  {
   "cell_type": "code",
   "execution_count": 18,
   "metadata": {},
   "outputs": [
    {
     "name": "stderr",
     "output_type": "stream",
     "text": [
      "\u001b[32m2024-05-06 19:54:16\u001b[0m\u001b[31m | \u001b[0m\u001b[33m0 day(s) 00:00:07\u001b[0m\u001b[31m | \u001b[0m\u001b[1mINFO\u001b[0m\u001b[31m | \u001b[0m\u001b[1mcreating remote directory: /home/testuser/testdir/new_remote_dir\u001b[0m\n",
      "\u001b[32m2024-05-06 19:54:16\u001b[0m\u001b[31m | \u001b[0m\u001b[33m0 day(s) 00:00:07\u001b[0m\u001b[31m | \u001b[0m\u001b[32m\u001b[1mSUCCESS\u001b[0m\u001b[31m | \u001b[0m\u001b[32m\u001b[1mdirectory created\u001b[0m\n"
     ]
    },
    {
     "data": {
      "text/plain": [
       "True"
      ]
     },
     "execution_count": 18,
     "metadata": {},
     "output_type": "execute_result"
    }
   ],
   "source": [
    "sftp_api.remote_mkdir(remote_path=\"/home/testuser/testdir/new_remote_dir\", remote_platform=\"linux\")"
   ]
  },
  {
   "cell_type": "markdown",
   "metadata": {},
   "source": [
    "You can list a remote directory by calling `remote_listdir()`."
   ]
  },
  {
   "cell_type": "code",
   "execution_count": 19,
   "metadata": {},
   "outputs": [
    {
     "data": {
      "text/plain": [
       "['/home/testuser/testdir/YOLOv9.pdf',\n",
       " '/home/testuser/testdir/new_remote_dir',\n",
       " '/home/testuser/testdir/jsonfile.json',\n",
       " '/home/testuser/testdir/example_dir']"
      ]
     },
     "execution_count": 19,
     "metadata": {},
     "output_type": "execute_result"
    }
   ],
   "source": [
    "sftp_api.remote_listdir(remote_path=\"/home/testuser/testdir\", remote_platform=\"linux\")"
   ]
  },
  {
   "cell_type": "markdown",
   "metadata": {},
   "source": [
    "### 2.6 Close connection\n",
    "\n",
    "After using the sftp connection, don't forget to close the connection by calling `close()`."
   ]
  },
  {
   "cell_type": "code",
   "execution_count": 20,
   "metadata": {},
   "outputs": [
    {
     "name": "stderr",
     "output_type": "stream",
     "text": [
      "\u001b[32m2024-05-06 19:54:16\u001b[0m\u001b[31m | \u001b[0m\u001b[33m0 day(s) 00:00:07\u001b[0m\u001b[31m | \u001b[0m\u001b[1mINFO\u001b[0m\u001b[31m | \u001b[0m\u001b[1msftp connection closed\u001b[0m\n"
     ]
    }
   ],
   "source": [
    "sftp_api.close()"
   ]
  }
 ],
 "metadata": {
  "kernelspec": {
   "display_name": "mlcbase_py10",
   "language": "python",
   "name": "python3"
  },
  "language_info": {
   "codemirror_mode": {
    "name": "ipython",
    "version": 3
   },
   "file_extension": ".py",
   "mimetype": "text/x-python",
   "name": "python",
   "nbconvert_exporter": "python",
   "pygments_lexer": "ipython3",
   "version": "3.10.14"
  }
 },
 "nbformat": 4,
 "nbformat_minor": 2
}
